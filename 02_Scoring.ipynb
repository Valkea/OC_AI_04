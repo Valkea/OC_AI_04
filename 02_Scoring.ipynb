{
 "cells": [
  {
   "cell_type": "markdown",
   "id": "b476f966-e0ee-430a-a13b-8ae56da018b7",
   "metadata": {},
   "source": [
    "# Menu <a class=\"anchor\" id=\"menu\"></a>\n",
    "* [1. Exploratory Data Analysis (EDA)](#eda)\n",
    "* [2. Experimenting various models](#models)\n",
    "    * [2.0 Preparing the dataset](#models_prepare)\n",
    "    * [2.1 Establishing a baseline with DummyClassifier](#models_dummy)\n",
    "    * [2.2 Logistic Regression](#models_linear)\n",
    "    * [2.3 Decision Tree](#models_decision_tree)\n",
    "    * [2.4 Random Forest](#models_random_forest)\n",
    "    * [2.5 XGBoost](#models_xgboost)\n",
    "* [3. Impoving the models with GreadSearchCV](#models_grid)\n",
    "    * [3.1 Logistic Regression Grid](#models_linear_grid)\n",
    "    * [3.2 Decision Tree Grid](#models_decision_tree_grid)\n",
    "    * [3.3 Random Forest Grid](#models_random_forest_grid)\n",
    "    * [3.4 XGBoost Grid](#models_xgboost_grid)\n",
    "* [4. Impoving the models with solutions for Imbalanced datasets](#models_balanced)\n",
    "    * [4.1 Balanced Logistic Regression Grid](#models_linear_balanced)\n",
    "    * [4.2 Balanced Decision Tree Grid](#models_decision_tree_balanced)\n",
    "    * [4.3 Balanced Random Forest Grid](#models_random_forest_balanced)\n",
    "    * [4.4 Balanced XGBoost Grid](#models_xgboost_balanced)"
   ]
  },
  {
   "cell_type": "code",
   "execution_count": 1,
   "id": "05b4e72a-46f9-4866-a8b3-be2c1a44d00f",
   "metadata": {},
   "outputs": [],
   "source": [
    "import time\n",
    "import copy as cp\n",
    "\n",
    "import pandas as pd\n",
    "import numpy as np\n",
    "\n",
    "import matplotlib.pyplot as plt\n",
    "import seaborn as sns\n",
    "import plotly_express as px\n",
    "\n",
    "from zipfile import ZipFile"
   ]
  },
  {
   "cell_type": "markdown",
   "id": "441db4f7-3535-4536-b077-e67b653c499d",
   "metadata": {},
   "source": [
    "#### ---- Let's load the columns selected in the EDA ----"
   ]
  },
  {
   "cell_type": "code",
   "execution_count": 2,
   "id": "6d89a728-bdd1-436d-a1ad-f2ff596fc511",
   "metadata": {},
   "outputs": [],
   "source": [
    "filename = 'data/dtypes_low.csv'\n",
    "\n",
    "dtypes_df = pd.read_csv(filename, sep=',', index_col=0)\n",
    "\n",
    "cols_to_keep = dtypes_df.columns\n",
    "dtypes = dtypes_df.to_dict('records')[0]"
   ]
  },
  {
   "cell_type": "markdown",
   "id": "01fe8dfe-b0a8-4e88-b8e2-a4c65972caa7",
   "metadata": {},
   "source": [
    "#### \\<test>"
   ]
  },
  {
   "cell_type": "raw",
   "id": "163c65c8-1abc-43a4-8ad6-8168ef90cc93",
   "metadata": {},
   "source": [
    "cols_to_keep = (set(cols_to_keep) | set(['HOUSETYPE_MODE'])) - set(['EMERGENCYSTATE_MODE']) "
   ]
  },
  {
   "cell_type": "markdown",
   "id": "1edb8a5a-aa1e-4268-baf3-bde70bf480f3",
   "metadata": {},
   "source": [
    "#### \\<\\test>"
   ]
  },
  {
   "cell_type": "code",
   "execution_count": 3,
   "id": "a8101dc0-7629-49a4-aa47-cebd30e22c32",
   "metadata": {},
   "outputs": [],
   "source": [
    "zip_file = ZipFile('data/Projet+Mise+en+prod+-+home-credit-default-risk.zip')"
   ]
  },
  {
   "cell_type": "code",
   "execution_count": 4,
   "id": "e61afcbe-766f-4683-b829-f68ed9b384f1",
   "metadata": {},
   "outputs": [
    {
     "data": {
      "text/plain": [
       "(307511, 122)"
      ]
     },
     "execution_count": 4,
     "metadata": {},
     "output_type": "execute_result"
    }
   ],
   "source": [
    "data_application_train = pd.read_csv(\n",
    "    zip_file.open('application_train.csv'),\n",
    "    #dtype=dtypes, \n",
    "    ######usecols=cols_to_keep,\n",
    "    na_values=[\"XNA\", \"Unknown\"], \n",
    "    true_values=[\"Y\", \"Yes\", \"1\"], \n",
    "    false_values=[\"N\", \"No\", \"0\"]\n",
    ")\n",
    "\n",
    "pd.options.display.max_columns = data_application_train.shape[0]\n",
    "pd.options.display.max_rows = 100\n",
    "\n",
    "data_application_train.shape"
   ]
  },
  {
   "cell_type": "markdown",
   "id": "ada591a5-5b8d-48ee-a5cd-ede36cb1e853",
   "metadata": {},
   "source": [
    "#### \\<test>"
   ]
  },
  {
   "cell_type": "raw",
   "id": "6ed6874e-21d1-4a0f-aef6-ba1ba747b273",
   "metadata": {},
   "source": [
    "data_application_train.drop(columns=DROP_SELECT2, inplace=True )\n",
    "data_application_train.shape"
   ]
  },
  {
   "cell_type": "markdown",
   "id": "f93f9361-842c-4435-b900-80ca5a9e8c2e",
   "metadata": {},
   "source": [
    "#### \\<\\test>"
   ]
  },
  {
   "cell_type": "markdown",
   "id": "2bb25eab-1a24-43cc-a174-c80eb8a38d9b",
   "metadata": {},
   "source": [
    "## Feature Engigeering"
   ]
  },
  {
   "cell_type": "code",
   "execution_count": 5,
   "id": "284fb4cf-c2b3-40b6-a12a-48c22fe6a4d7",
   "metadata": {},
   "outputs": [],
   "source": [
    "sample_size_base = 30000\n",
    "sample_size_grid = 10000\n",
    "data_clean = data_application_train[:sample_size_base].copy()"
   ]
  },
  {
   "cell_type": "code",
   "execution_count": 6,
   "id": "3d266f7e-f3ba-435a-ba67-48f0e5d85946",
   "metadata": {},
   "outputs": [],
   "source": [
    "import missingno as msno"
   ]
  },
  {
   "cell_type": "markdown",
   "id": "21632379-88e5-4e90-bfa1-62b9828bd215",
   "metadata": {},
   "source": [
    "# Experimenting various models <a class=\"anchor\" id=\"models\"></a> [⇪](#menu)"
   ]
  },
  {
   "cell_type": "markdown",
   "id": "dd9b4e93-8f0d-4d3d-9362-cba40bead807",
   "metadata": {},
   "source": [
    "## 0. Preparing the dataset <a class=\"anchor\" id=\"models_prepare\"></a> [⇪](#menu)"
   ]
  },
  {
   "cell_type": "markdown",
   "id": "1c266f58-8693-4ca5-ba7a-1b2225ec73d7",
   "metadata": {},
   "source": [
    "### Splitting the dataset between `train`, `validation` and `test` sets\n",
    "\n",
    "- The `training set` is used to train various models.\n",
    "- The `validation set` is used to select a model: we choose the one with the best performance on this set.\n",
    "- The `test set` is used to estimate the generalization performance of the selected model.\n",
    "\n",
    "Alternatively, instead of creating those three sets, we can separate the data into only two parts: a `training set` and a `test set` and then do a cross-validation on the `training set`. This allows us to choose a model (the one with the best performance), which we will then train on the whole `training set` and test on the `test set`. It is this final performance that is the best approximation of the performance that the model will be able to achieve on new data."
   ]
  },
  {
   "cell_type": "code",
   "execution_count": 7,
   "id": "14468b58-4876-4a60-93b5-59d4b5022a68",
   "metadata": {},
   "outputs": [],
   "source": [
    "from sklearn.model_selection import train_test_split"
   ]
  },
  {
   "cell_type": "code",
   "execution_count": 8,
   "id": "f34e6d66-5af6-49ab-a6d0-1fabeaa7a45b",
   "metadata": {},
   "outputs": [],
   "source": [
    "X_full = data_clean.copy()\n",
    "X_full.drop(['TARGET'], axis=1, inplace=True)\n",
    "\n",
    "Y_full = data_clean['TARGET']"
   ]
  },
  {
   "cell_type": "code",
   "execution_count": 9,
   "id": "9e2c8291-a75e-469c-9b97-2f5a82d71a42",
   "metadata": {},
   "outputs": [],
   "source": [
    "#X_train_full, X_test, y_train_full, y_test = train_test_split(\n",
    "X_train, X_test, y_train, y_test = train_test_split(\n",
    "                                                X_full, \n",
    "                                                Y_full, \n",
    "                                                test_size=0.10,\n",
    "                                                random_state=0,\n",
    "                                                stratify=Y_full)"
   ]
  },
  {
   "cell_type": "raw",
   "id": "097a36ee-e0a4-4952-9eba-6c263075ff76",
   "metadata": {},
   "source": [
    "X_train, X_valid, y_train, y_valid = train_test_split(\n",
    "                                                X_train_full, \n",
    "                                                y_train_full, \n",
    "                                                test_size=X_test.shape[0], \n",
    "                                                random_state=0,\n",
    "                                                stratify=y_train_full)"
   ]
  },
  {
   "cell_type": "raw",
   "id": "416072e4-90e4-4e91-98fd-5d4ee89bf992",
   "metadata": {},
   "source": [
    "print(f\"X_train: {X_train.shape[0] / X_full.shape[0] * 100}% | X_valid: {X_valid.shape[0] / X_full.shape[0] * 100}% | X_test: {X_test.shape[0] / X_full.shape[0]* 100}%\")"
   ]
  },
  {
   "cell_type": "markdown",
   "id": "e890f0e5-5845-4249-887d-98ab3b5694bb",
   "metadata": {},
   "source": [
    "### Encoding the qualitative variables"
   ]
  },
  {
   "cell_type": "code",
   "execution_count": 10,
   "id": "37dda5ec-15cb-4346-82dc-afb744c94bd4",
   "metadata": {},
   "outputs": [],
   "source": [
    "from sklearn.preprocessing import LabelEncoder, OneHotEncoder, OrdinalEncoder"
   ]
  },
  {
   "cell_type": "code",
   "execution_count": 11,
   "id": "939ac024-bc11-470d-9ae3-ff508e3efef8",
   "metadata": {},
   "outputs": [],
   "source": [
    "#oe_targets = [x for x in X_train_full.select_dtypes(exclude='number').columns if X_train_full[x].nunique() == 2]\n",
    "#ohe_targets = [x for x in X_train_full.select_dtypes(exclude='number').columns if X_train_full[x].nunique() > 2]\n",
    "\n",
    "oe_targets = [x for x in X_train.select_dtypes(exclude='number').columns if X_train[x].nunique() == 2]\n",
    "ohe_targets = [x for x in X_train.select_dtypes(exclude='number').columns if X_train[x].nunique() > 2]"
   ]
  },
  {
   "cell_type": "code",
   "execution_count": 12,
   "id": "19f921bd-8ad9-4bee-a172-2a09759578c2",
   "metadata": {},
   "outputs": [],
   "source": [
    "def fit_labels(data):\n",
    "    \"\"\" Prepare the encoder for the ordinal columns.\n",
    "    - Columns with 2 unique values are encoded using an OrdinalEncoder\n",
    "    - Columns with more than 2 unique values are encoded using a OneHotEncoder\n",
    "        \n",
    "    Parameters\n",
    "    ----------\n",
    "    data: pandas' DataFrame\n",
    "        The dataset used as reference for the label encoders\n",
    "        \n",
    "    Returns\n",
    "    -------\n",
    "    OrdinalEncoder\n",
    "        the OE instance used to encode columns with 2 unique values\n",
    "    OneHotEncoder\n",
    "        the OHE instance used to encode columns with 3+ unique values\n",
    "    \"\"\"\n",
    "    \n",
    "    oe_targets = []\n",
    "    ohe_targets = []\n",
    "    \n",
    "    for col in data.select_dtypes(exclude='number').columns:\n",
    "        if data[col].nunique() == 2:\n",
    "            oe_targets.append(col)\n",
    "        else:\n",
    "            ohe_targets.append(col)\n",
    "        \n",
    "    # OrdinalEncoder\n",
    "    oe = OrdinalEncoder()\n",
    "    oe.fit(data[oe_targets])\n",
    "    \n",
    "    # OneHotEncoder\n",
    "    ohe = OneHotEncoder(sparse=False)\n",
    "    ohe.fit(data[ohe_targets])\n",
    "    \n",
    "    return oe, ohe\n",
    "\n",
    "def transform_labels(data, oe_model, ohe_mode):\n",
    "    \"\"\" Transform the provided dataset using the provided encoders.\n",
    "            \n",
    "    Parameters\n",
    "    ----------\n",
    "    data: pandas' DataFrame\n",
    "        The dataset that needs to be label encoded\n",
    "        \n",
    "    Returns\n",
    "    -------\n",
    "    DataFrame\n",
    "        a new dataframe with the encoded labels instead of the non encoded ones\n",
    "    \"\"\"\n",
    "    dt = data.copy()\n",
    "    \n",
    "    # OrdinalEncoder\n",
    "    dt[oe_model.feature_names_in_] = oe_model.transform(dt[oe_model.feature_names_in_])\n",
    "    \n",
    "    # OneHotEncoder\n",
    "    array_hot_encoded = ohe_model.transform(dt[ohe_model.feature_names_in_])\n",
    "    data_hot_encoded = pd.DataFrame(array_hot_encoded, index=dt.index, columns=ohe_model.get_feature_names_out())\n",
    "    data_other_cols = dt.drop(columns=ohe_model.feature_names_in_)\n",
    "    dt = pd.concat([data_hot_encoded, data_other_cols], axis=1)\n",
    "    \n",
    "    return dt"
   ]
  },
  {
   "cell_type": "markdown",
   "id": "c96275dd-f6df-4065-ac94-df1e0aa00556",
   "metadata": {},
   "source": [
    "#### Fit the encoders"
   ]
  },
  {
   "cell_type": "code",
   "execution_count": 13,
   "id": "5faf7fa9-a7a5-42f1-a4ed-a2e4cbfabcb5",
   "metadata": {},
   "outputs": [],
   "source": [
    "oe_model, ohe_model = fit_labels(X_train)"
   ]
  },
  {
   "cell_type": "markdown",
   "id": "6c4b0014-9202-44b3-9457-e8035edc7bc0",
   "metadata": {},
   "source": [
    "#### Transform the `training`, `validation` and `testing` sets"
   ]
  },
  {
   "cell_type": "code",
   "execution_count": 14,
   "id": "031b91f0-d6b3-4e6c-9536-bb1678873a45",
   "metadata": {},
   "outputs": [],
   "source": [
    "#X_train_full = transform_labels(X_train_full, oe_model, ohe_model)\n",
    "X_train = transform_labels(X_train, oe_model, ohe_model)\n",
    "#X_valid = transform_labels(X_valid, oe_model, ohe_model)\n",
    "X_test = transform_labels(X_test, oe_model, ohe_model)"
   ]
  },
  {
   "cell_type": "markdown",
   "id": "b58902b4-de7d-4e0b-a67a-740dab570b99",
   "metadata": {},
   "source": [
    "### Imputations"
   ]
  },
  {
   "cell_type": "code",
   "execution_count": 15,
   "id": "168b8c92-47af-4082-85c0-3ef9c60a2f26",
   "metadata": {},
   "outputs": [],
   "source": [
    "from sklearn.experimental import enable_iterative_imputer\n",
    "from sklearn.impute import SimpleImputer, IterativeImputer"
   ]
  },
  {
   "cell_type": "code",
   "execution_count": 16,
   "id": "d589f3e4-2f22-4df2-9968-2b100bcf3be4",
   "metadata": {},
   "outputs": [],
   "source": [
    "def fit_imputer(data, columns):\n",
    "    \n",
    "    imputer = SimpleImputer(strategy='median')\n",
    "    #imputer = IterativeImputer(\n",
    "    #    imputation_order='ascending', \n",
    "    #    random_state=0, \n",
    "        #min_value=0, \n",
    "        #max_value=max_values_imput\n",
    "    #    n_nearest_features = 10,\n",
    "    #)\n",
    "    imputer.fit(data[columns])\n",
    "    \n",
    "    return imputer\n",
    "\n",
    "def impute(data, imputer):\n",
    "    \n",
    "    dt = data.copy()\n",
    "    dt_imput = pd.DataFrame(imputer.transform(dt[imputer.feature_names_in_]), index=dt.index, columns=imputer.feature_names_in_)\n",
    "    dt[imputer.feature_names_in_] = dt_imput\n",
    "    print(dt.shape, type(dt))\n",
    "    \n",
    "    return dt"
   ]
  },
  {
   "cell_type": "code",
   "execution_count": 17,
   "id": "4d65d262-ae88-42bd-ae8b-b2d3d81b6299",
   "metadata": {},
   "outputs": [],
   "source": [
    "imputer_model = fit_imputer(X_train, X_train.select_dtypes(include='number').columns)"
   ]
  },
  {
   "cell_type": "code",
   "execution_count": 18,
   "id": "fc7fc953-7962-4a69-bd86-85bddac2c27a",
   "metadata": {},
   "outputs": [
    {
     "name": "stdout",
     "output_type": "stream",
     "text": [
      "(27000, 242) <class 'pandas.core.frame.DataFrame'>\n",
      "(3000, 242) <class 'pandas.core.frame.DataFrame'>\n"
     ]
    }
   ],
   "source": [
    "#X_train_full = impute(X_train_full, imputer_model)\n",
    "X_train = impute(X_train, imputer_model)\n",
    "#X_valid = impute(X_valid, imputer_model)\n",
    "X_test = impute(X_test, imputer_model)"
   ]
  },
  {
   "cell_type": "code",
   "execution_count": 19,
   "id": "90211455-b7f1-4d1c-8845-628b34405810",
   "metadata": {},
   "outputs": [
    {
     "data": {
      "text/plain": [
       "<AxesSubplot:>"
      ]
     },
     "execution_count": 19,
     "metadata": {},
     "output_type": "execute_result"
    },
    {
     "data": {
      "image/png": "[encoded data removed]",
      "text/plain": [
       "<Figure size 1800x720 with 2 Axes>"
      ]
     },
     "metadata": {
      "needs_background": "light"
     },
     "output_type": "display_data"
    }
   ],
   "source": [
    "msno.matrix(X_train)"
   ]
  },
  {
   "cell_type": "markdown",
   "id": "f8687e1c-5a27-44e2-b60f-0c0929271060",
   "metadata": {},
   "source": [
    "### Normalizing the dataset"
   ]
  },
  {
   "cell_type": "code",
   "execution_count": 20,
   "id": "2f047d48-7d30-4d44-bd43-0cbeab3d7dc4",
   "metadata": {},
   "outputs": [],
   "source": [
    "from sklearn.preprocessing import RobustScaler"
   ]
  },
  {
   "cell_type": "code",
   "execution_count": 21,
   "id": "462517d1-5d4a-4b73-9b13-cf97146be6a0",
   "metadata": {},
   "outputs": [],
   "source": [
    "def fit_normalizer(data):\n",
    "       \n",
    "    robust_scaler = RobustScaler()\n",
    "    robust_scaler.fit(data)\n",
    "    \n",
    "    return robust_scaler\n",
    "\n",
    "def normalize(data, robust_scaler):\n",
    "    \n",
    "    dt = data.copy()\n",
    "    dt = pd.DataFrame(robust_scaler.transform(dt), index=dt.index, columns=dt.columns)\n",
    "    \n",
    "    return dt"
   ]
  },
  {
   "cell_type": "code",
   "execution_count": 22,
   "id": "1aa676a2-1f5d-4af9-8233-d5bcea1f8c33",
   "metadata": {},
   "outputs": [],
   "source": [
    "model_scaler = fit_normalizer(X_train)"
   ]
  },
  {
   "cell_type": "code",
   "execution_count": 23,
   "id": "ff58880c-f7fc-479e-ba42-30267180de45",
   "metadata": {},
   "outputs": [],
   "source": [
    "#X_train_full = normalize(X_train_full, model_scaler)\n",
    "X_train = normalize(X_train, model_scaler)\n",
    "#X_valid = normalize(X_valid, model_scaler)\n",
    "X_test = normalize(X_test, model_scaler)"
   ]
  },
  {
   "cell_type": "markdown",
   "id": "e2fcbc1e-8ee8-4a11-a681-7dc2c207438d",
   "metadata": {},
   "source": [
    "### Define some report functions"
   ]
  },
  {
   "cell_type": "code",
   "execution_count": 24,
   "id": "d9004606-4801-4663-90e6-ac2444495602",
   "metadata": {},
   "outputs": [],
   "source": [
    "from sklearn.metrics import accuracy_score, recall_score, precision_score, roc_auc_score, roc_curve, classification_report, confusion_matrix, ConfusionMatrixDisplay, RocCurveDisplay, f1_score, average_precision_score"
   ]
  },
  {
   "cell_type": "code",
   "execution_count": 25,
   "id": "16d435e6-01f4-42e8-9859-64d0ffddbbdd",
   "metadata": {},
   "outputs": [],
   "source": [
    "def print_classification_report(y_true, y_pred):\n",
    "    report = classification_report(y_true, y_pred, labels=[0,1], target_names=['Prediction = 0', 'Prediction = 1'], zero_division=0)\n",
    "    print(\"--- Classification Report ---\\n\\n\", report)"
   ]
  },
  {
   "cell_type": "code",
   "execution_count": 26,
   "id": "f4702e28-ea9b-4306-b9d1-fe883e08c5d8",
   "metadata": {},
   "outputs": [],
   "source": [
    "def print_confusion_matrix(y_true, y_pred):\n",
    "    cm = confusion_matrix(y_true, y_pred, labels=[0,1])\n",
    "    disp = ConfusionMatrixDisplay(confusion_matrix=cm, display_labels=[0,1])\n",
    "    fig, ax = plt.subplots(figsize=(6,6))\n",
    "    disp.plot(ax=ax)\n",
    "    print(\"--- Confusion Matrix ---\\n\")\n",
    "    plt.show()"
   ]
  },
  {
   "cell_type": "code",
   "execution_count": 27,
   "id": "9641ba63-0b39-47bb-babf-6618687acc24",
   "metadata": {},
   "outputs": [],
   "source": [
    "def print_rocauc(y_true, y_pred_dict, figsize=[5,5], ax=None):\n",
    "    \n",
    "    print(f\"--- ROC AUC ---\\n\")\n",
    "    auc_scores = {}\n",
    "    last_index = len(y_pred_dict)\n",
    "\n",
    "    if ax == None:\n",
    "        figure = plt.figure(figsize=figsize)\n",
    "        ax = plt\n",
    "\n",
    "    for i, (model_name, y_pred) in enumerate(y_pred_dict.items()):\n",
    "        alpha_v = 1 if i == last_index-1 else 0.5\n",
    "        \n",
    "        roc_score = roc_auc_score(y_true, y_pred)\n",
    "        fpr, tpr, thresholds = roc_curve(y_true, y_pred)\n",
    "        \n",
    "        ax.plot(fpr, tpr, label=f\"{model_name} ({roc_score:.2f})\", alpha=alpha_v)\n",
    "        auc_scores[model_name] = roc_score\n",
    "            \n",
    "    ax.plot([0, 1], [0, 1], label='Random (0.5)', linestyle='--', color='red', alpha=0.5)\n",
    "    plt.xlabel('FPR (Positive label: 1)')\n",
    "    plt.ylabel('TPR (Positive label: 1)')\n",
    "    #plt.legend()\n",
    "    ax.legend(loc='center left', bbox_to_anchor=(1, 0.5))\n",
    "    \n",
    "    plt.show()\n",
    "    \n",
    "    return auc_scores"
   ]
  },
  {
   "cell_type": "code",
   "execution_count": 28,
   "id": "a7994efd-3af6-4bd7-a420-80c34f734bf7",
   "metadata": {},
   "outputs": [],
   "source": [
    "from sklearn.metrics import precision_recall_curve\n",
    "\n",
    "def print_prauc(y_true, y_pred_dict, figsize=[5,5], ax=None):\n",
    "    \n",
    "    print(f\"--- PRECISION RECALL AUC ---\\n\")\n",
    "    auc_scores = {}\n",
    "    last_index = len(y_pred_dict)\n",
    "\n",
    "    if ax == None:\n",
    "        figure = plt.figure(figsize=figsize)\n",
    "        ax = plt\n",
    "\n",
    "    for i, (model_name, y_pred) in enumerate(y_pred_dict.items()):\n",
    "        alpha_v = 1 if i == last_index-1 else 0.5\n",
    "        \n",
    "        pr_score = average_precision_score(y_true, y_pred)\n",
    "        precision, recall, thresholds = precision_recall_curve(y_true, y_pred)\n",
    "        \n",
    "        ax.plot(recall, precision, label=f\"{model_name} ({pr_score:.2f})\", alpha=alpha_v)\n",
    "        auc_scores[model_name] = pr_score\n",
    "        \n",
    "    no_skill = len(y_true[y_true==1]) / len(y_true)            \n",
    "    ax.plot([0, 1], [no_skill, no_skill], label='No skill', linestyle='--', color='red', alpha=0.5)\n",
    "    ax.plot([1, 0], [0, 1], label='Balanced', linestyle='--', color='green', alpha=0.5)\n",
    "    plt.xlabel('Recall')\n",
    "    plt.ylabel('Precision')\n",
    "    #plt.legend()\n",
    "    ax.legend(loc='center left', bbox_to_anchor=(1, 0.5))\n",
    "    \n",
    "    plt.show()\n",
    "    \n",
    "    return auc_scores"
   ]
  },
  {
   "cell_type": "code",
   "execution_count": 29,
   "id": "ba39e00a-2838-4a74-b2cc-bf4610a62046",
   "metadata": {},
   "outputs": [],
   "source": [
    "scores_df = pd.DataFrame(columns=['Method', 'threshold', 'params', 'ROC AUC', 'PR AUC', 'F1 score', 'Accuracy', 'Precision', 'Recall', 'TP', 'TN', 'FP', 'FN', 'Training time', 'Inference time'])\n",
    "y_preds = {}\n",
    "scores_path = 'data/scores.csv'\n",
    "scores_df.to_csv(scores_path, index=False)\n",
    "\n",
    "def get_scores(method_name, model, X_ref=None, y_ref=None, param_grid=None, threshold=None, training_time=None, inference_time=None, register=False, simple=False, show_classification=True, show_confusion=True, show_roccurves=True, **scores):\n",
    "    \n",
    "    if X_ref is None:\n",
    "        #X_ref = X_valid\n",
    "        X_ref = X_test\n",
    "        \n",
    "    if y_ref is None:\n",
    "        #y_ref = y_valid\n",
    "        y_ref = y_test\n",
    "    \n",
    "    y_pred, y_pred_proba, inference_time = predict(model, X_ref, threshold)\n",
    "\n",
    "    \n",
    "    rocauc_value = scores.get('roc_auc', None)\n",
    "    f1_value =  scores.get('f1', None)\n",
    "    accuracy_value =  scores.get('accuracy', None)\n",
    "    precision_value =  scores.get('precision', None)\n",
    "    recall_value = scores.get('recall', None)\n",
    "    prauc_value = scores.get('average_precision', None)\n",
    "        \n",
    "    cm = confusion_matrix(y_ref, y_pred, labels=[0,1])\n",
    "    TN, FP, FN, TP = cm[0][0], cm[0][1], cm[1][0], cm[1][1]\n",
    "    \n",
    "    # Register score and replace if it already exists\n",
    "    if register:\n",
    "        threshold = threshold if threshold else 0.5\n",
    "        idx = np.where(scores_df.Method == method_name)[0]        \n",
    "        idx = idx[0] if idx.size > 0 else len(scores_df.index)\n",
    "        scores_df.loc[idx] = [method_name, threshold, param_grid, rocauc_value, prauc_value, f1_value, accuracy_value, precision_value, recall_value, TP, TN, FP, FN, training_time, inference_time]\n",
    "        \n",
    "        scores_df.to_csv(scores_path, index=False)\n",
    "    \n",
    "    # Basic report\n",
    "    scores_str = \"\"\n",
    "    for key in scores.keys():\n",
    "        if type(scores[key]) == np.float64:\n",
    "            scores_str += f\"{key.upper().rjust(20)} : {scores[key]:.4f}\\n\"\n",
    "    print(f\"--- {method_name} ---\\n\\n{scores_str}\")\n",
    "          \n",
    "    \n",
    "    if simple:\n",
    "        return\n",
    "    \n",
    "    print('-'*100,'The informations below this line are based on the best estimator of the cross-validation'.center(100,), '-'*100, sep='\\n', end='\\n\\n')\n",
    "    \n",
    "    # Classification report\n",
    "    if show_classification:\n",
    "        print_classification_report(y_ref, y_pred)\n",
    "    \n",
    "    # Confusion Matrix\n",
    "    if show_confusion:\n",
    "        print_confusion_matrix(y_ref, y_pred)\n",
    "    \n",
    "    # ROC AUC curves\n",
    "    if show_roccurves:\n",
    "        y_preds[method_name] = y_pred_proba\n",
    "        print_rocauc(y_ref, y_preds)\n",
    "        print_prauc(y_ref, y_preds)"
   ]
  },
  {
   "cell_type": "code",
   "execution_count": 30,
   "id": "6f137a89-86fd-493d-9be2-d43f156f6f9e",
   "metadata": {},
   "outputs": [],
   "source": [
    "def predict(model, X_ref, threshold=None):\n",
    "    t0 = time.perf_counter()\n",
    "    \n",
    "    y_pred_proba = model.predict_proba(X_ref)[:,1]\n",
    "    if threshold:\n",
    "        y_pred = get_labels_from_threshold(y_pred_proba, threshold)\n",
    "    else:\n",
    "        y_pred = model.predict(X_ref)\n",
    "    \n",
    "    tt = time.perf_counter() - t0\n",
    "    return y_pred, y_pred_proba, tt"
   ]
  },
  {
   "cell_type": "code",
   "execution_count": 31,
   "id": "cd2118a4-7cbd-4994-992f-b41f452c0408",
   "metadata": {},
   "outputs": [],
   "source": [
    "def get_labels_from_threshold(y_proba, threshold):\n",
    "    return (y_proba >= threshold).astype('int')\n",
    "\n",
    "def find_best_threshold(model, X_valid, y_valid, eval_function ):\n",
    "\n",
    "    best_threshold = 0.0\n",
    "    best_score = 0.0\n",
    "    y_pred_proba = model.predict_proba(X_valid)[:,1]\n",
    "    \n",
    "    for threshold in np.arange(0, 1, 0.001):\n",
    "        \n",
    "        y_pred_threshold = get_labels_from_threshold(y_pred_proba, threshold)\n",
    "        \n",
    "        score = eval_function(y_valid, y_pred_threshold)\n",
    "        if score >= best_threshold:\n",
    "            best_threshold = threshold\n",
    "            best_score = score\n",
    "        \n",
    "    return best_score, best_threshold"
   ]
  },
  {
   "cell_type": "code",
   "execution_count": 32,
   "id": "12e885eb-2569-4c5b-8564-f481ee760348",
   "metadata": {},
   "outputs": [],
   "source": [
    "#from sklearn.experimental import enable_halving_search_cv\n",
    "#from sklearn.model_selection import HalvingGridSearchCV, HalvingRandomSearchCV\n",
    "from sklearn.model_selection import GridSearchCV\n",
    "from collections import defaultdict\n",
    "\n",
    "def fit_model(model, X_ref=None, y_ref=None, param_grid = {}, scoring={'roc_auc', 'precision', 'recall', 'f1', 'accuracy', 'average_precision'}, cv=5, verbose=2):\n",
    "    \n",
    "    if X_ref is None:\n",
    "        X_ref = X_train\n",
    "        \n",
    "    if y_ref is None:\n",
    "        y_ref = y_train\n",
    "        \n",
    "    fit_time = time.perf_counter()\n",
    "    #grid_model = HalvingGridSearchCV(model, param_grid, scoring=scoring, n_jobs=-1, verbose=0, cv=cv, min_resources=500)\n",
    "    grid_model = GridSearchCV(model, param_grid, scoring=scoring, n_jobs=-1, verbose=0, cv=cv, refit=\"roc_auc\", return_train_score=True)\n",
    "    grid_model.fit(X_ref, y_ref)\n",
    "    fit_time = time.perf_counter() - fit_time\n",
    "    \n",
    "    results = grid_model.cv_results_\n",
    "    n_splits = cv.n_splits if hasattr(cv, 'n_splits') else cv\n",
    "    sets_list = [\"test\"] if verbose < 3 else [\"train\", \"test\"]\n",
    "    \n",
    "    # Print K-fold scores\n",
    "    if verbose > 1:\n",
    "        for i in range(n_splits):\n",
    "            print(f\"\".center(100,'-'))\n",
    "        \n",
    "            for sample in sets_list:\n",
    "                scores_str = \" | \".join([ f\"{scorer}: {results[f'split{i}_{sample}_{scorer}'].mean():.4f}\" for scorer in scoring])\n",
    "                print(f\"FOLD-{i+1} {sample.upper().rjust(6)} scores | {scores_str}\")\n",
    "                \n",
    "    # Print overall scores\n",
    "    if verbose > 0:\n",
    "   \n",
    "        for sample in sets_list:\n",
    "            print('\\n', f\" {sample.upper()} SET MEAN SCORES \".center(100,'-'))\n",
    "            mean_str = \" \\n - \".join([ f\"{scorer}: {results[f'mean_{sample}_{scorer}'].mean():.4f} (std:{results[f'std_{sample}_{scorer}'].mean():.4f})\" for scorer in scoring])\n",
    "            print(f\"\\n - {mean_str}\")\n",
    "            \n",
    "        print(\"\\n\", f\"\".center(100,'-'))\n",
    "        \n",
    "    scores_args = defaultdict(list)\n",
    "    for scorer in scoring:\n",
    "        scores_args[scorer] = results[f'mean_test_{scorer}'].mean()             \n",
    "    \n",
    "    inf_time = pd.Series(grid_model.cv_results_['mean_score_time']).mean()\n",
    "    \n",
    "    return {'grid':grid_model, 'model':grid_model.best_estimator_, 'training_time':fit_time, 'inference_time':inf_time, 'param_grid':param_grid, **scores_args}"
   ]
  },
  {
   "cell_type": "code",
   "execution_count": 33,
   "id": "e8e5b2d8-2b26-4164-aa4b-eb45f96652a6",
   "metadata": {},
   "outputs": [],
   "source": [
    "def get_model_name(model):\n",
    "    index = str(model).index('(')\n",
    "    return str(model)[:index]"
   ]
  },
  {
   "cell_type": "markdown",
   "id": "d5becdef-5d03-4ac6-ba08-94715061dc51",
   "metadata": {},
   "source": [
    "#### Let's define the cross-validation method"
   ]
  },
  {
   "cell_type": "code",
   "execution_count": 34,
   "id": "bd3e09fc-72fa-4be3-9b2f-a48051235a2f",
   "metadata": {},
   "outputs": [],
   "source": [
    "from sklearn.model_selection import StratifiedKFold\n",
    "\n",
    "skfold = StratifiedKFold(n_splits=5, shuffle=True, random_state=0)"
   ]
  },
  {
   "cell_type": "code",
   "execution_count": 35,
   "id": "8024177f-74da-40ad-ad44-9f6a69639bac",
   "metadata": {},
   "outputs": [],
   "source": [
    "import FreeMobileSMS as sms\n",
    "sms.send(\"Data preparation done\", stop=False)"
   ]
  },
  {
   "cell_type": "markdown",
   "id": "99b75ac5-0b31-4686-aa69-ef77517b71e8",
   "metadata": {},
   "source": [
    "## 1. Establishing baseline with Dummy Classifier <a class=\"anchor\" id=\"models_dummy\"></a> [⇪](#menu)"
   ]
  },
  {
   "cell_type": "code",
   "execution_count": 36,
   "id": "52ee9c57-880e-4635-a63e-4a242fe68af7",
   "metadata": {},
   "outputs": [],
   "source": [
    "from sklearn.dummy import DummyClassifier"
   ]
  },
  {
   "cell_type": "code",
   "execution_count": 37,
   "id": "2c9046b3-6e99-4d18-b0c5-f913afa97d6a",
   "metadata": {},
   "outputs": [
    {
     "name": "stdout",
     "output_type": "stream",
     "text": [
      "\n",
      " --------------------------------------- TEST SET MEAN SCORES ---------------------------------------\n",
      "\n",
      " - f1: 0.0830 (std:0.0146) \n",
      " - recall: 0.0846 (std:0.0148) \n",
      " - roc_auc: 0.5008 (std:0.0081) \n",
      " - accuracy: 0.8503 (std:0.0023) \n",
      " - average_precision: 0.0804 (std:0.0014) \n",
      " - precision: 0.0815 (std:0.0143)\n",
      "\n",
      " ----------------------------------------------------------------------------------------------------\n"
     ]
    }
   ],
   "source": [
    "grd_dummy = fit_model( \n",
    "    DummyClassifier(),\n",
    "    param_grid={ 'random_state':[0], 'strategy':['stratified'] }, \n",
    "    cv = skfold,\n",
    "    verbose=1,\n",
    ")"
   ]
  },
  {
   "cell_type": "code",
   "execution_count": 38,
   "id": "17023ec7-6f7e-4c25-b1e6-ae5d083745cb",
   "metadata": {},
   "outputs": [
    {
     "name": "stdout",
     "output_type": "stream",
     "text": [
      "--- DummyClassifier ---\n",
      "\n",
      "                  F1 : 0.0830\n",
      "              RECALL : 0.0846\n",
      "             ROC_AUC : 0.5008\n",
      "            ACCURACY : 0.8503\n",
      "   AVERAGE_PRECISION : 0.0804\n",
      "           PRECISION : 0.0815\n",
      "\n",
      "----------------------------------------------------------------------------------------------------\n",
      "      The informations below this line are based on the best estimator of the cross-validation      \n",
      "----------------------------------------------------------------------------------------------------\n",
      "\n",
      "--- Classification Report ---\n",
      "\n",
      "                 precision    recall  f1-score   support\n",
      "\n",
      "Prediction = 0       0.92      0.90      0.91      2760\n",
      "Prediction = 1       0.06      0.07      0.07       240\n",
      "\n",
      "      accuracy                           0.84      3000\n",
      "     macro avg       0.49      0.49      0.49      3000\n",
      "  weighted avg       0.85      0.84      0.84      3000\n",
      "\n",
      "--- Confusion Matrix ---\n",
      "\n"
     ]
    },
    {
     "data": {
      "image/png": "[encoded data removed]",
      "text/plain": [
       "<Figure size 432x432 with 2 Axes>"
      ]
     },
     "metadata": {
      "needs_background": "light"
     },
     "output_type": "display_data"
    },
    {
     "name": "stdout",
     "output_type": "stream",
     "text": [
      "--- ROC AUC ---\n",
      "\n"
     ]
    },
    {
     "data": {
      "image/png": "[encoded data removed]",
      "text/plain": [
       "<Figure size 360x360 with 1 Axes>"
      ]
     },
     "metadata": {
      "needs_background": "light"
     },
     "output_type": "display_data"
    },
    {
     "name": "stdout",
     "output_type": "stream",
     "text": [
      "--- PRECISION RECALL AUC ---\n",
      "\n"
     ]
    },
    {
     "data": {
      "image/png": "[encoded data removed]",
      "text/plain": [
       "<Figure size 360x360 with 1 Axes>"
      ]
     },
     "metadata": {
      "needs_background": "light"
     },
     "output_type": "display_data"
    }
   ],
   "source": [
    "get_scores(get_model_name(grd_dummy['model']), **grd_dummy, register=True)"
   ]
  },
  {
   "cell_type": "markdown",
   "id": "f2adb53e-e223-4f84-9e26-74e1289c8608",
   "metadata": {},
   "source": [
    "> - The **recall** means \"how many of this class you find over the whole number of element of this class\"\n",
    "> - The **precision** will be \"how many are correctly classified among that class\"\n",
    "> - The **f1-score** is the harmonic mean between precision & recall\n",
    "> - The **support** is the number of occurence of the given class in your dataset\n"
   ]
  },
  {
   "cell_type": "markdown",
   "id": "728fca76-6bb8-4402-8bb0-ff5bce8f39b1",
   "metadata": {},
   "source": [
    "## 2. Logistic Regression <a class=\"anchor\" id=\"models_linear\"></a> [⇪](#menu)"
   ]
  },
  {
   "cell_type": "code",
   "execution_count": 39,
   "id": "f8114082-269f-437a-96e3-403be5eaa46a",
   "metadata": {},
   "outputs": [],
   "source": [
    "from sklearn.linear_model import LogisticRegression"
   ]
  },
  {
   "cell_type": "code",
   "execution_count": 40,
   "id": "083fad02-c21d-404d-b4e5-269610c8d2b7",
   "metadata": {},
   "outputs": [
    {
     "name": "stdout",
     "output_type": "stream",
     "text": [
      "----------------------------------------------------------------------------------------------------\n",
      "FOLD-1   TEST scores | f1: 0.0225 | recall: 0.0116 | roc_auc: 0.7387 | accuracy: 0.9194 | average_precision: 0.2020 | precision: 0.3846\n",
      "----------------------------------------------------------------------------------------------------\n",
      "FOLD-2   TEST scores | f1: 0.0315 | recall: 0.0162 | roc_auc: 0.7326 | accuracy: 0.9202 | average_precision: 0.2041 | precision: 0.5385\n",
      "----------------------------------------------------------------------------------------------------\n",
      "FOLD-3   TEST scores | f1: 0.0315 | recall: 0.0162 | roc_auc: 0.7195 | accuracy: 0.9202 | average_precision: 0.1936 | precision: 0.5833\n",
      "----------------------------------------------------------------------------------------------------\n",
      "FOLD-4   TEST scores | f1: 0.0179 | recall: 0.0092 | roc_auc: 0.7346 | accuracy: 0.9185 | average_precision: 0.2153 | precision: 0.2667\n",
      "----------------------------------------------------------------------------------------------------\n",
      "FOLD-5   TEST scores | f1: 0.0397 | recall: 0.0208 | roc_auc: 0.7432 | accuracy: 0.9194 | average_precision: 0.2199 | precision: 0.4500\n",
      "\n",
      " --------------------------------------- TEST SET MEAN SCORES ---------------------------------------\n",
      "\n",
      " - f1: 0.0286 (std:0.0077) \n",
      " - recall: 0.0148 (std:0.0040) \n",
      " - roc_auc: 0.7337 (std:0.0080) \n",
      " - accuracy: 0.9196 (std:0.0006) \n",
      " - average_precision: 0.2070 (std:0.0095) \n",
      " - precision: 0.4446 (std:0.1126)\n",
      "\n",
      " ----------------------------------------------------------------------------------------------------\n"
     ]
    },
    {
     "name": "stderr",
     "output_type": "stream",
     "text": [
      "/home/valkea/Dev/OpenClassrooms/Projets_AI/P4/venvP4/lib/python3.8/site-packages/sklearn/linear_model/_logistic.py:814: ConvergenceWarning: lbfgs failed to converge (status=1):\n",
      "STOP: TOTAL NO. of ITERATIONS REACHED LIMIT.\n",
      "\n",
      "Increase the number of iterations (max_iter) or scale the data as shown in:\n",
      "    https://scikit-learn.org/stable/modules/preprocessing.html\n",
      "Please also refer to the documentation for alternative solver options:\n",
      "    https://scikit-learn.org/stable/modules/linear_model.html#logistic-regression\n",
      "  n_iter_i = _check_optimize_result(\n"
     ]
    }
   ],
   "source": [
    "grd_log = fit_model(\n",
    "    LogisticRegression(), \n",
    "    param_grid={ 'random_state':[0], 'max_iter':[3000] },  \n",
    "    cv = skfold,\n",
    ")"
   ]
  },
  {
   "cell_type": "code",
   "execution_count": 41,
   "id": "81aba764-7f22-4ad1-b0ed-bc5b13f0b75e",
   "metadata": {},
   "outputs": [
    {
     "name": "stdout",
     "output_type": "stream",
     "text": [
      "--- Basic LogisticRegression ---\n",
      "\n",
      "                  F1 : 0.0286\n",
      "              RECALL : 0.0148\n",
      "             ROC_AUC : 0.7337\n",
      "            ACCURACY : 0.9196\n",
      "   AVERAGE_PRECISION : 0.2070\n",
      "           PRECISION : 0.4446\n",
      "\n",
      "----------------------------------------------------------------------------------------------------\n",
      "      The informations below this line are based on the best estimator of the cross-validation      \n",
      "----------------------------------------------------------------------------------------------------\n",
      "\n",
      "--- Classification Report ---\n",
      "\n",
      "                 precision    recall  f1-score   support\n",
      "\n",
      "Prediction = 0       0.92      1.00      0.96      2760\n",
      "Prediction = 1       0.00      0.00      0.00       240\n",
      "\n",
      "      accuracy                           0.92      3000\n",
      "     macro avg       0.46      0.50      0.48      3000\n",
      "  weighted avg       0.85      0.92      0.88      3000\n",
      "\n",
      "--- Confusion Matrix ---\n",
      "\n"
     ]
    },
    {
     "data": {
      "image/png": "[encoded data removed]",
      "text/plain": [
       "<Figure size 432x432 with 2 Axes>"
      ]
     },
     "metadata": {
      "needs_background": "light"
     },
     "output_type": "display_data"
    },
    {
     "name": "stdout",
     "output_type": "stream",
     "text": [
      "--- ROC AUC ---\n",
      "\n"
     ]
    },
    {
     "data": {
      "image/png": "[encoded data removed]",
      "text/plain": [
       "<Figure size 360x360 with 1 Axes>"
      ]
     },
     "metadata": {
      "needs_background": "light"
     },
     "output_type": "display_data"
    },
    {
     "name": "stdout",
     "output_type": "stream",
     "text": [
      "--- PRECISION RECALL AUC ---\n",
      "\n"
     ]
    },
    {
     "data": {
      "image/png": "[encoded data removed]",
      "text/plain": [
       "<Figure size 360x360 with 1 Axes>"
      ]
     },
     "metadata": {
      "needs_background": "light"
     },
     "output_type": "display_data"
    }
   ],
   "source": [
    "get_scores(f\"Basic {get_model_name(grd_log['model'])}\", **grd_log, register=True)"
   ]
  },
  {
   "cell_type": "raw",
   "id": "82372d06-2ff4-490d-94b5-77fd4cbb11d1",
   "metadata": {},
   "source": [
    "#### Let's find the best threshold *(based on F1 score)*"
   ]
  },
  {
   "cell_type": "raw",
   "id": "bb884572-b9d1-4c0c-b4e3-add0ef77292c",
   "metadata": {},
   "source": [
    "f1_value, best_threshold = find_best_threshold(grd_log['model'], X_valid, y_valid, f1_score)\n",
    "print(f\"The best F1 score ({f1_value}) for this model is reached with a threshold of {best_threshold}\")"
   ]
  },
  {
   "cell_type": "raw",
   "id": "7ecbc178-9fd8-4000-9549-361a6d30a58e",
   "metadata": {},
   "source": [
    "get_scores(f\"Basic {get_model_name(grd_log['model'])} [w/thresholding]\", **grd_log, threshold=best_threshold, register=True, show_roccurves=False)"
   ]
  },
  {
   "cell_type": "markdown",
   "id": "5ab177a3-a05c-4fa0-9bae-4cd66c248d91",
   "metadata": {},
   "source": [
    "## 3. Decision Tree <a class=\"anchor\" id=\"models_decision_tree\"></a> [⇪](#menu)"
   ]
  },
  {
   "cell_type": "code",
   "execution_count": 42,
   "id": "8f6649ce-990b-40a7-9d3d-fa7d83d2e4c1",
   "metadata": {},
   "outputs": [],
   "source": [
    "from sklearn.tree import DecisionTreeClassifier"
   ]
  },
  {
   "cell_type": "code",
   "execution_count": 43,
   "id": "a448cd6a-8903-44b6-86bf-97ce7fb539a7",
   "metadata": {},
   "outputs": [
    {
     "name": "stdout",
     "output_type": "stream",
     "text": [
      "----------------------------------------------------------------------------------------------------\n",
      "FOLD-1   TEST scores | f1: 0.1456 | recall: 0.1574 | roc_auc: 0.5350 | accuracy: 0.8522 | average_precision: 0.0887 | precision: 0.1355\n",
      "----------------------------------------------------------------------------------------------------\n",
      "FOLD-2   TEST scores | f1: 0.1398 | recall: 0.1505 | roc_auc: 0.5317 | accuracy: 0.8519 | average_precision: 0.0876 | precision: 0.1305\n",
      "----------------------------------------------------------------------------------------------------\n",
      "FOLD-3   TEST scores | f1: 0.1630 | recall: 0.1778 | roc_auc: 0.5451 | accuracy: 0.8535 | average_precision: 0.0927 | precision: 0.1504\n",
      "----------------------------------------------------------------------------------------------------\n",
      "FOLD-4   TEST scores | f1: 0.1495 | recall: 0.1570 | roc_auc: 0.5374 | accuracy: 0.8567 | average_precision: 0.0900 | precision: 0.1426\n",
      "----------------------------------------------------------------------------------------------------\n",
      "FOLD-5   TEST scores | f1: 0.1284 | recall: 0.1409 | roc_auc: 0.5245 | accuracy: 0.8467 | average_precision: 0.0855 | precision: 0.1180\n",
      "\n",
      " --------------------------------------- TEST SET MEAN SCORES ---------------------------------------\n",
      "\n",
      " - f1: 0.1452 (std:0.0114) \n",
      " - recall: 0.1567 (std:0.0121) \n",
      " - roc_auc: 0.5347 (std:0.0068) \n",
      " - accuracy: 0.8522 (std:0.0032) \n",
      " - average_precision: 0.0889 (std:0.0024) \n",
      " - precision: 0.1354 (std:0.0110)\n",
      "\n",
      " ----------------------------------------------------------------------------------------------------\n"
     ]
    }
   ],
   "source": [
    "grd_dt = fit_model(\n",
    "    DecisionTreeClassifier(), \n",
    "    param_grid={ 'random_state':[0] }, \n",
    "    cv = skfold\n",
    ")"
   ]
  },
  {
   "cell_type": "code",
   "execution_count": 44,
   "id": "72f13181-3749-4602-8cea-8003e7f02b72",
   "metadata": {},
   "outputs": [
    {
     "name": "stdout",
     "output_type": "stream",
     "text": [
      "--- Basic DecisionTreeClassifier ---\n",
      "\n",
      "                  F1 : 0.1452\n",
      "              RECALL : 0.1567\n",
      "             ROC_AUC : 0.5347\n",
      "            ACCURACY : 0.8522\n",
      "   AVERAGE_PRECISION : 0.0889\n",
      "           PRECISION : 0.1354\n",
      "\n",
      "----------------------------------------------------------------------------------------------------\n",
      "      The informations below this line are based on the best estimator of the cross-validation      \n",
      "----------------------------------------------------------------------------------------------------\n",
      "\n",
      "--- Classification Report ---\n",
      "\n",
      "                 precision    recall  f1-score   support\n",
      "\n",
      "Prediction = 0       0.92      0.91      0.92      2760\n",
      "Prediction = 1       0.13      0.15      0.14       240\n",
      "\n",
      "      accuracy                           0.85      3000\n",
      "     macro avg       0.53      0.53      0.53      3000\n",
      "  weighted avg       0.86      0.85      0.86      3000\n",
      "\n",
      "--- Confusion Matrix ---\n",
      "\n"
     ]
    },
    {
     "data": {
      "image/png": "[encoded data removed]",
      "text/plain": [
       "<Figure size 432x432 with 2 Axes>"
      ]
     },
     "metadata": {
      "needs_background": "light"
     },
     "output_type": "display_data"
    },
    {
     "name": "stdout",
     "output_type": "stream",
     "text": [
      "--- ROC AUC ---\n",
      "\n"
     ]
    },
    {
     "data": {
      "image/png": "[encoded data removed]",
      "text/plain": [
       "<Figure size 360x360 with 1 Axes>"
      ]
     },
     "metadata": {
      "needs_background": "light"
     },
     "output_type": "display_data"
    },
    {
     "name": "stdout",
     "output_type": "stream",
     "text": [
      "--- PRECISION RECALL AUC ---\n",
      "\n"
     ]
    },
    {
     "data": {
      "image/png": "[encoded data removed]",
      "text/plain": [
       "<Figure size 360x360 with 1 Axes>"
      ]
     },
     "metadata": {
      "needs_background": "light"
     },
     "output_type": "display_data"
    }
   ],
   "source": [
    "get_scores(f\"Basic {get_model_name(grd_dt['model'])}\", **grd_dt, register=True)"
   ]
  },
  {
   "cell_type": "raw",
   "id": "d6f91e82-ca8f-4990-8be2-05e06703c24a",
   "metadata": {
    "tags": []
   },
   "source": [
    "#### Let's find the best threshold *(based on F1 score)*"
   ]
  },
  {
   "cell_type": "raw",
   "id": "abccbd07-7271-4aa3-8f29-76aa132c2dc3",
   "metadata": {},
   "source": [
    "f1_value, best_threshold = find_best_threshold(grd_dt['model'], X_valid, y_valid, f1_score)\n",
    "print(f\"The best F1 score ({f1_value}) for this model is reached with a threshold of {best_threshold}\")"
   ]
  },
  {
   "cell_type": "raw",
   "id": "0ea45754-2f2e-4777-af27-c23954ba4936",
   "metadata": {},
   "source": [
    "get_scores(f\"Basic {get_model_name(grd_dt['model'])} [w/thresholding]\", **grd_dt, threshold=best_threshold, register=True, show_roccurves=False)"
   ]
  },
  {
   "cell_type": "markdown",
   "id": "969df4b3-5805-40a7-b303-1bace9bbd89e",
   "metadata": {},
   "source": [
    "## 4. Random Forest <a class=\"anchor\" id=\"models_random_forest\"></a> [⇪](#menu)"
   ]
  },
  {
   "cell_type": "code",
   "execution_count": 45,
   "id": "888746d8-6628-44f6-b586-d8ba83ad8628",
   "metadata": {},
   "outputs": [],
   "source": [
    "from sklearn.ensemble import RandomForestClassifier"
   ]
  },
  {
   "cell_type": "code",
   "execution_count": 46,
   "id": "8660d3ea-3a65-4094-9ee8-f3e3904d872d",
   "metadata": {},
   "outputs": [
    {
     "name": "stdout",
     "output_type": "stream",
     "text": [
      "----------------------------------------------------------------------------------------------------\n",
      "FOLD-1   TEST scores | f1: 0.0000 | recall: 0.0000 | roc_auc: 0.7054 | accuracy: 0.9200 | average_precision: 0.1811 | precision: 0.0000\n",
      "----------------------------------------------------------------------------------------------------\n",
      "FOLD-2   TEST scores | f1: 0.0000 | recall: 0.0000 | roc_auc: 0.6937 | accuracy: 0.9200 | average_precision: 0.1678 | precision: 0.0000\n",
      "----------------------------------------------------------------------------------------------------\n",
      "FOLD-3   TEST scores | f1: 0.0000 | recall: 0.0000 | roc_auc: 0.6956 | accuracy: 0.9196 | average_precision: 0.1913 | precision: 0.0000\n",
      "----------------------------------------------------------------------------------------------------\n",
      "FOLD-4   TEST scores | f1: 0.0000 | recall: 0.0000 | roc_auc: 0.6986 | accuracy: 0.9198 | average_precision: 0.2006 | precision: 0.0000\n",
      "----------------------------------------------------------------------------------------------------\n",
      "FOLD-5   TEST scores | f1: 0.0000 | recall: 0.0000 | roc_auc: 0.7103 | accuracy: 0.9196 | average_precision: 0.1938 | precision: 0.0000\n",
      "\n",
      " --------------------------------------- TEST SET MEAN SCORES ---------------------------------------\n",
      "\n",
      " - f1: 0.0000 (std:0.0000) \n",
      " - recall: 0.0000 (std:0.0000) \n",
      " - roc_auc: 0.7007 (std:0.0062) \n",
      " - accuracy: 0.9198 (std:0.0002) \n",
      " - average_precision: 0.1869 (std:0.0114) \n",
      " - precision: 0.0000 (std:0.0000)\n",
      "\n",
      " ----------------------------------------------------------------------------------------------------\n"
     ]
    }
   ],
   "source": [
    "grd_rf = fit_model(\n",
    "    RandomForestClassifier(n_jobs=-1), \n",
    "    param_grid={ 'random_state':[0] }, \n",
    "    cv = skfold\n",
    ")"
   ]
  },
  {
   "cell_type": "code",
   "execution_count": 47,
   "id": "7b0f51a9-a8a0-4552-bc0c-93674a2fcf70",
   "metadata": {},
   "outputs": [
    {
     "name": "stdout",
     "output_type": "stream",
     "text": [
      "--- Basic RandomForestClassifier ---\n",
      "\n",
      "                  F1 : 0.0000\n",
      "              RECALL : 0.0000\n",
      "             ROC_AUC : 0.7007\n",
      "            ACCURACY : 0.9198\n",
      "   AVERAGE_PRECISION : 0.1869\n",
      "           PRECISION : 0.0000\n",
      "\n",
      "----------------------------------------------------------------------------------------------------\n",
      "      The informations below this line are based on the best estimator of the cross-validation      \n",
      "----------------------------------------------------------------------------------------------------\n",
      "\n",
      "--- Classification Report ---\n",
      "\n",
      "                 precision    recall  f1-score   support\n",
      "\n",
      "Prediction = 0       0.92      1.00      0.96      2760\n",
      "Prediction = 1       0.00      0.00      0.00       240\n",
      "\n",
      "      accuracy                           0.92      3000\n",
      "     macro avg       0.46      0.50      0.48      3000\n",
      "  weighted avg       0.85      0.92      0.88      3000\n",
      "\n",
      "--- Confusion Matrix ---\n",
      "\n"
     ]
    },
    {
     "data": {
      "image/png": "[encoded data removed]",
      "text/plain": [
       "<Figure size 432x432 with 2 Axes>"
      ]
     },
     "metadata": {
      "needs_background": "light"
     },
     "output_type": "display_data"
    },
    {
     "name": "stdout",
     "output_type": "stream",
     "text": [
      "--- ROC AUC ---\n",
      "\n"
     ]
    },
    {
     "data": {
      "image/png": "[encoded data removed]",
      "text/plain": [
       "<Figure size 360x360 with 1 Axes>"
      ]
     },
     "metadata": {
      "needs_background": "light"
     },
     "output_type": "display_data"
    },
    {
     "name": "stdout",
     "output_type": "stream",
     "text": [
      "--- PRECISION RECALL AUC ---\n",
      "\n"
     ]
    },
    {
     "data": {
      "image/png": "[encoded data removed]",
      "text/plain": [
       "<Figure size 360x360 with 1 Axes>"
      ]
     },
     "metadata": {
      "needs_background": "light"
     },
     "output_type": "display_data"
    }
   ],
   "source": [
    "get_scores(f\"Basic {get_model_name(grd_rf['model'])}\", **grd_rf, register=True)"
   ]
  },
  {
   "cell_type": "raw",
   "id": "555a6f00-dd8a-42d3-82f4-6c9b79b02a5e",
   "metadata": {},
   "source": [
    "#### Let's find the best threshold *(based on F1 score)*"
   ]
  },
  {
   "cell_type": "raw",
   "id": "f2d30b26-aa09-4d27-b317-de9d1be3bfe0",
   "metadata": {},
   "source": [
    "f1_value, best_threshold = find_best_threshold(grd_rf['model'], X_valid, y_valid, f1_score)\n",
    "print(f\"The best F1 score ({f1_value}) for this model is reached with a threshold of {best_threshold}\")"
   ]
  },
  {
   "cell_type": "raw",
   "id": "90188fac-e8d8-476c-bf19-66a074159d93",
   "metadata": {},
   "source": [
    "get_scores(f\"Basic {get_model_name(grd_rf['model'])} [w/thresholding]\", **grd_rf, threshold=best_threshold, register=True, show_roccurves=False)"
   ]
  },
  {
   "cell_type": "markdown",
   "id": "5fa3dfac-d287-45a5-9c71-188d1260f311",
   "metadata": {},
   "source": [
    "## 5. XGBoost Classifier <a class=\"anchor\" id=\"models_xgboost\"></a> [⇪](#menu)"
   ]
  },
  {
   "cell_type": "code",
   "execution_count": 48,
   "id": "6db81bdb-73cc-427e-a3d5-840292f469c7",
   "metadata": {},
   "outputs": [],
   "source": [
    "from xgboost import XGBClassifier"
   ]
  },
  {
   "cell_type": "code",
   "execution_count": 49,
   "id": "3de0241d-01ac-402d-a71c-44636bf4262c",
   "metadata": {},
   "outputs": [
    {
     "name": "stdout",
     "output_type": "stream",
     "text": [
      "----------------------------------------------------------------------------------------------------\n",
      "FOLD-1   TEST scores | f1: 0.0501 | recall: 0.0278 | roc_auc: 0.7133 | accuracy: 0.9157 | average_precision: 0.1856 | precision: 0.2553\n",
      "----------------------------------------------------------------------------------------------------\n",
      "FOLD-2   TEST scores | f1: 0.0502 | recall: 0.0278 | roc_auc: 0.7105 | accuracy: 0.9159 | average_precision: 0.1840 | precision: 0.2609\n",
      "----------------------------------------------------------------------------------------------------\n",
      "FOLD-3   TEST scores | f1: 0.0864 | recall: 0.0485 | roc_auc: 0.6901 | accuracy: 0.9178 | average_precision: 0.1825 | precision: 0.3962\n",
      "----------------------------------------------------------------------------------------------------\n",
      "FOLD-4   TEST scores | f1: 0.0835 | recall: 0.0462 | roc_auc: 0.7120 | accuracy: 0.9187 | average_precision: 0.2070 | precision: 0.4348\n",
      "----------------------------------------------------------------------------------------------------\n",
      "FOLD-5   TEST scores | f1: 0.0790 | recall: 0.0439 | roc_auc: 0.6896 | accuracy: 0.9180 | average_precision: 0.1845 | precision: 0.3958\n",
      "\n",
      " --------------------------------------- TEST SET MEAN SCORES ---------------------------------------\n",
      "\n",
      " - f1: 0.0698 (std:0.0163) \n",
      " - recall: 0.0388 (std:0.0091) \n",
      " - roc_auc: 0.7031 (std:0.0109) \n",
      " - accuracy: 0.9172 (std:0.0012) \n",
      " - average_precision: 0.1887 (std:0.0092) \n",
      " - precision: 0.3486 (std:0.0753)\n",
      "\n",
      " ----------------------------------------------------------------------------------------------------\n"
     ]
    }
   ],
   "source": [
    "param_grid = {\n",
    "    'seed':[0],\n",
    "    'objective':['binary:logistic'], # classification\n",
    "    'eval_metric':['auc'], # classification\n",
    "    'nthread':[-1],\n",
    "}\n",
    "\n",
    "grd_xgb = fit_model(\n",
    "    XGBClassifier(verbosity=1),\n",
    "    param_grid=param_grid,\n",
    "    cv = skfold\n",
    ")"
   ]
  },
  {
   "cell_type": "code",
   "execution_count": 50,
   "id": "1115e68f-c5f0-42cc-9a25-9044318e50c5",
   "metadata": {},
   "outputs": [
    {
     "name": "stdout",
     "output_type": "stream",
     "text": [
      "--- Basic XGBClassifier ---\n",
      "\n",
      "                  F1 : 0.0698\n",
      "              RECALL : 0.0388\n",
      "             ROC_AUC : 0.7031\n",
      "            ACCURACY : 0.9172\n",
      "   AVERAGE_PRECISION : 0.1887\n",
      "           PRECISION : 0.3486\n",
      "\n",
      "----------------------------------------------------------------------------------------------------\n",
      "      The informations below this line are based on the best estimator of the cross-validation      \n",
      "----------------------------------------------------------------------------------------------------\n",
      "\n",
      "--- Classification Report ---\n",
      "\n",
      "                 precision    recall  f1-score   support\n",
      "\n",
      "Prediction = 0       0.92      0.99      0.96      2760\n",
      "Prediction = 1       0.25      0.03      0.05       240\n",
      "\n",
      "      accuracy                           0.92      3000\n",
      "     macro avg       0.59      0.51      0.50      3000\n",
      "  weighted avg       0.87      0.92      0.88      3000\n",
      "\n",
      "--- Confusion Matrix ---\n",
      "\n"
     ]
    },
    {
     "data": {
      "image/png": "[encoded data removed]",
      "text/plain": [
       "<Figure size 432x432 with 2 Axes>"
      ]
     },
     "metadata": {
      "needs_background": "light"
     },
     "output_type": "display_data"
    },
    {
     "name": "stdout",
     "output_type": "stream",
     "text": [
      "--- ROC AUC ---\n",
      "\n"
     ]
    },
    {
     "data": {
      "image/png": "[encoded data removed]",
      "text/plain": [
       "<Figure size 360x360 with 1 Axes>"
      ]
     },
     "metadata": {
      "needs_background": "light"
     },
     "output_type": "display_data"
    },
    {
     "name": "stdout",
     "output_type": "stream",
     "text": [
      "--- PRECISION RECALL AUC ---\n",
      "\n"
     ]
    },
    {
     "data": {
      "image/png": "[encoded data removed]",
      "text/plain": [
       "<Figure size 360x360 with 1 Axes>"
      ]
     },
     "metadata": {
      "needs_background": "light"
     },
     "output_type": "display_data"
    }
   ],
   "source": [
    "get_scores(f\"Basic {get_model_name(grd_xgb['model'])}\", **grd_xgb, register=True)"
   ]
  },
  {
   "cell_type": "raw",
   "id": "a78ec01c-12ad-409b-96ac-09e346019345",
   "metadata": {},
   "source": [
    "#### Let's find the best threshold *(based on F1 score)*"
   ]
  },
  {
   "cell_type": "raw",
   "id": "4c2c00a1-645a-4e25-bd2d-70e3a7733dcc",
   "metadata": {},
   "source": [
    "f1_value, best_threshold = find_best_threshold(grd_xgb['model'], X_valid, y_valid, f1_score)\n",
    "print(f\"The best F1 score ({f1_value}) for this model is reached with a threshold of {best_threshold}\")"
   ]
  },
  {
   "cell_type": "raw",
   "id": "d0fc17dc-0eab-47d9-8333-3c48dc2d7562",
   "metadata": {},
   "source": [
    "get_scores(f\"Basic {get_model_name(grd_xgb['model'])} [w/thresholding]\", **grd_xgb, threshold=best_threshold, register=True, show_roccurves=False)"
   ]
  },
  {
   "cell_type": "markdown",
   "id": "4a9f1e80-aea0-4650-9c02-ce6408257bc6",
   "metadata": {},
   "source": [
    "## 6. Review scores <a class=\"anchor\" id=\"models_scores\"></a> [⇪](#menu)"
   ]
  },
  {
   "cell_type": "code",
   "execution_count": 51,
   "id": "36fa998d-2620-4159-9117-ba1e024e0af0",
   "metadata": {},
   "outputs": [
    {
     "data": {
      "text/html": [
       "<div>\n",
       "<style scoped>\n",
       "    .dataframe tbody tr th:only-of-type {\n",
       "        vertical-align: middle;\n",
       "    }\n",
       "\n",
       "    .dataframe tbody tr th {\n",
       "        vertical-align: top;\n",
       "    }\n",
       "\n",
       "    .dataframe thead th {\n",
       "        text-align: right;\n",
       "    }\n",
       "</style>\n",
       "<table border=\"1\" class=\"dataframe\">\n",
       "  <thead>\n",
       "    <tr style=\"text-align: right;\">\n",
       "      <th></th>\n",
       "      <th>Method</th>\n",
       "      <th>threshold</th>\n",
       "      <th>params</th>\n",
       "      <th>ROC AUC</th>\n",
       "      <th>PR AUC</th>\n",
       "      <th>F1 score</th>\n",
       "      <th>Accuracy</th>\n",
       "      <th>Precision</th>\n",
       "      <th>Recall</th>\n",
       "      <th>TP</th>\n",
       "      <th>TN</th>\n",
       "      <th>FP</th>\n",
       "      <th>FN</th>\n",
       "      <th>Training time</th>\n",
       "      <th>Inference time</th>\n",
       "    </tr>\n",
       "  </thead>\n",
       "  <tbody>\n",
       "    <tr>\n",
       "      <th>0</th>\n",
       "      <td>DummyClassifier</td>\n",
       "      <td>0.5</td>\n",
       "      <td>{'random_state': [0], 'strategy': ['stratified']}</td>\n",
       "      <td>0.500786</td>\n",
       "      <td>0.080441</td>\n",
       "      <td>0.083025</td>\n",
       "      <td>0.850296</td>\n",
       "      <td>0.081514</td>\n",
       "      <td>0.084593</td>\n",
       "      <td>18</td>\n",
       "      <td>2496</td>\n",
       "      <td>264</td>\n",
       "      <td>222</td>\n",
       "      <td>1.384734</td>\n",
       "      <td>0.002878</td>\n",
       "    </tr>\n",
       "    <tr>\n",
       "      <th>1</th>\n",
       "      <td>Basic LogisticRegression</td>\n",
       "      <td>0.5</td>\n",
       "      <td>{'random_state': [0], 'max_iter': [3000]}</td>\n",
       "      <td>0.733725</td>\n",
       "      <td>0.206986</td>\n",
       "      <td>0.028597</td>\n",
       "      <td>0.919556</td>\n",
       "      <td>0.444615</td>\n",
       "      <td>0.014793</td>\n",
       "      <td>0</td>\n",
       "      <td>2756</td>\n",
       "      <td>4</td>\n",
       "      <td>240</td>\n",
       "      <td>109.529117</td>\n",
       "      <td>0.023019</td>\n",
       "    </tr>\n",
       "    <tr>\n",
       "      <th>2</th>\n",
       "      <td>Basic DecisionTreeClassifier</td>\n",
       "      <td>0.5</td>\n",
       "      <td>{'random_state': [0]}</td>\n",
       "      <td>0.534738</td>\n",
       "      <td>0.088898</td>\n",
       "      <td>0.145246</td>\n",
       "      <td>0.852185</td>\n",
       "      <td>0.135383</td>\n",
       "      <td>0.156724</td>\n",
       "      <td>36</td>\n",
       "      <td>2515</td>\n",
       "      <td>245</td>\n",
       "      <td>204</td>\n",
       "      <td>5.314086</td>\n",
       "      <td>0.011811</td>\n",
       "    </tr>\n",
       "    <tr>\n",
       "      <th>3</th>\n",
       "      <td>Basic RandomForestClassifier</td>\n",
       "      <td>0.5</td>\n",
       "      <td>{'random_state': [0]}</td>\n",
       "      <td>0.700708</td>\n",
       "      <td>0.186911</td>\n",
       "      <td>0.000000</td>\n",
       "      <td>0.919815</td>\n",
       "      <td>0.000000</td>\n",
       "      <td>0.000000</td>\n",
       "      <td>0</td>\n",
       "      <td>2760</td>\n",
       "      <td>0</td>\n",
       "      <td>240</td>\n",
       "      <td>12.705761</td>\n",
       "      <td>0.101689</td>\n",
       "    </tr>\n",
       "    <tr>\n",
       "      <th>4</th>\n",
       "      <td>Basic XGBClassifier</td>\n",
       "      <td>0.5</td>\n",
       "      <td>{'seed': [0], 'objective': ['binary:logistic']...</td>\n",
       "      <td>0.703102</td>\n",
       "      <td>0.188741</td>\n",
       "      <td>0.069849</td>\n",
       "      <td>0.917222</td>\n",
       "      <td>0.348606</td>\n",
       "      <td>0.038825</td>\n",
       "      <td>6</td>\n",
       "      <td>2742</td>\n",
       "      <td>18</td>\n",
       "      <td>234</td>\n",
       "      <td>44.924909</td>\n",
       "      <td>0.039062</td>\n",
       "    </tr>\n",
       "  </tbody>\n",
       "</table>\n",
       "</div>"
      ],
      "text/plain": [
       "                         Method  threshold  \\\n",
       "0               DummyClassifier        0.5   \n",
       "1      Basic LogisticRegression        0.5   \n",
       "2  Basic DecisionTreeClassifier        0.5   \n",
       "3  Basic RandomForestClassifier        0.5   \n",
       "4           Basic XGBClassifier        0.5   \n",
       "\n",
       "                                              params   ROC AUC    PR AUC  \\\n",
       "0  {'random_state': [0], 'strategy': ['stratified']}  0.500786  0.080441   \n",
       "1          {'random_state': [0], 'max_iter': [3000]}  0.733725  0.206986   \n",
       "2                              {'random_state': [0]}  0.534738  0.088898   \n",
       "3                              {'random_state': [0]}  0.700708  0.186911   \n",
       "4  {'seed': [0], 'objective': ['binary:logistic']...  0.703102  0.188741   \n",
       "\n",
       "   F1 score  Accuracy  Precision    Recall  TP    TN   FP   FN  Training time  \\\n",
       "0  0.083025  0.850296   0.081514  0.084593  18  2496  264  222       1.384734   \n",
       "1  0.028597  0.919556   0.444615  0.014793   0  2756    4  240     109.529117   \n",
       "2  0.145246  0.852185   0.135383  0.156724  36  2515  245  204       5.314086   \n",
       "3  0.000000  0.919815   0.000000  0.000000   0  2760    0  240      12.705761   \n",
       "4  0.069849  0.917222   0.348606  0.038825   6  2742   18  234      44.924909   \n",
       "\n",
       "   Inference time  \n",
       "0        0.002878  \n",
       "1        0.023019  \n",
       "2        0.011811  \n",
       "3        0.101689  \n",
       "4        0.039062  "
      ]
     },
     "execution_count": 51,
     "metadata": {},
     "output_type": "execute_result"
    }
   ],
   "source": [
    "scores_df"
   ]
  },
  {
   "cell_type": "code",
   "execution_count": 52,
   "id": "6d71e3ab-6d84-486d-afcf-5dbf27dbb5f0",
   "metadata": {},
   "outputs": [
    {
     "data": {
      "text/html": [
       "<div>\n",
       "<style scoped>\n",
       "    .dataframe tbody tr th:only-of-type {\n",
       "        vertical-align: middle;\n",
       "    }\n",
       "\n",
       "    .dataframe tbody tr th {\n",
       "        vertical-align: top;\n",
       "    }\n",
       "\n",
       "    .dataframe thead th {\n",
       "        text-align: right;\n",
       "    }\n",
       "</style>\n",
       "<table border=\"1\" class=\"dataframe\">\n",
       "  <thead>\n",
       "    <tr style=\"text-align: right;\">\n",
       "      <th></th>\n",
       "      <th>Method</th>\n",
       "      <th>ROC AUC</th>\n",
       "      <th>F1 score</th>\n",
       "      <th>Recall</th>\n",
       "    </tr>\n",
       "  </thead>\n",
       "  <tbody>\n",
       "    <tr>\n",
       "      <th>0</th>\n",
       "      <td>DummyClassifier</td>\n",
       "      <td>0.500786</td>\n",
       "      <td>0.083025</td>\n",
       "      <td>0.084593</td>\n",
       "    </tr>\n",
       "    <tr>\n",
       "      <th>1</th>\n",
       "      <td>Basic LogisticRegression</td>\n",
       "      <td>0.733725</td>\n",
       "      <td>0.028597</td>\n",
       "      <td>0.014793</td>\n",
       "    </tr>\n",
       "    <tr>\n",
       "      <th>2</th>\n",
       "      <td>Basic DecisionTreeClassifier</td>\n",
       "      <td>0.534738</td>\n",
       "      <td>0.145246</td>\n",
       "      <td>0.156724</td>\n",
       "    </tr>\n",
       "    <tr>\n",
       "      <th>3</th>\n",
       "      <td>Basic RandomForestClassifier</td>\n",
       "      <td>0.700708</td>\n",
       "      <td>0.000000</td>\n",
       "      <td>0.000000</td>\n",
       "    </tr>\n",
       "    <tr>\n",
       "      <th>4</th>\n",
       "      <td>Basic XGBClassifier</td>\n",
       "      <td>0.703102</td>\n",
       "      <td>0.069849</td>\n",
       "      <td>0.038825</td>\n",
       "    </tr>\n",
       "  </tbody>\n",
       "</table>\n",
       "</div>"
      ],
      "text/plain": [
       "                         Method   ROC AUC  F1 score    Recall\n",
       "0               DummyClassifier  0.500786  0.083025  0.084593\n",
       "1      Basic LogisticRegression  0.733725  0.028597  0.014793\n",
       "2  Basic DecisionTreeClassifier  0.534738  0.145246  0.156724\n",
       "3  Basic RandomForestClassifier  0.700708  0.000000  0.000000\n",
       "4           Basic XGBClassifier  0.703102  0.069849  0.038825"
      ]
     },
     "execution_count": 52,
     "metadata": {},
     "output_type": "execute_result"
    }
   ],
   "source": [
    "scores_df[['Method', 'ROC AUC', 'F1 score', 'Recall']]"
   ]
  },
  {
   "cell_type": "code",
   "execution_count": 53,
   "id": "8d880717-62b4-4d94-b485-4d30e82ebcc0",
   "metadata": {},
   "outputs": [],
   "source": [
    "sms.send(\"Basic done\", stop=False)"
   ]
  },
  {
   "cell_type": "markdown",
   "id": "73f16dc8-c042-49fb-ab07-03919b8ef291",
   "metadata": {},
   "source": [
    "# Improving the models with GridSearchCV <a class=\"anchor\" id=\"models_grid\"></a> [⇪](#menu)"
   ]
  },
  {
   "cell_type": "raw",
   "id": "0f2e08dc-a7bd-41ed-be35-86a76948849c",
   "metadata": {},
   "source": [
    "X_train_full = X_train_full[:sample_size_grid]\n",
    "y_train_full = y_train_full[:sample_size_grid]"
   ]
  },
  {
   "cell_type": "markdown",
   "id": "3e6b8d40-74a3-4d07-b1b5-fd5c7cdafa9f",
   "metadata": {},
   "source": [
    "## 1. Logistic Regression Grid<a class=\"anchor\" id=\"models_linear_grid\"></a> [⇪](#menu)"
   ]
  },
  {
   "cell_type": "code",
   "execution_count": 54,
   "id": "0b0a1c14-bb60-442e-97fc-1c6368704498",
   "metadata": {},
   "outputs": [],
   "source": [
    "param_grid = [\n",
    "    {\n",
    "        'random_state':[0],\n",
    "        'max_iter':[3000],\n",
    "        'solver' : ['lbfgs'],\n",
    "        'penalty' : ['l2'], # none\n",
    "        'C' : [1e-5, 1e-4, 1e-3, 1e-2, 1e-1, 1, 10, 100],\n",
    "    },\n",
    "    {\n",
    "        'random_state':[0],\n",
    "        'max_iter':[3000],\n",
    "        'solver' : ['liblinear'],\n",
    "        'penalty' : ['l1', 'l2'], # none\n",
    "        'C' : [1e-5, 1e-4, 1e-3, 1e-2, 1e-1, 1, 10, 100],\n",
    "    },\n",
    "]"
   ]
  },
  {
   "cell_type": "code",
   "execution_count": null,
   "id": "3f89a414-28da-4de1-8c35-bb36b620b4c9",
   "metadata": {},
   "outputs": [],
   "source": [
    "grd_log = fit_model(\n",
    "    LogisticRegression(), \n",
    "    param_grid=param_grid,  \n",
    "    cv = skfold\n",
    ")"
   ]
  },
  {
   "cell_type": "code",
   "execution_count": null,
   "id": "2cf2465d-07b7-421d-8ce0-4b3bb3cd2d25",
   "metadata": {},
   "outputs": [],
   "source": [
    "grd_log['grid'].best_params_"
   ]
  },
  {
   "cell_type": "code",
   "execution_count": null,
   "id": "dfbac6a3-1ea0-41de-a325-fe8b3b6eaa9d",
   "metadata": {},
   "outputs": [],
   "source": [
    "get_scores(f\"Grid {get_model_name(grd_log['model'])}\", **grd_log, register=True)"
   ]
  },
  {
   "cell_type": "raw",
   "id": "858ed8fe-320f-4e5a-8b26-a3d0e26d5692",
   "metadata": {},
   "source": [
    "#### Let's find the best threshold *(based on F1 score)*"
   ]
  },
  {
   "cell_type": "raw",
   "id": "8a4a5c5d-b8ca-4719-8189-ba1bcd77f4b2",
   "metadata": {},
   "source": [
    "f1_value, best_threshold = find_best_threshold(grd_log['model'], X_valid, y_valid, f1_score)\n",
    "print(f\"The best F1 score ({f1_value}) for this model is reached with a threshold of {best_threshold}\")"
   ]
  },
  {
   "cell_type": "raw",
   "id": "ae41dc8d-2ad9-4da7-9c36-ba7a41206ac2",
   "metadata": {},
   "source": [
    "get_scores(f\"Grid {get_model_name(grd_log['model'])} [w/thresholding]\", **grd_log, threshold=best_threshold, register=True)"
   ]
  },
  {
   "cell_type": "markdown",
   "id": "b1217392-563d-480b-820a-4240641dfd36",
   "metadata": {},
   "source": [
    "## 2. Decision Tree Grid <a class=\"anchor\" id=\"models_decision_tree_grid\"></a> [⇪](#menu)"
   ]
  },
  {
   "cell_type": "code",
   "execution_count": null,
   "id": "95546b35-55dc-41a8-b68b-a455751d9d20",
   "metadata": {},
   "outputs": [],
   "source": [
    "param_grid = {\n",
    "    'random_state':[0],\n",
    "    'max_features': [None, 'sqrt', 'log2', ], # auto = sqrt\n",
    "    'ccp_alpha': [0.0, 0.1, 0.01, 0.001],\n",
    "    'max_depth' : [None, 1, 2, 3, 4, 5, 6, 7, 8, 9],\n",
    "    'criterion' :['gini', 'entropy']\n",
    "}"
   ]
  },
  {
   "cell_type": "code",
   "execution_count": null,
   "id": "f0d47949-1e7d-48eb-8f05-321f7cdc3363",
   "metadata": {},
   "outputs": [],
   "source": [
    "grd_dt = fit_model(\n",
    "    DecisionTreeClassifier(), \n",
    "    param_grid=param_grid,\n",
    "    cv = skfold\n",
    ")"
   ]
  },
  {
   "cell_type": "code",
   "execution_count": null,
   "id": "e2e542cc-d439-4d07-ac28-6c97c6d39b0e",
   "metadata": {},
   "outputs": [],
   "source": [
    "grd_dt['grid'].best_params_"
   ]
  },
  {
   "cell_type": "code",
   "execution_count": null,
   "id": "6e3750bc-f8dc-4b40-b7cf-d4b2619f0b74",
   "metadata": {},
   "outputs": [],
   "source": [
    "get_scores(f\"Grid {get_model_name(grd_dt['model'])}\", **grd_dt, register=True)"
   ]
  },
  {
   "cell_type": "raw",
   "id": "d375ed87-fd20-44c0-b750-265184a8b6ac",
   "metadata": {},
   "source": [
    "#### Let's find the best threshold *(based on F1 score)*"
   ]
  },
  {
   "cell_type": "raw",
   "id": "6a85136b-447e-4a12-bf67-9715f132b16d",
   "metadata": {},
   "source": [
    "f1_value, best_threshold = find_best_threshold(grd_dt['model'], X_valid, y_valid, f1_score)\n",
    "print(f\"The best F1 score ({f1_value}) for this model is reached with a threshold of {best_threshold}\")"
   ]
  },
  {
   "cell_type": "raw",
   "id": "fcceea0c-cfae-4889-80d9-63250f15540c",
   "metadata": {},
   "source": [
    "get_scores(f\"Grid {get_model_name(grd_dt['model'])} [w/thresholding]\", **grd_dt, threshold=best_threshold, register=True)"
   ]
  },
  {
   "cell_type": "markdown",
   "id": "e623b202-07f6-44ff-9768-d3f7a5e197cc",
   "metadata": {},
   "source": [
    "## 3. Random Forest Grid <a class=\"anchor\" id=\"models_random_forest_grid\"></a> [⇪](#menu)"
   ]
  },
  {
   "cell_type": "code",
   "execution_count": null,
   "id": "9d091e95-220d-4f16-ac89-80076b3a8842",
   "metadata": {},
   "outputs": [],
   "source": [
    "param_grid = {\n",
    "    'random_state':[0],\n",
    "    'max_features': [None, 'sqrt', 'log2'], #auto = sqrt\n",
    "    #'ccp_alpha': [0.1, .01, .001],\n",
    "    'max_depth' : [None, 1, 2, 3, 4, 5, 6, 7, 8, 9],\n",
    "    'criterion' :['gini', 'entropy'],\n",
    "    #'n_estimators' :[64, 100, 128, 256, 528]\n",
    "    'n_estimators' :[100, 200, 300, 400, 500]\n",
    "}"
   ]
  },
  {
   "cell_type": "code",
   "execution_count": null,
   "id": "96c839e0-c687-44d1-bdf4-f24b0a9bb075",
   "metadata": {},
   "outputs": [],
   "source": [
    "grd_rf = fit_model(\n",
    "    RandomForestClassifier(n_jobs=-1), \n",
    "    param_grid=param_grid, \n",
    "    cv = skfold\n",
    ")"
   ]
  },
  {
   "cell_type": "code",
   "execution_count": null,
   "id": "28313fde-c64d-406c-bc39-3eb784a1e50a",
   "metadata": {},
   "outputs": [],
   "source": [
    "grd_rf['grid'].best_params_"
   ]
  },
  {
   "cell_type": "code",
   "execution_count": null,
   "id": "8b3a3e25-526d-45d0-8a78-664fbb4a354e",
   "metadata": {},
   "outputs": [],
   "source": [
    "get_scores(f\"Grid {get_model_name(grd_rf['model'])}\", **grd_rf, register=True)"
   ]
  },
  {
   "cell_type": "raw",
   "id": "0c3a57e4-6e7b-4a75-a104-d808dddcab7b",
   "metadata": {},
   "source": [
    "#### Let's find the best threshold *(based on F1 score)*"
   ]
  },
  {
   "cell_type": "raw",
   "id": "a179b886-059a-4fc0-8af0-d13feae9430a",
   "metadata": {},
   "source": [
    "f1_value, best_threshold = find_best_threshold(grd_rf['model'], X_valid, y_valid, f1_score)\n",
    "print(f\"The best F1 score ({f1_value}) for this model is reached with a threshold of {best_threshold}\")"
   ]
  },
  {
   "cell_type": "raw",
   "id": "c2cb05a2-9a1a-447f-b4fc-9dcc08455e0c",
   "metadata": {},
   "source": [
    "get_scores(f\"Grid {get_model_name(grd_rf['model'])} [w/thresholding]\", **grd_rf, threshold=best_threshold, register=True)"
   ]
  },
  {
   "cell_type": "markdown",
   "id": "6ba57296-e2ef-4489-9316-3b493c48b12d",
   "metadata": {},
   "source": [
    "## 4. XGBoost Classifier Grid<a class=\"anchor\" id=\"models_xgboost_grid\"></a> [⇪](#menu)"
   ]
  },
  {
   "cell_type": "code",
   "execution_count": null,
   "id": "56595f78-844e-426a-98d0-44afd9b12493",
   "metadata": {},
   "outputs": [],
   "source": [
    "from xgboost import XGBClassifier"
   ]
  },
  {
   "cell_type": "code",
   "execution_count": null,
   "id": "f3f4b705-0650-4150-97e1-fc9d83bf8a2a",
   "metadata": {
    "tags": []
   },
   "outputs": [],
   "source": [
    "param_grid = {\n",
    "    'seed':[0],\n",
    "    'objective':['binary:logistic'], # classification\n",
    "    'eval_metric':['auc'], # classification\n",
    "    'nthread':[-1],\n",
    "    'max_depth': range (2, 10, 1),\n",
    "    'n_estimators': range(60, 220, 40),\n",
    "    'learning_rate': [0.1, 0.01, 0.05]\n",
    "}"
   ]
  },
  {
   "cell_type": "code",
   "execution_count": null,
   "id": "27ce4700-0c0b-40cf-8bbc-0fc4a95ffa72",
   "metadata": {},
   "outputs": [],
   "source": [
    "grd_xgb = fit_model(\n",
    "    XGBClassifier(verbosity=1),\n",
    "    param_grid=param_grid,\n",
    "    cv = skfold\n",
    ")"
   ]
  },
  {
   "cell_type": "code",
   "execution_count": null,
   "id": "4c1aa067-f085-421c-a574-da0b7946e2d4",
   "metadata": {},
   "outputs": [],
   "source": [
    "grd_xgb['grid'].best_params_"
   ]
  },
  {
   "cell_type": "code",
   "execution_count": null,
   "id": "0bb9dee6-4545-4c6a-aa63-06775ec673df",
   "metadata": {},
   "outputs": [],
   "source": [
    "get_scores(f\"Grid {get_model_name(grd_xgb['model'])}\", **grd_xgb, register=True)"
   ]
  },
  {
   "cell_type": "raw",
   "id": "d165faca-fd1b-4cd1-8079-d2b54817e275",
   "metadata": {},
   "source": [
    "#### Let's find the best threshold *(based on F1 score)*"
   ]
  },
  {
   "cell_type": "raw",
   "id": "8f7296ec-0b77-4500-b819-b8b2c200f8ad",
   "metadata": {},
   "source": [
    "f1_value, best_threshold = find_best_threshold(grd_xgb['model'], X_valid, y_valid, f1_score)\n",
    "print(f\"The best F1 score ({f1_value}) for this model is reached with a threshold of {best_threshold}\")"
   ]
  },
  {
   "cell_type": "raw",
   "id": "381d7002-7bde-4879-9165-7cb35d668703",
   "metadata": {},
   "source": [
    "get_scores(f\"Grid {get_model_name(grd_xgb['model'])} [w/thresholding]\", **grd_xgb, threshold=best_threshold, register=True)"
   ]
  },
  {
   "cell_type": "markdown",
   "id": "5946edca-e971-4a69-8649-916178f19038",
   "metadata": {},
   "source": [
    "## 5. Review scores <a class=\"anchor\" id=\"models_grid_scores\"></a> [⇪](#menu)"
   ]
  },
  {
   "cell_type": "code",
   "execution_count": null,
   "id": "ff7b8566-3186-45da-942a-575817d7b1a9",
   "metadata": {},
   "outputs": [],
   "source": [
    "scores_df"
   ]
  },
  {
   "cell_type": "code",
   "execution_count": null,
   "id": "581e2cea-7d1c-4261-a126-1dcb591e32fe",
   "metadata": {},
   "outputs": [],
   "source": [
    "scores_df[['Method', 'ROC AUC', 'F1 score', 'Recall']].sort_values('Recall', ascending=False)"
   ]
  },
  {
   "cell_type": "code",
   "execution_count": null,
   "id": "2a83803c-2cfe-4e09-8603-db3dc05218e8",
   "metadata": {},
   "outputs": [],
   "source": [
    "sms.send(\"Gridsearch done\", stop=False)"
   ]
  },
  {
   "cell_type": "markdown",
   "id": "88f4c378-24f3-49b4-9a52-9f44cb5a9e9d",
   "metadata": {},
   "source": [
    "# Impoving the models with solutions for Imbalanced datasets <a class=\"anchor\" id=\"models_balanced\"></a> [⇪](#menu)"
   ]
  },
  {
   "cell_type": "markdown",
   "id": "7aadbc42-a874-456a-8ff8-377f1bb57ede",
   "metadata": {},
   "source": [
    "## 1. Balanced Logistic Regression Grid<a class=\"anchor\" id=\"models_linear_balanced\"></a> [⇪](#menu)"
   ]
  },
  {
   "cell_type": "code",
   "execution_count": null,
   "id": "008e6095-e0ba-4d41-93b2-72e14563cb60",
   "metadata": {},
   "outputs": [],
   "source": [
    "param_grid = [\n",
    "    {\n",
    "        'class_weight':['balanced'],\n",
    "        'random_state':[0],\n",
    "        'max_iter':[3000],\n",
    "        'solver' : ['lbfgs'],\n",
    "        'penalty' : ['l2'], # none\n",
    "        'C' : [1e-5, 1e-4, 1e-3, 1e-2, 1e-1, 1, 10, 100],\n",
    "    },\n",
    "    {\n",
    "        'class_weight':['balanced'],\n",
    "        'random_state':[0],\n",
    "        'max_iter':[3000],\n",
    "        'solver' : ['liblinear'],\n",
    "        'penalty' : ['l1', 'l2'], # none\n",
    "        'C' : [1e-5, 1e-4, 1e-3, 1e-2, 1e-1, 1, 10, 100],\n",
    "    },\n",
    "]"
   ]
  },
  {
   "cell_type": "code",
   "execution_count": null,
   "id": "15ab5860-7a9c-4df7-bc85-32554d10e65a",
   "metadata": {},
   "outputs": [],
   "source": [
    "grd_log = fit_model(\n",
    "    LogisticRegression(), \n",
    "    param_grid=param_grid,  \n",
    "    cv = skfold\n",
    ")"
   ]
  },
  {
   "cell_type": "code",
   "execution_count": null,
   "id": "7b15d665-b3aa-41e5-97fc-abde56fee72d",
   "metadata": {},
   "outputs": [],
   "source": [
    "grd_log['grid'].best_params_"
   ]
  },
  {
   "cell_type": "code",
   "execution_count": null,
   "id": "5457c654-0d89-4b27-a0b6-26cdcdea3e1f",
   "metadata": {},
   "outputs": [],
   "source": [
    "get_scores(f\"Balanced {get_model_name(grd_log['model'])}\", **grd_log, register=True)"
   ]
  },
  {
   "cell_type": "raw",
   "id": "c60be2f9-697a-4e21-a18d-0d64a47efbe8",
   "metadata": {},
   "source": [
    "#### Let's find the best threshold *(based on F1 score)*"
   ]
  },
  {
   "cell_type": "raw",
   "id": "62a3615e-99ff-4526-9aba-a83f1c93e4d0",
   "metadata": {},
   "source": [
    "f1_value, best_threshold = find_best_threshold(grd_log['model'], X_valid, y_valid, f1_score)\n",
    "print(f\"The best F1 score ({f1_value}) for this model is reached with a threshold of {best_threshold}\")"
   ]
  },
  {
   "cell_type": "raw",
   "id": "0d4aa7ea-9beb-4212-9839-cc48d8b8e6b6",
   "metadata": {},
   "source": [
    "get_scores(f\"Balanced {get_model_name(grd_log['model'])} [w/thresholding]\", **grd_log, threshold=best_threshold, register=True)"
   ]
  },
  {
   "cell_type": "markdown",
   "id": "b9e77e5a-d101-4ed5-baa3-d9df52871aaa",
   "metadata": {},
   "source": [
    "## 2. Balanced Decision Tree Grid <a class=\"anchor\" id=\"models_decision_tree_balanced\"></a> [⇪](#menu)"
   ]
  },
  {
   "cell_type": "code",
   "execution_count": null,
   "id": "4b734ce7-eaf1-4f6a-ae75-14b6cfde76ef",
   "metadata": {},
   "outputs": [],
   "source": [
    "param_grid = {\n",
    "    'class_weight':['balanced'],\n",
    "    'random_state':[0],\n",
    "    'max_features': [None, 'sqrt', 'log2', ], # auto = sqrt\n",
    "    'ccp_alpha': [0.0, 0.1, 0.01, 0.001],\n",
    "    'max_depth' : [None, 1, 2, 3, 4, 5, 6, 7, 8, 9],\n",
    "    'criterion' :['gini', 'entropy']\n",
    "}"
   ]
  },
  {
   "cell_type": "code",
   "execution_count": null,
   "id": "b054a123-4ea3-4b33-ac4a-ffad4ab26405",
   "metadata": {},
   "outputs": [],
   "source": [
    "grd_dt = fit_model(\n",
    "    DecisionTreeClassifier(), \n",
    "    param_grid=param_grid,\n",
    "    cv = skfold\n",
    ")"
   ]
  },
  {
   "cell_type": "code",
   "execution_count": null,
   "id": "41073e34-a8df-4750-8af8-fa6337593fbd",
   "metadata": {},
   "outputs": [],
   "source": [
    "grd_dt['grid'].best_params_"
   ]
  },
  {
   "cell_type": "code",
   "execution_count": null,
   "id": "44a65399-4ae9-4577-98c6-da63ca8be224",
   "metadata": {},
   "outputs": [],
   "source": [
    "get_scores(f\"Balanced {get_model_name(grd_dt['model'])}\", **grd_dt, register=True)"
   ]
  },
  {
   "cell_type": "raw",
   "id": "f8fae002-0ff8-4a67-9b43-d1c17f64618f",
   "metadata": {},
   "source": [
    "#### Let's find the best threshold *(based on F1 score)*"
   ]
  },
  {
   "cell_type": "raw",
   "id": "6f1350a6-0132-46f6-a760-0cb435a68948",
   "metadata": {},
   "source": [
    "f1_value, best_threshold = find_best_threshold(grd_dt['model'], X_valid, y_valid, f1_score)\n",
    "print(f\"The best F1 score ({f1_value}) for this model is reached with a threshold of {best_threshold}\")"
   ]
  },
  {
   "cell_type": "raw",
   "id": "14565a72-741e-4e64-9e1c-6e10f7407cc9",
   "metadata": {},
   "source": [
    "get_scores(f\"Balanced {get_model_name(grd_dt['model'])} [w/thresholding]\", **grd_dt, threshold=best_threshold, register=True)"
   ]
  },
  {
   "cell_type": "markdown",
   "id": "3edbff25-07ba-4d7b-861a-992b2ad0a581",
   "metadata": {},
   "source": [
    "## 3. Balanced Random Forest Grid <a class=\"anchor\" id=\"models_random_forest_balanced\"></a> [⇪](#menu)"
   ]
  },
  {
   "cell_type": "code",
   "execution_count": null,
   "id": "f3879277-291d-4aa6-9460-e5072805a115",
   "metadata": {},
   "outputs": [],
   "source": [
    "param_grid = {\n",
    "    'class_weight':['balanced'],\n",
    "    'random_state':[0],\n",
    "    'max_features': [None, 'sqrt', 'log2'], #auto = sqrt\n",
    "    #'ccp_alpha': [0.1, .01, .001],\n",
    "    'max_depth' : [None, 1, 2, 3, 4, 5, 6, 7, 8, 9],\n",
    "    'criterion' :['gini', 'entropy'],\n",
    "    #'n_estimators' :[64, 100, 128, 256, 528]\n",
    "    'n_estimators' :[100, 200, 300, 400, 500]\n",
    "}"
   ]
  },
  {
   "cell_type": "code",
   "execution_count": null,
   "id": "7aef9406-295b-4b03-97d6-16c4c18e7772",
   "metadata": {},
   "outputs": [],
   "source": [
    "grd_rf = fit_model(\n",
    "    RandomForestClassifier(n_jobs=-1), \n",
    "    param_grid=param_grid, \n",
    "    cv = skfold\n",
    ")"
   ]
  },
  {
   "cell_type": "code",
   "execution_count": null,
   "id": "105ce17a-58fb-4066-afe5-81f129d85757",
   "metadata": {},
   "outputs": [],
   "source": [
    "grd_rf['grid'].best_params_"
   ]
  },
  {
   "cell_type": "code",
   "execution_count": null,
   "id": "cbff6a37-c834-4385-b5bd-32c92bdb52e3",
   "metadata": {},
   "outputs": [],
   "source": [
    "get_scores(f\"Balanced {get_model_name(grd_rf['model'])}\", **grd_rf, register=True)"
   ]
  },
  {
   "cell_type": "raw",
   "id": "b2580bd2-2496-4ccb-ad2a-d4f9bf7ddfc1",
   "metadata": {},
   "source": [
    "#### Let's find the best threshold *(based on F1 score)*"
   ]
  },
  {
   "cell_type": "raw",
   "id": "9982064d-b7c8-42bc-8e97-cfd574a39ff5",
   "metadata": {},
   "source": [
    "f1_value, best_threshold = find_best_threshold(grd_rf['model'], X_valid, y_valid, f1_score)\n",
    "print(f\"The best F1 score ({f1_value}) for this model is reached with a threshold of {best_threshold}\")"
   ]
  },
  {
   "cell_type": "raw",
   "id": "79f1df90-59b3-4db3-83df-11322deed814",
   "metadata": {},
   "source": [
    "get_scores(f\"Balanced {get_model_name(grd_rf['model'])} [w/thresholding]\", **grd_rf, threshold=best_threshold, register=True)"
   ]
  },
  {
   "cell_type": "markdown",
   "id": "5dcfa0c8-b5a8-4e0b-9307-b077555dee20",
   "metadata": {},
   "source": [
    "## 4. Balanced XGBoost Classifier Grid<a class=\"anchor\" id=\"models_xgboost_balanced\"></a> [⇪](#menu)"
   ]
  },
  {
   "cell_type": "code",
   "execution_count": null,
   "id": "bb8af1e3-58c6-4cc1-b1d4-09ea0408cbfd",
   "metadata": {},
   "outputs": [],
   "source": [
    "from collections import Counter\n",
    "counter = Counter(y_train)\n",
    "scale_weigth = counter[0] / counter[1]"
   ]
  },
  {
   "cell_type": "code",
   "execution_count": null,
   "id": "6139f5e2-b58c-4b8f-932a-3c517eb7a4ce",
   "metadata": {
    "tags": []
   },
   "outputs": [],
   "source": [
    "param_grid = {\n",
    "    'scale_pos_weight':[scale_weigth],\n",
    "    'seed':[0],\n",
    "    'objective':['binary:logistic'], # classification\n",
    "    'eval_metric':['auc'], # classification\n",
    "    'nthread':[-1],\n",
    "    'max_depth': range (2, 10, 1),\n",
    "    'n_estimators': range(60, 220, 40),\n",
    "    'learning_rate': [0.1, 0.01, 0.05]\n",
    "}"
   ]
  },
  {
   "cell_type": "code",
   "execution_count": null,
   "id": "68899d22-6e98-4a1c-b9c6-dc30c8a14d11",
   "metadata": {},
   "outputs": [],
   "source": [
    "grd_xgb = fit_model(\n",
    "    XGBClassifier(verbosity=1),\n",
    "    param_grid=param_grid,\n",
    "    cv = skfold\n",
    ")"
   ]
  },
  {
   "cell_type": "code",
   "execution_count": null,
   "id": "7c356384-ecbe-4713-8233-075d7f56d749",
   "metadata": {},
   "outputs": [],
   "source": [
    "grd_xgb['grid'].best_params_"
   ]
  },
  {
   "cell_type": "code",
   "execution_count": null,
   "id": "5e2ca490-f09c-47e1-a8d7-af4214fd6cc6",
   "metadata": {},
   "outputs": [],
   "source": [
    "get_scores(f\"Balanced {get_model_name(grd_xgb['model'])}\", **grd_xgb, register=True)"
   ]
  },
  {
   "cell_type": "raw",
   "id": "574396c0-bf20-4066-8da5-1797db0490f6",
   "metadata": {},
   "source": [
    "#### Let's find the best threshold *(based on F1 score)*"
   ]
  },
  {
   "cell_type": "raw",
   "id": "52637721-435f-4301-9ed2-eac897d64333",
   "metadata": {},
   "source": [
    "f1_value, best_threshold = find_best_threshold(grd_xgb['model'], X_valid, y_valid, f1_score)\n",
    "print(f\"The best F1 score ({f1_value}) for this model is reached with a threshold of {best_threshold}\")"
   ]
  },
  {
   "cell_type": "raw",
   "id": "cc611032-ee98-4c55-b88a-c26a1c69057d",
   "metadata": {},
   "source": [
    "get_scores(f\"Balanced {get_model_name(grd_xgb['model'])} [w/thresholding]\", **grd_xgb, threshold=best_threshold, register=True)"
   ]
  },
  {
   "cell_type": "markdown",
   "id": "e7098e99-b5ab-46df-a018-2d2b836413bf",
   "metadata": {},
   "source": [
    "## 5. Review scores <a class=\"anchor\" id=\"models_balanced_scores\"></a> [⇪](#menu)"
   ]
  },
  {
   "cell_type": "code",
   "execution_count": null,
   "id": "15a52887-6866-43a1-a1f6-70c9d14b645f",
   "metadata": {},
   "outputs": [],
   "source": [
    "scores_df"
   ]
  },
  {
   "cell_type": "code",
   "execution_count": null,
   "id": "0ef862ea-ea07-4817-9211-08d85acbcc2f",
   "metadata": {},
   "outputs": [],
   "source": [
    "scores_df[['Method', 'ROC AUC', 'F1 score', 'Recall']].sort_values('ROC AUC', ascending=False)"
   ]
  },
  {
   "cell_type": "code",
   "execution_count": null,
   "id": "0721046b-f951-4139-86ee-1ee92cbd0fbc",
   "metadata": {},
   "outputs": [],
   "source": [
    "sms.send(\"Balanced done\", stop=False)"
   ]
  },
  {
   "cell_type": "markdown",
   "id": "9340001e-3a36-4d94-9519-fb1207bfdc9a",
   "metadata": {},
   "source": [
    "# Feature Engineering"
   ]
  },
  {
   "cell_type": "code",
   "execution_count": null,
   "id": "dfb4df17-0fdb-4084-997a-6ddea5415a34",
   "metadata": {},
   "outputs": [],
   "source": [
    "data_application_full = pd.read_csv(\n",
    "    zip_file.open('application_train.csv'),\n",
    "    na_values=[\"XNA\", \"Unknown\"], \n",
    "    true_values=[\"Y\", \"Yes\", \"1\"], \n",
    "    false_values=[\"N\", \"No\", \"0\"]\n",
    ")\n",
    "\n",
    "data_application_full.shape"
   ]
  },
  {
   "cell_type": "markdown",
   "id": "77a5e4ad-9ba2-4530-903e-412414e737b2",
   "metadata": {},
   "source": [
    "### What fraction of the price of the goods for which the loan is given, represent the credit amount?"
   ]
  },
  {
   "cell_type": "code",
   "execution_count": null,
   "id": "c5d2f0b3-6564-4c9b-8c80-86580edd859a",
   "metadata": {},
   "outputs": [],
   "source": [
    "data_application_full['FRAC_GOODS_PRICE'] = data_application_full.AMT_CREDIT / data_application_full.AMT_GOODS_PRICE"
   ]
  },
  {
   "cell_type": "code",
   "execution_count": null,
   "id": "51ef00e0-de5e-4ac5-ba4d-da3ff6f52d65",
   "metadata": {},
   "outputs": [],
   "source": [
    "data_application_full[['AMT_CREDIT','AMT_GOODS_PRICE','FRAC_GOODS_PRICE']].head()"
   ]
  },
  {
   "cell_type": "markdown",
   "id": "a1e3fa2b-8f51-4b6b-83fd-7a526005afe5",
   "metadata": {},
   "source": [
    "### How old was the client when it started his current employement position?"
   ]
  },
  {
   "cell_type": "code",
   "execution_count": null,
   "id": "3438a61d-5d19-4e61-b4d2-d40144fd26e8",
   "metadata": {},
   "outputs": [],
   "source": [
    "data_application_full['AGE_EMPLOYEMENT'] = (data_application_full.DAYS_BIRTH - data_application_full.DAYS_EMPLOYED) / -365"
   ]
  },
  {
   "cell_type": "code",
   "execution_count": null,
   "id": "7282a26f-429d-4f4b-8194-0912f3781dcf",
   "metadata": {},
   "outputs": [],
   "source": [
    "data_application_full[['DAYS_BIRTH','DAYS_EMPLOYED','AGE_EMPLOYEMENT']].head()"
   ]
  },
  {
   "cell_type": "markdown",
   "id": "0246c626-f4c7-4b76-bb81-fd90ed865449",
   "metadata": {},
   "source": [
    "### What fraction of the total incomes per member of the family?"
   ]
  },
  {
   "cell_type": "code",
   "execution_count": null,
   "id": "a1909351-39d9-4400-bb5f-5a5bf9f9f7a6",
   "metadata": {},
   "outputs": [],
   "source": [
    "data_application_full['INCOME_PER_FAM_MEMBER'] = data_application_full.AMT_INCOME_TOTAL / data_application_full.CNT_FAM_MEMBERS"
   ]
  },
  {
   "cell_type": "code",
   "execution_count": null,
   "id": "a9b49a35-5928-490f-9158-0617d29c33a9",
   "metadata": {},
   "outputs": [],
   "source": [
    "data_application_full[['AMT_INCOME_TOTAL','CNT_FAM_MEMBERS','INCOME_PER_FAM_MEMBER']].head()"
   ]
  },
  {
   "cell_type": "markdown",
   "id": "97dcbc07-a418-4b63-9768-f1603e7dbfc9",
   "metadata": {},
   "source": [
    "### How many requests overall have been made to the credit bureau?"
   ]
  },
  {
   "cell_type": "code",
   "execution_count": null,
   "id": "79a09bcd-c27e-428f-ac99-7da93c99b99e",
   "metadata": {},
   "outputs": [],
   "source": [
    "data_application_full['AMT_REQ_CREDIT_BUREAU_TOTAL'] =  data_application_full.AMT_REQ_CREDIT_BUREAU_HOUR +\\\n",
    "                                                        data_application_full.AMT_REQ_CREDIT_BUREAU_DAY +\\\n",
    "                                                        data_application_full.AMT_REQ_CREDIT_BUREAU_WEEK +\\\n",
    "                                                        data_application_full.AMT_REQ_CREDIT_BUREAU_MON +\\\n",
    "                                                        data_application_full.AMT_REQ_CREDIT_BUREAU_QRT +\\\n",
    "                                                        data_application_full.AMT_REQ_CREDIT_BUREAU_YEAR"
   ]
  },
  {
   "cell_type": "code",
   "execution_count": null,
   "id": "04a76641-5112-4ae7-a003-e39fcf12ae2b",
   "metadata": {},
   "outputs": [],
   "source": [
    "data_application_full[['AMT_REQ_CREDIT_BUREAU_HOUR','AMT_REQ_CREDIT_BUREAU_DAY','AMT_REQ_CREDIT_BUREAU_WEEK','AMT_REQ_CREDIT_BUREAU_MON','AMT_REQ_CREDIT_BUREAU_QRT','AMT_REQ_CREDIT_BUREAU_YEAR','AMT_REQ_CREDIT_BUREAU_TOTAL']].head()"
   ]
  },
  {
   "cell_type": "code",
   "execution_count": null,
   "id": "ff7c4148-72fc-4ed2-b790-4a2642b45a80",
   "metadata": {},
   "outputs": [],
   "source": []
  },
  {
   "cell_type": "code",
   "execution_count": null,
   "id": "75c18430-e1dc-4b34-aff7-b249aca4f3c8",
   "metadata": {},
   "outputs": [],
   "source": [
    "data_application_train2 = data_application_train.copy()"
   ]
  },
  {
   "cell_type": "code",
   "execution_count": null,
   "id": "b54c99aa-2669-4c87-8408-6d3cd07da1f6",
   "metadata": {},
   "outputs": [],
   "source": [
    "data_application_train2['FRAC_GOODS_PRICE'] = data_application_full['FRAC_GOODS_PRICE']\n",
    "data_application_train2['AGE_EMPLOYEMENT'] = data_application_full['AGE_EMPLOYEMENT']\n",
    "data_application_train2['INCOME_PER_FAM_MEMBER'] = data_application_full['INCOME_PER_FAM_MEMBER']\n",
    "data_application_train2['AMT_REQ_CREDIT_BUREAU_TOTAL'] = data_application_full['AMT_REQ_CREDIT_BUREAU_TOTAL']"
   ]
  },
  {
   "cell_type": "code",
   "execution_count": null,
   "id": "9e24086a-86a8-4b47-a1b7-daf745bae2ad",
   "metadata": {},
   "outputs": [],
   "source": []
  },
  {
   "cell_type": "code",
   "execution_count": null,
   "id": "26ae34c6-403c-413d-85dc-87316d319ac0",
   "metadata": {},
   "outputs": [],
   "source": []
  },
  {
   "cell_type": "code",
   "execution_count": null,
   "id": "25f4ae40-7aae-421e-a23f-c97226bdf1f5",
   "metadata": {},
   "outputs": [],
   "source": [
    "correlations = data_application_train2.corr(method='pearson')"
   ]
  },
  {
   "cell_type": "markdown",
   "id": "ab8ca51c-85a0-47d6-8728-823b8a66b6b4",
   "metadata": {},
   "source": [
    "#### ---- Let's check for the top correlations with the `TARGET` variable ----"
   ]
  },
  {
   "cell_type": "code",
   "execution_count": null,
   "id": "30bd09b0-863c-4c40-9126-4324552ab00b",
   "metadata": {},
   "outputs": [],
   "source": [
    "view_size = 100\n",
    "threshold = 0.0\n",
    "corr_target = correlations.TARGET.sort_values(ascending=False)\n",
    "print(f\"{f'TOP POSITIVES > {threshold}'.rjust(40)}          {f'TOP NEGATIVES < -{threshold}'.rjust(40)}\\n{'-'*100}\")\n",
    "for i, row in enumerate(zip(\n",
    "    corr_target.head(view_size).index, corr_target.head(view_size), \n",
    "    reversed(corr_target.tail(view_size).index), reversed(corr_target.tail(view_size)))):\n",
    "    \n",
    "    print(f\"{row[0].rjust(40)} : {row[1]:6.4f} {row[2].rjust(40)} : {row[3]:6.4f}\")\n",
    "    if((row[1] < threshold and row[3] > -threshold) or (i>=len(corr_target)//2)):\n",
    "        break"
   ]
  },
  {
   "cell_type": "code",
   "execution_count": null,
   "id": "c84ff841-ea11-4f3d-8b1b-8c860db1ac93",
   "metadata": {},
   "outputs": [],
   "source": []
  },
  {
   "cell_type": "code",
   "execution_count": null,
   "id": "0da9d5c2-f189-4b05-bace-df408540c1c1",
   "metadata": {},
   "outputs": [],
   "source": []
  },
  {
   "cell_type": "code",
   "execution_count": null,
   "id": "08d45cc5-eb1e-40cd-8ad1-79b20e7451d3",
   "metadata": {},
   "outputs": [],
   "source": []
  },
  {
   "cell_type": "code",
   "execution_count": null,
   "id": "6c0639e8-f920-4631-839f-d4a33ec2dc1d",
   "metadata": {},
   "outputs": [],
   "source": [
    "data_clean = data_application_train2[:sample_size_base].copy()"
   ]
  },
  {
   "cell_type": "code",
   "execution_count": null,
   "id": "8c2101ac-ef65-49c0-accb-8c5d32cae2b6",
   "metadata": {},
   "outputs": [],
   "source": []
  },
  {
   "cell_type": "code",
   "execution_count": null,
   "id": "92de8d3f-4a2d-4631-b048-fcd50504fe5d",
   "metadata": {},
   "outputs": [],
   "source": [
    "X_full = data_clean.copy()\n",
    "X_full.drop(['TARGET'], axis=1, inplace=True)\n",
    "\n",
    "Y_full = data_clean['TARGET']"
   ]
  },
  {
   "cell_type": "code",
   "execution_count": null,
   "id": "16918b62-ad6b-4d20-a600-0fd2e035c4f7",
   "metadata": {},
   "outputs": [],
   "source": [
    "#X_train_full, X_test, y_train_full, y_test = train_test_split(\n",
    "X_train, X_test, y_train, y_test = train_test_split(\n",
    "                                                X_full, \n",
    "                                                Y_full, \n",
    "                                                test_size=0.10,\n",
    "                                                random_state=0,\n",
    "                                                stratify=Y_full)"
   ]
  },
  {
   "cell_type": "raw",
   "id": "989e6d98-0f09-4591-b54d-6edce97ca0c4",
   "metadata": {},
   "source": [
    "X_train, X_valid, y_train, y_valid = train_test_split(\n",
    "                                                X_train_full, \n",
    "                                                y_train_full, \n",
    "                                                test_size=X_test.shape[0], \n",
    "                                                random_state=0,\n",
    "                                                stratify=y_train_full)"
   ]
  },
  {
   "cell_type": "raw",
   "id": "a2341c76-edea-43f9-93c7-4878883b5983",
   "metadata": {},
   "source": [
    "print(f\"X_train: {X_train.shape[0] / X_full.shape[0] * 100}% | X_valid: {X_valid.shape[0] / X_full.shape[0] * 100}% | X_test: {X_test.shape[0] / X_full.shape[0]* 100}%\")"
   ]
  },
  {
   "cell_type": "markdown",
   "id": "c41d802b-0b93-46e6-b3e2-c691d76d655e",
   "metadata": {},
   "source": [
    "### Encoding the qualitative variables"
   ]
  },
  {
   "cell_type": "code",
   "execution_count": null,
   "id": "3ef9f536-1700-4d8d-84d6-ff145236bb51",
   "metadata": {},
   "outputs": [],
   "source": [
    "#oe_targets = [x for x in X_train_full.select_dtypes(exclude='number').columns if X_train_full[x].nunique() == 2]\n",
    "#ohe_targets = [x for x in X_train_full.select_dtypes(exclude='number').columns if X_train_full[x].nunique() > 2]\n",
    "\n",
    "oe_targets = [x for x in X_train.select_dtypes(exclude='number').columns if X_train[x].nunique() == 2]\n",
    "ohe_targets = [x for x in X_train.select_dtypes(exclude='number').columns if X_train[x].nunique() > 2]"
   ]
  },
  {
   "cell_type": "markdown",
   "id": "e2e2a16f-74d9-42eb-896b-114b6ed5dc12",
   "metadata": {},
   "source": [
    "#### Fit the encoders"
   ]
  },
  {
   "cell_type": "code",
   "execution_count": null,
   "id": "caff8415-6122-4450-8b48-1dfdebb126ba",
   "metadata": {},
   "outputs": [],
   "source": [
    "oe_model, ohe_model = fit_labels(X_train)"
   ]
  },
  {
   "cell_type": "markdown",
   "id": "8a376f4b-c4b1-45b9-a283-8b4680a4b97d",
   "metadata": {},
   "source": [
    "#### Transform the `training`, `validation` and `testing` sets"
   ]
  },
  {
   "cell_type": "code",
   "execution_count": null,
   "id": "475097db-2bc8-4f29-87e8-14aec5aa604b",
   "metadata": {},
   "outputs": [],
   "source": [
    "#X_train_full = transform_labels(X_train_full, oe_model, ohe_model)\n",
    "X_train = transform_labels(X_train, oe_model, ohe_model)\n",
    "#X_valid = transform_labels(X_valid, oe_model, ohe_model)\n",
    "X_test = transform_labels(X_test, oe_model, ohe_model)"
   ]
  },
  {
   "cell_type": "markdown",
   "id": "600265be-b1ec-4363-b4d5-249bc1f1ad19",
   "metadata": {},
   "source": [
    "### Imputations"
   ]
  },
  {
   "cell_type": "code",
   "execution_count": null,
   "id": "62cf912e-ae7b-4f6b-8b70-b193ad0eabeb",
   "metadata": {},
   "outputs": [],
   "source": [
    "imputer_model = fit_imputer(X_train, X_train.select_dtypes(include='number').columns)"
   ]
  },
  {
   "cell_type": "code",
   "execution_count": null,
   "id": "418cb117-68bb-47e4-b217-d93fb6821120",
   "metadata": {},
   "outputs": [],
   "source": [
    "#X_train_full = impute(X_train_full, imputer_model)\n",
    "X_train = impute(X_train, imputer_model)\n",
    "#X_valid = impute(X_valid, imputer_model)\n",
    "X_test = impute(X_test, imputer_model)"
   ]
  },
  {
   "cell_type": "markdown",
   "id": "61c1ea89-e5fe-4780-8b45-a78080604c8f",
   "metadata": {},
   "source": [
    "### Normalizing the dataset"
   ]
  },
  {
   "cell_type": "code",
   "execution_count": null,
   "id": "41748313-c26c-4e9b-87f1-864f868342ef",
   "metadata": {},
   "outputs": [],
   "source": [
    "model_scaler = fit_normalizer(X_train)"
   ]
  },
  {
   "cell_type": "code",
   "execution_count": null,
   "id": "2df73fda-4faa-4d5a-b3cf-28e5a50532c9",
   "metadata": {},
   "outputs": [],
   "source": [
    "#X_train_full = normalize(X_train_full, model_scaler)\n",
    "X_train = normalize(X_train, model_scaler)\n",
    "#X_valid = normalize(X_valid, model_scaler)\n",
    "X_test = normalize(X_test, model_scaler)"
   ]
  },
  {
   "cell_type": "code",
   "execution_count": null,
   "id": "46239273-b967-4ec5-8210-81502274cc6f",
   "metadata": {},
   "outputs": [],
   "source": []
  },
  {
   "cell_type": "code",
   "execution_count": null,
   "id": "ed2c7976-f908-49c4-9022-106bce5f87b0",
   "metadata": {},
   "outputs": [],
   "source": []
  },
  {
   "cell_type": "markdown",
   "id": "7a936717-c034-459d-9e28-45f78cdcbe74",
   "metadata": {},
   "source": [
    "## 1. Balanced Logistic Regression Grid<a class=\"anchor\" id=\"models_linear_balanced\"></a> [⇪](#menu)"
   ]
  },
  {
   "cell_type": "code",
   "execution_count": null,
   "id": "68ea3904-3d44-4a78-a98f-effbea849d02",
   "metadata": {},
   "outputs": [],
   "source": [
    "param_grid = [\n",
    "    {\n",
    "        'class_weight':['balanced'],\n",
    "        'random_state':[0],\n",
    "        'max_iter':[3000],\n",
    "        'solver' : ['lbfgs'],\n",
    "        'penalty' : ['l2'], # none\n",
    "        'C' : [1e-5, 1e-4, 1e-3, 1e-2, 1e-1, 1, 10, 100],\n",
    "    },\n",
    "    {\n",
    "        'class_weight':['balanced'],\n",
    "        'random_state':[0],\n",
    "        'max_iter':[3000],\n",
    "        'solver' : ['liblinear'],\n",
    "        'penalty' : ['l1', 'l2'], # none\n",
    "        'C' : [1e-5, 1e-4, 1e-3, 1e-2, 1e-1, 1, 10, 100],\n",
    "    },\n",
    "]"
   ]
  },
  {
   "cell_type": "code",
   "execution_count": null,
   "id": "6a226f7f-1e9f-4377-b761-e4b0abd77eb9",
   "metadata": {},
   "outputs": [],
   "source": [
    "grd_log = fit_model(\n",
    "    LogisticRegression(), \n",
    "    param_grid=param_grid,  \n",
    "    cv = skfold\n",
    ")"
   ]
  },
  {
   "cell_type": "code",
   "execution_count": null,
   "id": "2e20bdd0-351c-4f7e-831e-523b667e5dd5",
   "metadata": {},
   "outputs": [],
   "source": [
    "grd_log['grid'].best_params_"
   ]
  },
  {
   "cell_type": "code",
   "execution_count": null,
   "id": "6e62ce9d-7eb6-4434-a44a-de68f1c00284",
   "metadata": {},
   "outputs": [],
   "source": [
    "get_scores(f\"Balanced {get_model_name(grd_log['model'])} with extra features\", **grd_log, register=True)"
   ]
  },
  {
   "cell_type": "code",
   "execution_count": null,
   "id": "cdb4e9d7-9c94-4775-9f7c-1aec9338da9a",
   "metadata": {},
   "outputs": [],
   "source": [
    "#### Let's find the best threshold *(based on F1 score)*"
   ]
  },
  {
   "cell_type": "code",
   "execution_count": null,
   "id": "153af492-f8d5-413a-9877-9390dd5c91c8",
   "metadata": {},
   "outputs": [],
   "source": [
    "f1_value, best_threshold = find_best_threshold(grd_log['model'], X_valid, y_valid, f1_score)\n",
    "print(f\"The best F1 score ({f1_value}) for this model is reached with a threshold of {best_threshold}\")"
   ]
  },
  {
   "cell_type": "code",
   "execution_count": null,
   "id": "e58c3d55-7a14-4f75-8350-4c97adf9b9ed",
   "metadata": {},
   "outputs": [],
   "source": [
    "get_scores(f\"Balanced {get_model_name(grd_log['model'])} [w/thresholding & features]\", **grd_log, threshold=best_threshold, register=True)"
   ]
  },
  {
   "cell_type": "markdown",
   "id": "e0a79000-11ee-4dcd-9bc2-9969116b8240",
   "metadata": {},
   "source": [
    "## 2. Balanced Decision Tree Grid <a class=\"anchor\" id=\"models_decision_tree_balanced\"></a> [⇪](#menu)"
   ]
  },
  {
   "cell_type": "code",
   "execution_count": null,
   "id": "3bb335fb-9a5c-4298-b41e-6f7c015a74bd",
   "metadata": {},
   "outputs": [],
   "source": [
    "param_grid = {\n",
    "    'class_weight':['balanced'],\n",
    "    'random_state':[0],\n",
    "    'max_features': [None, 'sqrt', 'log2', ], # auto = sqrt\n",
    "    'ccp_alpha': [0.0, 0.1, 0.01, 0.001],\n",
    "    'max_depth' : [None, 1, 2, 3, 4, 5, 6, 7, 8, 9],\n",
    "    'criterion' :['gini', 'entropy']\n",
    "}"
   ]
  },
  {
   "cell_type": "code",
   "execution_count": null,
   "id": "516134c9-d18c-4efc-81a0-8e71642bdafe",
   "metadata": {},
   "outputs": [],
   "source": [
    "grd_dt = fit_model(\n",
    "    DecisionTreeClassifier(), \n",
    "    param_grid=param_grid,\n",
    "    cv = skfold\n",
    ")"
   ]
  },
  {
   "cell_type": "code",
   "execution_count": null,
   "id": "929336e2-9e54-45ee-a284-4bf24d7aefbc",
   "metadata": {},
   "outputs": [],
   "source": [
    "grd_dt['grid'].best_params_"
   ]
  },
  {
   "cell_type": "code",
   "execution_count": null,
   "id": "d32bbb0b-4720-4e5e-9235-d04aeb8a0ae6",
   "metadata": {},
   "outputs": [],
   "source": [
    "get_scores(f\"Balanced {get_model_name(grd_dt['model'])} with extra features\", **grd_dt, register=True)"
   ]
  },
  {
   "cell_type": "markdown",
   "id": "45150052-dc3e-4000-aa0e-4f2b340494af",
   "metadata": {},
   "source": [
    "#### Let's find the best threshold *(based on F1 score)*"
   ]
  },
  {
   "cell_type": "code",
   "execution_count": null,
   "id": "994daae3-3d66-4129-8e74-bdb5bb186cbd",
   "metadata": {},
   "outputs": [],
   "source": [
    "f1_value, best_threshold = find_best_threshold(grd_dt['model'], X_valid, y_valid, f1_score)\n",
    "print(f\"The best F1 score ({f1_value}) for this model is reached with a threshold of {best_threshold}\")"
   ]
  },
  {
   "cell_type": "code",
   "execution_count": null,
   "id": "65e9fe9b-b4a7-4f0c-9052-0819ffd64233",
   "metadata": {},
   "outputs": [],
   "source": [
    "get_scores(f\"Balanced {get_model_name(grd_dt['model'])} [w/thresholding & features]\", **grd_dt, threshold=best_threshold, register=True)"
   ]
  },
  {
   "cell_type": "markdown",
   "id": "a5ec4b60-e369-429f-b833-73d2aa712412",
   "metadata": {},
   "source": [
    "## 3. Balanced Random Forest Grid <a class=\"anchor\" id=\"models_random_forest_balanced\"></a> [⇪](#menu)"
   ]
  },
  {
   "cell_type": "code",
   "execution_count": null,
   "id": "ca0fbb47-6102-4473-9581-14c0763472af",
   "metadata": {},
   "outputs": [],
   "source": [
    "param_grid = {\n",
    "    'class_weight':['balanced'],\n",
    "    'random_state':[0],\n",
    "    'max_features': [None, 'sqrt', 'log2'], #auto = sqrt\n",
    "    #'ccp_alpha': [0.1, .01, .001],\n",
    "    'max_depth' : [None, 1, 2, 3, 4, 5, 6, 7, 8, 9],\n",
    "    'criterion' :['gini', 'entropy'],\n",
    "    #'n_estimators' :[64, 100, 128, 256, 528]\n",
    "    'n_estimators' :[100, 200, 300, 400, 500]\n",
    "}"
   ]
  },
  {
   "cell_type": "code",
   "execution_count": null,
   "id": "bb3b508a-8e4a-41a2-b1c4-afeed8b6d95c",
   "metadata": {},
   "outputs": [],
   "source": [
    "grd_rf = fit_model(\n",
    "    RandomForestClassifier(n_jobs=-1), \n",
    "    param_grid=param_grid, \n",
    "    cv = skfold\n",
    ")"
   ]
  },
  {
   "cell_type": "code",
   "execution_count": null,
   "id": "b1775cc1-9583-4565-a824-cb3a16f2b7a2",
   "metadata": {},
   "outputs": [],
   "source": [
    "grd_rf['grid'].best_params_"
   ]
  },
  {
   "cell_type": "code",
   "execution_count": null,
   "id": "c4438d30-9221-40fb-a8b5-113319885e70",
   "metadata": {},
   "outputs": [],
   "source": [
    "get_scores(f\"Balanced {get_model_name(grd_rf['model'])} with extra features\", **grd_rf, register=True)"
   ]
  },
  {
   "cell_type": "raw",
   "id": "7a6455da-5d27-43e0-b733-c47339c700a0",
   "metadata": {},
   "source": [
    "#### Let's find the best threshold *(based on F1 score)*"
   ]
  },
  {
   "cell_type": "raw",
   "id": "c3211c1f-50ce-45e3-b52f-eb97b5db027a",
   "metadata": {},
   "source": [
    "f1_value, best_threshold = find_best_threshold(grd_rf['model'], X_valid, y_valid, f1_score)\n",
    "print(f\"The best F1 score ({f1_value}) for this model is reached with a threshold of {best_threshold}\")"
   ]
  },
  {
   "cell_type": "raw",
   "id": "f19f8972-000a-4ff7-b2fb-e2729d612224",
   "metadata": {},
   "source": [
    "get_scores(f\"Balanced {get_model_name(grd_rf['model'])} [w/thresholding]\", **grd_rf, threshold=best_threshold, register=True)"
   ]
  },
  {
   "cell_type": "markdown",
   "id": "0dfdbef2-e682-4ee4-997d-5f7fbaf391c7",
   "metadata": {},
   "source": [
    "## 4. Balanced XGBoost Classifier Grid<a class=\"anchor\" id=\"models_xgboost_balanced\"></a> [⇪](#menu)"
   ]
  },
  {
   "cell_type": "code",
   "execution_count": null,
   "id": "55292a95-7fd8-4ecf-85ca-c9e429fb52cf",
   "metadata": {},
   "outputs": [],
   "source": [
    "from collections import Counter\n",
    "counter = Counter(y_train)\n",
    "scale_weigth = counter[0] / counter[1]"
   ]
  },
  {
   "cell_type": "code",
   "execution_count": null,
   "id": "aa2dd191-bf58-44a2-8fe8-a727ec5dbabd",
   "metadata": {
    "tags": []
   },
   "outputs": [],
   "source": [
    "param_grid = {\n",
    "    'scale_pos_weight':[scale_weigth],\n",
    "    'seed':[0],\n",
    "    'objective':['binary:logistic'], # classification\n",
    "    'eval_metric':['auc'], # classification\n",
    "    'nthread':[-1],\n",
    "    'max_depth': range (2, 10, 1),\n",
    "    'n_estimators': range(60, 220, 40),\n",
    "    'learning_rate': [0.1, 0.01, 0.05]\n",
    "}"
   ]
  },
  {
   "cell_type": "code",
   "execution_count": null,
   "id": "73574896-bc57-45b2-9cf0-ec961999ea65",
   "metadata": {},
   "outputs": [],
   "source": [
    "grd_xgb = fit_model(\n",
    "    XGBClassifier(verbosity=1),\n",
    "    param_grid=param_grid,\n",
    "    cv = skfold\n",
    ")"
   ]
  },
  {
   "cell_type": "code",
   "execution_count": null,
   "id": "715870ea-7c12-4dd0-96b2-928aea357a71",
   "metadata": {},
   "outputs": [],
   "source": [
    "grd_xgb['grid'].best_params_"
   ]
  },
  {
   "cell_type": "code",
   "execution_count": null,
   "id": "93aefe2c-8cfd-4f72-8816-d93a1edbdd9b",
   "metadata": {},
   "outputs": [],
   "source": [
    "get_scores(f\"Balanced {get_model_name(grd_xgb['model'])} with extra features\", **grd_xgb, register=True)"
   ]
  },
  {
   "cell_type": "raw",
   "id": "7bb41872-edec-42f2-825a-a075197abe03",
   "metadata": {},
   "source": [
    "#### Let's find the best threshold *(based on F1 score)*"
   ]
  },
  {
   "cell_type": "raw",
   "id": "f897fa15-3089-4b7e-804f-feea6772f826",
   "metadata": {},
   "source": [
    "f1_value, best_threshold = find_best_threshold(grd_xgb['model'], X_valid, y_valid, f1_score)\n",
    "print(f\"The best F1 score ({f1_value}) for this model is reached with a threshold of {best_threshold}\")"
   ]
  },
  {
   "cell_type": "raw",
   "id": "6d78ee50-6ec3-4808-bf18-d4990ae9ddc1",
   "metadata": {},
   "source": [
    "get_scores(f\"Balanced {get_model_name(grd_xgb['model'])} [w/thresholding]\", **grd_xgb, threshold=best_threshold, register=True)"
   ]
  },
  {
   "cell_type": "code",
   "execution_count": null,
   "id": "08119fb3-5985-492b-8acc-f7ac29426585",
   "metadata": {},
   "outputs": [],
   "source": []
  },
  {
   "cell_type": "code",
   "execution_count": null,
   "id": "bf5fb0ff-46ba-48f5-b514-e3d95e5300fe",
   "metadata": {},
   "outputs": [],
   "source": []
  },
  {
   "cell_type": "code",
   "execution_count": null,
   "id": "71fc0d69-acf9-4961-b7d7-661e0c90b510",
   "metadata": {},
   "outputs": [],
   "source": []
  },
  {
   "cell_type": "code",
   "execution_count": null,
   "id": "0c5e3a03-121a-4053-9b00-8a6400475d32",
   "metadata": {},
   "outputs": [],
   "source": []
  },
  {
   "cell_type": "code",
   "execution_count": null,
   "id": "f9d40472-ed33-4f10-a3bf-e51e64e79305",
   "metadata": {},
   "outputs": [],
   "source": []
  },
  {
   "cell_type": "code",
   "execution_count": null,
   "id": "aa4dba1e-15aa-4a95-8de1-8e5afec24956",
   "metadata": {},
   "outputs": [],
   "source": []
  },
  {
   "cell_type": "code",
   "execution_count": null,
   "id": "2fad2b70-ea6c-4240-a629-eb57e4165498",
   "metadata": {},
   "outputs": [],
   "source": []
  },
  {
   "cell_type": "markdown",
   "id": "3b57455a-2175-4b53-be62-5991a8c7c04a",
   "metadata": {},
   "source": [
    "# Custom metric <a class=\"anchor\" id=\"custom_metric\"></a> [⇪](#menu)"
   ]
  },
  {
   "cell_type": "markdown",
   "id": "07cd5e44-d235-4efa-85a1-65a9573a4517",
   "metadata": {},
   "source": [
    "## 1. The problem <a class=\"anchor\" id=\"custom_metric_problem\"></a> [⇪](#menu)\n",
    "\n",
    ">#### Let's interpret the four correlation matrix values in regards to this project:\n",
    "> - `(TP) True Positive` : the client is predicted as NOT OK and it really is NOT OK. *(we **save** money)*\n",
    "> - `(TN) True Negative` : the client is predicted as OK and it really is OK. *(we **earn** money)*\n",
    "> - `(FP) False Positive` : the client is predicted as OK but it is in fact NOT OK. *(we **miss** money)*\n",
    "> - `(FN) False Negative` : the client is predicted as NOT OK but it is in fact OK. *(we **lose** money)*\n",
    ">\n",
    ">#### So the goals in order of importance are:\n",
    "> 1. minimize the `(FN) False Negative` to **avoid losing money**.\n",
    "> 2. maximize the `(TN) True Negative` to **earn money**.\n",
    "> 3. maximize the `(TP) True Positive` to save money.\n",
    "> 4. minimize the `(FP) False Positive` to avoid missing money.\n",
    "\n",
    ">#### Currently we are using the F1-measure and the ROC-AUC score.\n",
    ">\n",
    "> - The `F1-Measure` **balance the weight** on PRECISION and RECALL.\n",
    "> - The `ROC AUC score`  summarize the **trade-off** between the true positive rate (RECALL) and false positive rate (ANTI-SPECIFICITY).\n",
    ">\n",
    "\n",
    "> RECALL = $\\frac{TP}{TP + FN}$\n",
    "> - High RECALL favors TP over FN\n",
    "> - Low RECALL favors FN over TP\n",
    "\n",
    "> PRECISION = $\\frac{TP}{TP + FP}$\n",
    "> - High PRECISION favors TP over FP\n",
    "> - Low PRECISION favors FP over TP\n",
    "\n",
    "> ANTI-SPECIFICITY = 1 - SPECIFICITY = 1 - $\\frac{TN}{TN + FS}$ = $\\frac{FP}{FP + TN}$\n",
    "> - High ANTI-SPECIFICITY favors FP over TN\n",
    "> - Low ANTI-SPECIFICITY favors TN over FP"
   ]
  },
  {
   "cell_type": "markdown",
   "id": "25e208b6-ee5d-4f1a-a72f-b4bbebea32c3",
   "metadata": {},
   "source": [
    "## 2. F-measure <a class=\"anchor\" id=\"custom_metric_solution\"></a> [⇪](#menu)\n",
    "\n",
    "> * `F0.5-Measure`: **More weight on precision**, less weight on recall.\n",
    "> * `F1-Measure`  : **Balance the weight** on precision and recall.\n",
    "> * `F2-Measure`  : **More weight on recall**, less weight on precision.\n",
    "\n",
    ">#### And luckily, there exists a [Fbeta-score](https://scikit-learn.org/stable/modules/generated/sklearn.metrics.fbeta_score.html) function in sklearn, which can be used to reproduce those F-measure and any in between measure... So we can in fact decide how much weight we want to give to RECALL.\n",
    "\n",
    ">#### We want to maximize this `Fbeta-score` with beta > 1.0 !"
   ]
  },
  {
   "cell_type": "code",
   "execution_count": null,
   "id": "13c399d9-0db8-46e6-8197-8fd58df7beae",
   "metadata": {},
   "outputs": [],
   "source": [
    "from sklearn.metrics import fbeta_score\n",
    "fb_score = fbeta_score(y_test, y_pred_log, beta=2.0)\n",
    "fb_score"
   ]
  },
  {
   "cell_type": "code",
   "execution_count": null,
   "id": "d87518e6-2ba1-468e-90a7-d0cd1e0b7f16",
   "metadata": {},
   "outputs": [],
   "source": [
    "import FreeMobileSMS as sms\n",
    "sms.send()"
   ]
  },
  {
   "cell_type": "code",
   "execution_count": null,
   "id": "c478144d-8859-4933-884b-4c7d777dd1f6",
   "metadata": {},
   "outputs": [],
   "source": []
  }
 ],
 "metadata": {
  "kernelspec": {
   "display_name": "venvP4",
   "language": "python",
   "name": "venvp4"
  },
  "language_info": {
   "codemirror_mode": {
    "name": "ipython",
    "version": 3
   },
   "file_extension": ".py",
   "mimetype": "text/x-python",
   "name": "python",
   "nbconvert_exporter": "python",
   "pygments_lexer": "ipython3",
   "version": "3.8.10"
  }
 },
 "nbformat": 4,
 "nbformat_minor": 5
}
