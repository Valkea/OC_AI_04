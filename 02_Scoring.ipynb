{
 "cells": [
  {
   "cell_type": "markdown",
   "id": "b476f966-e0ee-430a-a13b-8ae56da018b7",
   "metadata": {},
   "source": [
    "# Menu <a class=\"anchor\" id=\"menu\"></a>\n",
    "* [1. Exploratory Data Analysis (EDA)](#eda)\n",
    "* [2. Experimenting various models](#models)\n",
    "    * [2.0 Preparing the dataset](#models_prepare)\n",
    "    * [2.1 Establishing a baseline with DummyClassifier](#models_dummy)\n",
    "    * [2.2 Logistic Regression](#models_linear)\n",
    "    * [2.3 Decision Tree](#models_decision_tree)\n",
    "    * [2.4 Random Forest](#models_random_forest)\n",
    "    * [2.5 XGBoost](#models_xgboost)\n",
    "* [3. Impoving the models with GreadSearchCV](#models_grid)\n",
    "    * [3.1 Logistic Regression Grid](#models_linear_grid)\n",
    "    * [3.2 Decision Tree Grid](#models_decision_tree_grid)\n",
    "    * [3.3 Random Forest Grid](#models_random_forest_grid)\n",
    "    * [3.4 XGBoost Grid](#models_xgboost_grid)\n",
    "* [4. Impoving the models with solutions for Imbalanced datasets](#models_balanced)\n",
    "    * [4.1 Balanced Logistic Regression Grid](#models_linear_balanced)\n",
    "    * [4.2 Balanced Decision Tree Grid](#models_decision_tree_balanced)\n",
    "    * [4.3 Balanced Random Forest Grid](#models_random_forest_balanced)\n",
    "    * [4.4 Balanced XGBoost Grid](#models_xgboost_balanced)"
   ]
  },
  {
   "cell_type": "code",
   "execution_count": 1,
   "id": "05b4e72a-46f9-4866-a8b3-be2c1a44d00f",
   "metadata": {},
   "outputs": [],
   "source": [
    "import pandas as pd\n",
    "import numpy as np\n",
    "\n",
    "import matplotlib.pyplot as plt\n",
    "import seaborn as sns\n",
    "import plotly_express as px\n",
    "\n",
    "from zipfile import ZipFile"
   ]
  },
  {
   "cell_type": "markdown",
   "id": "441db4f7-3535-4536-b077-e67b653c499d",
   "metadata": {},
   "source": [
    "#### ---- Let's load the columns selected in the EDA ----"
   ]
  },
  {
   "cell_type": "code",
   "execution_count": 2,
   "id": "6d89a728-bdd1-436d-a1ad-f2ff596fc511",
   "metadata": {},
   "outputs": [],
   "source": [
    "filename = 'data/dtypes_low.csv'\n",
    "\n",
    "dtypes_df = pd.read_csv(filename, sep=',', index_col=0)\n",
    "\n",
    "cols_to_keep = dtypes_df.columns\n",
    "dtypes = dtypes_df.to_dict('records')[0]"
   ]
  },
  {
   "cell_type": "markdown",
   "id": "01fe8dfe-b0a8-4e88-b8e2-a4c65972caa7",
   "metadata": {},
   "source": [
    "#### \\<test>"
   ]
  },
  {
   "cell_type": "raw",
   "id": "163c65c8-1abc-43a4-8ad6-8168ef90cc93",
   "metadata": {},
   "source": [
    "cols_to_keep = (set(cols_to_keep) | set(['HOUSETYPE_MODE'])) - set(['EMERGENCYSTATE_MODE']) "
   ]
  },
  {
   "cell_type": "markdown",
   "id": "1edb8a5a-aa1e-4268-baf3-bde70bf480f3",
   "metadata": {},
   "source": [
    "#### \\<\\test>"
   ]
  },
  {
   "cell_type": "code",
   "execution_count": 3,
   "id": "a8101dc0-7629-49a4-aa47-cebd30e22c32",
   "metadata": {},
   "outputs": [],
   "source": [
    "zip_file = ZipFile('data/Projet+Mise+en+prod+-+home-credit-default-risk.zip')"
   ]
  },
  {
   "cell_type": "code",
   "execution_count": 4,
   "id": "e61afcbe-766f-4683-b829-f68ed9b384f1",
   "metadata": {},
   "outputs": [
    {
     "data": {
      "text/plain": [
       "(307511, 52)"
      ]
     },
     "execution_count": 4,
     "metadata": {},
     "output_type": "execute_result"
    }
   ],
   "source": [
    "data_application_train = pd.read_csv(\n",
    "    zip_file.open('application_train.csv'),\n",
    "    #dtype=dtypes, \n",
    "    usecols=cols_to_keep,\n",
    "    na_values=[\"XNA\", \"Unknown\"], \n",
    "    true_values=[\"Y\", \"Yes\", \"1\"], \n",
    "    false_values=[\"N\", \"No\", \"0\"]\n",
    ")\n",
    "\n",
    "pd.options.display.max_columns = data_application_train.shape[0]\n",
    "pd.options.display.max_rows = 100\n",
    "\n",
    "data_application_train.shape"
   ]
  },
  {
   "cell_type": "markdown",
   "id": "ada591a5-5b8d-48ee-a5cd-ede36cb1e853",
   "metadata": {},
   "source": [
    "#### \\<test>"
   ]
  },
  {
   "cell_type": "raw",
   "id": "6ed6874e-21d1-4a0f-aef6-ba1ba747b273",
   "metadata": {},
   "source": [
    "data_application_train.drop(columns=DROP_SELECT2, inplace=True )\n",
    "data_application_train.shape"
   ]
  },
  {
   "cell_type": "markdown",
   "id": "f93f9361-842c-4435-b900-80ca5a9e8c2e",
   "metadata": {},
   "source": [
    "#### \\<\\test>"
   ]
  },
  {
   "cell_type": "markdown",
   "id": "2bb25eab-1a24-43cc-a174-c80eb8a38d9b",
   "metadata": {},
   "source": [
    "## Feature Engigeering"
   ]
  },
  {
   "cell_type": "code",
   "execution_count": 5,
   "id": "284fb4cf-c2b3-40b6-a12a-48c22fe6a4d7",
   "metadata": {},
   "outputs": [],
   "source": [
    "data_clean = data_application_train.copy()"
   ]
  },
  {
   "cell_type": "code",
   "execution_count": 6,
   "id": "3d266f7e-f3ba-435a-ba67-48f0e5d85946",
   "metadata": {},
   "outputs": [],
   "source": [
    "import missingno as msno"
   ]
  },
  {
   "cell_type": "markdown",
   "id": "21632379-88e5-4e90-bfa1-62b9828bd215",
   "metadata": {},
   "source": [
    "# Experimenting various models <a class=\"anchor\" id=\"models\"></a> [⇪](#menu)"
   ]
  },
  {
   "cell_type": "markdown",
   "id": "dd9b4e93-8f0d-4d3d-9362-cba40bead807",
   "metadata": {},
   "source": [
    "## 0. Preparing the dataset <a class=\"anchor\" id=\"models_prepare\"></a> [⇪](#menu)"
   ]
  },
  {
   "cell_type": "markdown",
   "id": "1c266f58-8693-4ca5-ba7a-1b2225ec73d7",
   "metadata": {},
   "source": [
    "### Splitting the dataset between `train`, `validation` and `test` sets"
   ]
  },
  {
   "cell_type": "code",
   "execution_count": 7,
   "id": "14468b58-4876-4a60-93b5-59d4b5022a68",
   "metadata": {},
   "outputs": [],
   "source": [
    "from sklearn.model_selection import train_test_split"
   ]
  },
  {
   "cell_type": "code",
   "execution_count": 8,
   "id": "f34e6d66-5af6-49ab-a6d0-1fabeaa7a45b",
   "metadata": {},
   "outputs": [],
   "source": [
    "X_full = data_clean.copy()\n",
    "X_full.drop(['TARGET'], axis=1, inplace=True)\n",
    "\n",
    "Y_full = data_clean['TARGET']"
   ]
  },
  {
   "cell_type": "code",
   "execution_count": 9,
   "id": "ec2c1cab-88ed-4e3c-95b2-2df361cadad0",
   "metadata": {},
   "outputs": [],
   "source": [
    "X_train_full, X_test, y_train_full, y_test = train_test_split(\n",
    "                                                X_full, \n",
    "                                                Y_full, \n",
    "                                                test_size=0.20,\n",
    "                                                random_state=0,\n",
    "                                                stratify=Y_full)"
   ]
  },
  {
   "cell_type": "code",
   "execution_count": 10,
   "id": "32daf6fe-c976-45de-99b0-fc412d80fd00",
   "metadata": {},
   "outputs": [],
   "source": [
    "X_train, X_valid, y_train, y_valid = train_test_split(\n",
    "                                                X_train_full, \n",
    "                                                y_train_full, \n",
    "                                                test_size=X_test.shape[0], \n",
    "                                                random_state=0,\n",
    "                                                stratify=y_train_full)"
   ]
  },
  {
   "cell_type": "code",
   "execution_count": 11,
   "id": "a1b09a83-5253-4f89-90e1-159538e7da3a",
   "metadata": {},
   "outputs": [
    {
     "data": {
      "text/plain": [
       "((184505, 51), (184505,), (61503, 51), (61503,), (61503, 51), (61503,))"
      ]
     },
     "execution_count": 11,
     "metadata": {},
     "output_type": "execute_result"
    }
   ],
   "source": [
    "X_train.shape, y_train.shape, X_valid.shape, y_valid.shape, X_test.shape, y_test.shape"
   ]
  },
  {
   "cell_type": "markdown",
   "id": "e890f0e5-5845-4249-887d-98ab3b5694bb",
   "metadata": {},
   "source": [
    "### Encoding the qualitative variables"
   ]
  },
  {
   "cell_type": "code",
   "execution_count": 12,
   "id": "37dda5ec-15cb-4346-82dc-afb744c94bd4",
   "metadata": {},
   "outputs": [],
   "source": [
    "from sklearn.preprocessing import LabelEncoder, OneHotEncoder, OrdinalEncoder"
   ]
  },
  {
   "cell_type": "code",
   "execution_count": 13,
   "id": "939ac024-bc11-470d-9ae3-ff508e3efef8",
   "metadata": {},
   "outputs": [],
   "source": [
    "oe_targets = [x for x in X_train.select_dtypes(exclude='number').columns if X_train[x].nunique() == 2]\n",
    "ohe_targets = [x for x in X_train.select_dtypes(exclude='number').columns if X_train[x].nunique() > 2]"
   ]
  },
  {
   "cell_type": "code",
   "execution_count": 14,
   "id": "19f921bd-8ad9-4bee-a172-2a09759578c2",
   "metadata": {},
   "outputs": [],
   "source": [
    "def fit_labels(data):\n",
    "    \"\"\" Prepare the encoder for the ordinal columns.\n",
    "    - Columns with 2 unique values are encoded using an OrdinalEncoder\n",
    "    - Columns with more than 2 unique values are encoded using a OneHotEncoder\n",
    "        \n",
    "    Parameters\n",
    "    ----------\n",
    "    data: pandas' DataFrame\n",
    "        The dataset used as reference for the label encoders\n",
    "        \n",
    "    Returns\n",
    "    -------\n",
    "    OrdinalEncoder\n",
    "        the OE instance used to encode columns with 2 unique values\n",
    "    OneHotEncoder\n",
    "        the OHE instance used to encode columns with 3+ unique values\n",
    "    \"\"\"\n",
    "    \n",
    "    oe_targets = []\n",
    "    ohe_targets = []\n",
    "    \n",
    "    for col in data.select_dtypes(exclude='number').columns:\n",
    "        if data[col].nunique() == 2:\n",
    "            oe_targets.append(col)\n",
    "        else:\n",
    "            ohe_targets.append(col)\n",
    "        \n",
    "    # OrdinalEncoder\n",
    "    oe = OrdinalEncoder()\n",
    "    oe.fit(data[oe_targets])\n",
    "    \n",
    "    # OneHotEncoder\n",
    "    ohe = OneHotEncoder(sparse=False)\n",
    "    ohe.fit(data[ohe_targets])\n",
    "    \n",
    "    return oe, ohe\n",
    "\n",
    "def transform_labels(data, oe_model, ohe_mode):\n",
    "    \"\"\" Transform the provided dataset using the provided encoders.\n",
    "            \n",
    "    Parameters\n",
    "    ----------\n",
    "    data: pandas' DataFrame\n",
    "        The dataset that needs to be label encoded\n",
    "        \n",
    "    Returns\n",
    "    -------\n",
    "    DataFrame\n",
    "        a new dataframe with the encoded labels instead of the non encoded ones\n",
    "    \"\"\"\n",
    "    dt = data.copy()\n",
    "    \n",
    "    # OrdinalEncoder\n",
    "    dt[oe_model.feature_names_in_] = oe_model.transform(dt[oe_model.feature_names_in_])\n",
    "    \n",
    "    # OneHotEncoder\n",
    "    array_hot_encoded = ohe_model.transform(dt[ohe_model.feature_names_in_])\n",
    "    data_hot_encoded = pd.DataFrame(array_hot_encoded, index=dt.index, columns=ohe_model.get_feature_names_out())\n",
    "    data_other_cols = dt.drop(columns=ohe_model.feature_names_in_)\n",
    "    dt = pd.concat([data_hot_encoded, data_other_cols], axis=1)\n",
    "    \n",
    "    return dt"
   ]
  },
  {
   "cell_type": "markdown",
   "id": "c96275dd-f6df-4065-ac94-df1e0aa00556",
   "metadata": {},
   "source": [
    "#### Fit the encoders"
   ]
  },
  {
   "cell_type": "code",
   "execution_count": 15,
   "id": "5faf7fa9-a7a5-42f1-a4ed-a2e4cbfabcb5",
   "metadata": {},
   "outputs": [],
   "source": [
    "oe_model, ohe_model = fit_labels(X_train)"
   ]
  },
  {
   "cell_type": "markdown",
   "id": "6c4b0014-9202-44b3-9457-e8035edc7bc0",
   "metadata": {},
   "source": [
    "#### Transform the `training`, `validation` and `testing` sets"
   ]
  },
  {
   "cell_type": "code",
   "execution_count": 16,
   "id": "031b91f0-d6b3-4e6c-9536-bb1678873a45",
   "metadata": {},
   "outputs": [],
   "source": [
    "X_train = transform_labels(X_train, oe_model, ohe_model)\n",
    "X_valid = transform_labels(X_valid, oe_model, ohe_model)\n",
    "X_test = transform_labels(X_test, oe_model, ohe_model)\n",
    "X_train_full = transform_labels(X_train_full, oe_model, ohe_model)"
   ]
  },
  {
   "cell_type": "markdown",
   "id": "b58902b4-de7d-4e0b-a67a-740dab570b99",
   "metadata": {},
   "source": [
    "### Imputations"
   ]
  },
  {
   "cell_type": "code",
   "execution_count": 17,
   "id": "168b8c92-47af-4082-85c0-3ef9c60a2f26",
   "metadata": {},
   "outputs": [],
   "source": [
    "from sklearn.experimental import enable_iterative_imputer\n",
    "from sklearn.impute import SimpleImputer, IterativeImputer"
   ]
  },
  {
   "cell_type": "code",
   "execution_count": 18,
   "id": "d589f3e4-2f22-4df2-9968-2b100bcf3be4",
   "metadata": {},
   "outputs": [],
   "source": [
    "def fit_imputer(data, columns):\n",
    "    \n",
    "    imputer = SimpleImputer(strategy='median')\n",
    "    #imputer = IterativeImputer(\n",
    "    #    imputation_order='ascending', \n",
    "    #    random_state=0, \n",
    "        #min_value=0, \n",
    "        #max_value=max_values_imput\n",
    "    #    n_nearest_features = 10,\n",
    "    #)\n",
    "    imputer.fit(data[columns])\n",
    "    \n",
    "    return imputer\n",
    "\n",
    "def impute(data, imputer):\n",
    "    \n",
    "    dt = data.copy()\n",
    "    dt_imput = pd.DataFrame(imputer.transform(dt[imputer.feature_names_in_]), index=dt.index, columns=imputer.feature_names_in_)\n",
    "    dt[imputer.feature_names_in_] = dt_imput\n",
    "    print(dt.shape, type(dt))\n",
    "    \n",
    "    return dt"
   ]
  },
  {
   "cell_type": "code",
   "execution_count": 19,
   "id": "4d65d262-ae88-42bd-ae8b-b2d3d81b6299",
   "metadata": {},
   "outputs": [],
   "source": [
    "imputer_model = fit_imputer(X_train, X_train.select_dtypes(include='number').columns)"
   ]
  },
  {
   "cell_type": "code",
   "execution_count": 20,
   "id": "fc7fc953-7962-4a69-bd86-85bddac2c27a",
   "metadata": {},
   "outputs": [
    {
     "name": "stdout",
     "output_type": "stream",
     "text": [
      "(184505, 153) <class 'pandas.core.frame.DataFrame'>\n",
      "(61503, 153) <class 'pandas.core.frame.DataFrame'>\n",
      "(61503, 153) <class 'pandas.core.frame.DataFrame'>\n"
     ]
    }
   ],
   "source": [
    "X_train = impute(X_train, imputer_model)\n",
    "X_valid = impute(X_valid, imputer_model)\n",
    "X_test = impute(X_test, imputer_model)\n",
    "X_train_full = impute(X_train_full, imputer_model)"
   ]
  },
  {
   "cell_type": "code",
   "execution_count": 21,
   "id": "90211455-b7f1-4d1c-8845-628b34405810",
   "metadata": {},
   "outputs": [
    {
     "data": {
      "text/plain": [
       "<AxesSubplot:>"
      ]
     },
     "execution_count": 21,
     "metadata": {},
     "output_type": "execute_result"
    },
    {
     "data": {
      "image/png": "[encoded data removed]",
      "text/plain": [
       "<Figure size 1800x720 with 2 Axes>"
      ]
     },
     "metadata": {
      "needs_background": "light"
     },
     "output_type": "display_data"
    }
   ],
   "source": [
    "msno.matrix(X_train)"
   ]
  },
  {
   "cell_type": "markdown",
   "id": "f8687e1c-5a27-44e2-b60f-0c0929271060",
   "metadata": {},
   "source": [
    "### Normalizing the dataset"
   ]
  },
  {
   "cell_type": "code",
   "execution_count": 22,
   "id": "2f047d48-7d30-4d44-bd43-0cbeab3d7dc4",
   "metadata": {},
   "outputs": [],
   "source": [
    "from sklearn.preprocessing import MinMaxScaler, StandardScaler, RobustScaler"
   ]
  },
  {
   "cell_type": "code",
   "execution_count": 23,
   "id": "462517d1-5d4a-4b73-9b13-cf97146be6a0",
   "metadata": {},
   "outputs": [],
   "source": [
    "def fit_normalizer(data):\n",
    "    \n",
    "    #minmax_scaler = MinMaxScaler(feature_range = (0, 1))\n",
    "    #minmax_scaler.fit(data)\n",
    "    \n",
    "    #std_scaler = StandardScaler()\n",
    "    #std_scaler.fit(data)\n",
    "    \n",
    "    #return minmax_scaler, std_scaler\n",
    "    \n",
    "    robust_scaler = RobustScaler()\n",
    "    robust_scaler.fit(data)\n",
    "    \n",
    "    return robust_scaler\n",
    "\n",
    "#def normalize(data, minmax_scaler, std_scaler):\n",
    "def normalize(data, robust_scaler):\n",
    "    \n",
    "    dt = data.copy()\n",
    "    #dt = pd.DataFrame(minmax_scaler.transform(dt), index=dt.index, columns=dt.columns)\n",
    "    #dt = pd.DataFrame(std_scaler.transform(dt), index=dt.index, columns=dt.columns)\n",
    "    dt = pd.DataFrame(robust_scaler.transform(dt), index=dt.index, columns=dt.columns)\n",
    "    \n",
    "    return dt"
   ]
  },
  {
   "cell_type": "code",
   "execution_count": 24,
   "id": "1aa676a2-1f5d-4af9-8233-d5bcea1f8c33",
   "metadata": {},
   "outputs": [],
   "source": [
    "#normalizer_model, standardizer_model = fit_normalizer(X_train)\n",
    "model_scaler = fit_normalizer(X_train)"
   ]
  },
  {
   "cell_type": "code",
   "execution_count": 25,
   "id": "ff58880c-f7fc-479e-ba42-30267180de45",
   "metadata": {},
   "outputs": [],
   "source": [
    "#X_train = normalize(X_train, normalizer_model, standardizer_model)\n",
    "#X_valid = normalize(X_valid, normalizer_model, standardizer_model)\n",
    "#X_test = normalize(X_test, normalizer_model, standardizer_model)\n",
    "\n",
    "X_train = normalize(X_train, model_scaler)\n",
    "X_valid = normalize(X_valid, model_scaler)\n",
    "X_test = normalize(X_test, model_scaler)\n",
    "X_train_full = normalize(X_train_full, model_scaler)"
   ]
  },
  {
   "cell_type": "markdown",
   "id": "e2fcbc1e-8ee8-4a11-a681-7dc2c207438d",
   "metadata": {},
   "source": [
    "### Define some report functions"
   ]
  },
  {
   "cell_type": "code",
   "execution_count": 26,
   "id": "d9004606-4801-4663-90e6-ac2444495602",
   "metadata": {},
   "outputs": [],
   "source": [
    "from sklearn.metrics import accuracy_score, recall_score, precision_score, roc_auc_score, roc_curve, classification_report, confusion_matrix, ConfusionMatrixDisplay, RocCurveDisplay, f1_score"
   ]
  },
  {
   "cell_type": "code",
   "execution_count": 27,
   "id": "16d435e6-01f4-42e8-9859-64d0ffddbbdd",
   "metadata": {},
   "outputs": [],
   "source": [
    "def print_classification_report(y_true, y_pred):\n",
    "    report = classification_report(y_true, y_pred, labels=[0,1], target_names=['Prediction = 0', 'Prediction = 1'], zero_division=0)\n",
    "    print(\"--- Classification Report ---\\n\\n\", report)"
   ]
  },
  {
   "cell_type": "code",
   "execution_count": 28,
   "id": "f4702e28-ea9b-4306-b9d1-fe883e08c5d8",
   "metadata": {},
   "outputs": [],
   "source": [
    "def print_confusion_matrix(y_true, y_pred):\n",
    "    cm = confusion_matrix(y_true, y_pred, labels=[0,1])\n",
    "    disp = ConfusionMatrixDisplay(confusion_matrix=cm, display_labels=[0,1])\n",
    "    fig, ax = plt.subplots(figsize=(6,6))\n",
    "    disp.plot(ax=ax)\n",
    "    print(\"--- Confusion Matrix ---\\n\")\n",
    "    plt.show()"
   ]
  },
  {
   "cell_type": "code",
   "execution_count": 29,
   "id": "9641ba63-0b39-47bb-babf-6618687acc24",
   "metadata": {},
   "outputs": [],
   "source": [
    "def print_rocauc(y_true, y_pred_dict, figsize=[5,5], ax=None):\n",
    "    \n",
    "    print(f\"--- ROC AUC ---\\n\")\n",
    "    auc_scores = {}\n",
    "    last_index = len(y_pred_dict)\n",
    "\n",
    "    if ax == None:\n",
    "        figure = plt.figure(figsize=figsize)\n",
    "        ax = plt\n",
    "\n",
    "    for i, (model_name, y_pred) in enumerate(y_pred_dict.items()):\n",
    "        alpha_v = 1 if i == last_index-1 else 0.5\n",
    "        \n",
    "        roc_score = roc_auc_score(y_true, y_pred)\n",
    "        fpr, tpr, thresholds = roc_curve(y_true, y_pred)\n",
    "        \n",
    "        ax.plot(fpr, tpr, label=f\"{model_name} ({roc_score:.2f})\", alpha=alpha_v)\n",
    "        auc_scores[model_name] = roc_score\n",
    "            \n",
    "    ax.plot([0, 1], [0, 1], label='Random (0.5)', linestyle='--', color='red', alpha=0.5)\n",
    "    plt.xlabel('FPR (Positive label: 1)')\n",
    "    plt.ylabel('TPR (Positive label: 1)')\n",
    "    #plt.legend()\n",
    "    ax.legend(loc='center left', bbox_to_anchor=(1, 0.5))\n",
    "    \n",
    "    return auc_scores"
   ]
  },
  {
   "cell_type": "code",
   "execution_count": 30,
   "id": "e14db49d-a602-4321-9ce9-63f325bbca83",
   "metadata": {},
   "outputs": [],
   "source": [
    "scores = pd.DataFrame(columns=['Method', 'ROC AUC', 'F1 score', 'Accuracy', 'Precision', 'Recall', 'TP', 'TN', 'FP', 'FN', 'Training time', 'Inference time'])\n",
    "y_preds = {}\n",
    "scores_path = 'data/scores.csv'\n",
    "scores.to_csv(scores_path, index=False)\n",
    "\n",
    "import time\n",
    "\n",
    "def get_scores(method_name, model, X_ref=None, y_ref=None, threshold=None, training_time=None, inference_time=None, register=False, simple=False, show_classification=True, show_confusion=True, show_roccurves=True):\n",
    "    \n",
    "    if X_ref==None:\n",
    "        X_ref = X_test\n",
    "        \n",
    "    if y_ref==None:\n",
    "        y_ref = y_test\n",
    "    \n",
    "    y_pred, y_pred_proba, inference_time = predict(model, X_ref, threshold)\n",
    "    \n",
    "    rocauc_value = roc_auc_score(y_ref, y_pred_proba)\n",
    "    f1_value = f1_score(y_ref, y_pred)\n",
    "    accuracy_value = accuracy_score(y_ref, y_pred)\n",
    "    precision_value = precision_score(y_ref, y_pred, zero_division=0)\n",
    "    recall_value = recall_score(y_ref, y_pred)\n",
    "    \n",
    "    cm = confusion_matrix(y_ref, y_pred, labels=[0,1])\n",
    "    TN, FP, FN, TP = cm[0][0], cm[0][1], cm[1][0], cm[1][1]\n",
    "    \n",
    "    # Register score and replace if it already exists\n",
    "    if register:\n",
    "        idx = np.where(scores.Method == method_name)[0]        \n",
    "        idx = idx[0] if idx.size > 0 else len(scores.index)\n",
    "        scores.loc[idx] = [method_name, rocauc_value, f1_value, accuracy_value, precision_value, recall_value, TP, TN, FP, FN, training_time, inference_time]\n",
    "        \n",
    "        scores.to_csv(scores_path, index=False)\n",
    "    \n",
    "    # Basic report\n",
    "    print(f\"--- {method_name} ---\\n\\nROC AUC:{rocauc_value}\\nF1-score:{f1_value}\\nRecall:{recall_value}\\n\")\n",
    "    \n",
    "    if simple:\n",
    "        return\n",
    "    \n",
    "    # Classification report\n",
    "    if show_classification:\n",
    "        print_classification_report(y_ref, y_pred)\n",
    "    \n",
    "    # Confusion Matrix\n",
    "    if show_confusion:\n",
    "        print_confusion_matrix(y_ref, y_pred)\n",
    "    \n",
    "    # ROC AUC curves\n",
    "    if show_roccurves:\n",
    "        y_preds[method_name] = y_pred_proba\n",
    "        print_rocauc(y_ref, y_preds)"
   ]
  },
  {
   "cell_type": "code",
   "execution_count": 31,
   "id": "3cb25523-af8e-48ec-a4e5-2ff9fa20f2b6",
   "metadata": {},
   "outputs": [],
   "source": [
    "def get_labels_from_threshold(y_proba, threshold):\n",
    "    return (y_proba >= threshold).astype('int')\n",
    "\n",
    "def find_best_threshold(model, X_valid, y_valid, eval_function ):\n",
    "\n",
    "    best_threshold = 0.0\n",
    "    best_score = 0.0\n",
    "    y_pred_proba = model.predict_proba(X_valid)[:,1]\n",
    "    \n",
    "    for threshold in np.arange(0, 1, 0.001):\n",
    "        \n",
    "        y_pred_threshold = get_labels_from_threshold(y_pred_proba, threshold)\n",
    "        \n",
    "        score = eval_function(y_valid, y_pred_threshold)\n",
    "        if score >= best_threshold:\n",
    "            best_threshold = threshold\n",
    "            best_score = score\n",
    "        \n",
    "    return best_score, best_threshold"
   ]
  },
  {
   "cell_type": "code",
   "execution_count": 32,
   "id": "e8cbcf48-fe01-4a9c-8df7-19e36c1fafab",
   "metadata": {},
   "outputs": [],
   "source": [
    "def predict(model, X_ref, threshold=None):\n",
    "    t0 = time.perf_counter()\n",
    "    \n",
    "    y_pred_proba = model.predict_proba(X_test)[:,1]\n",
    "    if threshold:\n",
    "        y_pred = get_labels_from_threshold(y_pred_proba, threshold)\n",
    "    else:\n",
    "        y_pred = model.predict(X_test)\n",
    "    \n",
    "    tt = time.perf_counter() - t0\n",
    "    return y_pred, y_pred_proba, tt"
   ]
  },
  {
   "cell_type": "markdown",
   "id": "99b75ac5-0b31-4686-aa69-ef77517b71e8",
   "metadata": {},
   "source": [
    "## 1. Establishing baseline with Dummy Classifier <a class=\"anchor\" id=\"models_dummy\"></a> [⇪](#menu)"
   ]
  },
  {
   "cell_type": "code",
   "execution_count": 33,
   "id": "52ee9c57-880e-4635-a63e-4a242fe68af7",
   "metadata": {},
   "outputs": [],
   "source": [
    "from sklearn.dummy import DummyClassifier"
   ]
  },
  {
   "cell_type": "code",
   "execution_count": 34,
   "id": "dcff78e6-9960-475d-82b1-c47aa509dd08",
   "metadata": {},
   "outputs": [],
   "source": [
    "clf_dummy = DummyClassifier(strategy='stratified', random_state=0)"
   ]
  },
  {
   "cell_type": "code",
   "execution_count": 35,
   "id": "65aacf46-7180-40f9-b4a8-81f4a82ba5a0",
   "metadata": {},
   "outputs": [],
   "source": [
    "t0 = time.perf_counter()\n",
    "\n",
    "clf_dummy.fit(X_train, y_train)\n",
    "\n",
    "tt = time.perf_counter() - t0"
   ]
  },
  {
   "cell_type": "code",
   "execution_count": 36,
   "id": "17023ec7-6f7e-4c25-b1e6-ae5d083745cb",
   "metadata": {},
   "outputs": [
    {
     "name": "stdout",
     "output_type": "stream",
     "text": [
      "--- Dummy ---\n",
      "\n",
      "ROC AUC:0.5003972944860015\n",
      "F1-score:0.0810126582278481\n",
      "Recall:0.08056394763343404\n",
      "\n",
      "--- Classification Report ---\n",
      "\n",
      "                 precision    recall  f1-score   support\n",
      "\n",
      "Prediction = 0       0.92      0.92      0.92     56538\n",
      "Prediction = 1       0.08      0.08      0.08      4965\n",
      "\n",
      "      accuracy                           0.85     61503\n",
      "     macro avg       0.50      0.50      0.50     61503\n",
      "  weighted avg       0.85      0.85      0.85     61503\n",
      "\n",
      "--- Confusion Matrix ---\n",
      "\n"
     ]
    },
    {
     "data": {
      "image/png": "[encoded data removed]",
      "text/plain": [
       "<Figure size 432x432 with 2 Axes>"
      ]
     },
     "metadata": {
      "needs_background": "light"
     },
     "output_type": "display_data"
    },
    {
     "name": "stdout",
     "output_type": "stream",
     "text": [
      "--- ROC AUC ---\n",
      "\n"
     ]
    },
    {
     "data": {
      "image/png": "[encoded data removed]",
      "text/plain": [
       "<Figure size 360x360 with 1 Axes>"
      ]
     },
     "metadata": {
      "needs_background": "light"
     },
     "output_type": "display_data"
    }
   ],
   "source": [
    "get_scores(\"Dummy\", clf_dummy, training_time=tt, register=True)"
   ]
  },
  {
   "cell_type": "markdown",
   "id": "f2adb53e-e223-4f84-9e26-74e1289c8608",
   "metadata": {},
   "source": [
    "> - The **recall** means \"how many of this class you find over the whole number of element of this class\"\n",
    "> - The **precision** will be \"how many are correctly classified among that class\"\n",
    "> - The **f1-score** is the harmonic mean between precision & recall\n",
    "> - The **support** is the number of occurence of the given class in your dataset\n"
   ]
  },
  {
   "cell_type": "markdown",
   "id": "728fca76-6bb8-4402-8bb0-ff5bce8f39b1",
   "metadata": {},
   "source": [
    "## 2. Logistic Regression <a class=\"anchor\" id=\"models_linear\"></a> [⇪](#menu)"
   ]
  },
  {
   "cell_type": "code",
   "execution_count": 37,
   "id": "c56c52a2-79b2-4020-ac56-02dad7e81b9e",
   "metadata": {},
   "outputs": [],
   "source": [
    "from sklearn.linear_model import LogisticRegression"
   ]
  },
  {
   "cell_type": "code",
   "execution_count": 38,
   "id": "35e2558b-2f61-4b2f-a5de-ea1f76b50618",
   "metadata": {},
   "outputs": [],
   "source": [
    "clf_log = LogisticRegression(C=0.1, random_state=0)"
   ]
  },
  {
   "cell_type": "code",
   "execution_count": 39,
   "id": "82101348-4160-4e16-ac5f-108e9cecc397",
   "metadata": {},
   "outputs": [
    {
     "name": "stderr",
     "output_type": "stream",
     "text": [
      "/home/valkea/Dev/OpenClassrooms/Projets_AI/P4/venvP4/lib/python3.8/site-packages/sklearn/linear_model/_logistic.py:814: ConvergenceWarning: lbfgs failed to converge (status=1):\n",
      "STOP: TOTAL NO. of ITERATIONS REACHED LIMIT.\n",
      "\n",
      "Increase the number of iterations (max_iter) or scale the data as shown in:\n",
      "    https://scikit-learn.org/stable/modules/preprocessing.html\n",
      "Please also refer to the documentation for alternative solver options:\n",
      "    https://scikit-learn.org/stable/modules/linear_model.html#logistic-regression\n",
      "  n_iter_i = _check_optimize_result(\n"
     ]
    }
   ],
   "source": [
    "t0 = time.perf_counter()\n",
    "\n",
    "clf_log.fit(X_train, y_train)\n",
    "\n",
    "tt = time.perf_counter() - t0"
   ]
  },
  {
   "cell_type": "code",
   "execution_count": 40,
   "id": "5cb44c3f-8ee2-4bff-85c1-ac2f298bf8a9",
   "metadata": {},
   "outputs": [
    {
     "name": "stdout",
     "output_type": "stream",
     "text": [
      "--- Basic Logistic Regression ---\n",
      "\n",
      "ROC AUC:0.743976468766811\n",
      "F1-score:0.014691284494738934\n",
      "Recall:0.0074521651560926485\n",
      "\n",
      "--- Classification Report ---\n",
      "\n",
      "                 precision    recall  f1-score   support\n",
      "\n",
      "Prediction = 0       0.92      1.00      0.96     56538\n",
      "Prediction = 1       0.51      0.01      0.01      4965\n",
      "\n",
      "      accuracy                           0.92     61503\n",
      "     macro avg       0.72      0.50      0.49     61503\n",
      "  weighted avg       0.89      0.92      0.88     61503\n",
      "\n",
      "--- Confusion Matrix ---\n",
      "\n"
     ]
    },
    {
     "data": {
      "image/png": "[encoded data removed]",
      "text/plain": [
       "<Figure size 432x432 with 2 Axes>"
      ]
     },
     "metadata": {
      "needs_background": "light"
     },
     "output_type": "display_data"
    },
    {
     "name": "stdout",
     "output_type": "stream",
     "text": [
      "--- ROC AUC ---\n",
      "\n"
     ]
    },
    {
     "data": {
      "image/png": "[encoded data removed]",
      "text/plain": [
       "<Figure size 360x360 with 1 Axes>"
      ]
     },
     "metadata": {
      "needs_background": "light"
     },
     "output_type": "display_data"
    }
   ],
   "source": [
    "get_scores(\"Basic Logistic Regression\", clf_log, training_time=tt, register=True)"
   ]
  },
  {
   "cell_type": "markdown",
   "id": "2ec63eff-db0e-4579-aa31-c02da237ac55",
   "metadata": {},
   "source": [
    "#### Let's find the best threshold"
   ]
  },
  {
   "cell_type": "code",
   "execution_count": 41,
   "id": "fb721ed0-77b8-436d-a8c6-48a1818b7d85",
   "metadata": {},
   "outputs": [
    {
     "name": "stdout",
     "output_type": "stream",
     "text": [
      "The best F1 score (0.22680931403398363) for this model is reached with a threshold of 0.227\n"
     ]
    }
   ],
   "source": [
    "f1_value, best_threshold = find_best_threshold(clf_log, X_valid, y_valid, f1_score)\n",
    "print(f\"The best F1 score ({f1_value}) for this model is reached with a threshold of {best_threshold}\")"
   ]
  },
  {
   "cell_type": "code",
   "execution_count": 42,
   "id": "33783b95-7359-4914-a45c-dc60816060bd",
   "metadata": {},
   "outputs": [
    {
     "name": "stdout",
     "output_type": "stream",
     "text": [
      "--- Basic RegLog with 0.227 threshold ---\n",
      "\n",
      "ROC AUC:0.743976468766811\n",
      "F1-score:0.23145699534063718\n",
      "Recall:0.1850956696878147\n",
      "\n",
      "--- Classification Report ---\n",
      "\n",
      "                 precision    recall  f1-score   support\n",
      "\n",
      "Prediction = 0       0.93      0.96      0.95     56538\n",
      "Prediction = 1       0.31      0.19      0.23      4965\n",
      "\n",
      "      accuracy                           0.90     61503\n",
      "     macro avg       0.62      0.57      0.59     61503\n",
      "  weighted avg       0.88      0.90      0.89     61503\n",
      "\n",
      "--- Confusion Matrix ---\n",
      "\n"
     ]
    },
    {
     "data": {
      "image/png": "[encoded data removed]",
      "text/plain": [
       "<Figure size 432x432 with 2 Axes>"
      ]
     },
     "metadata": {
      "needs_background": "light"
     },
     "output_type": "display_data"
    }
   ],
   "source": [
    "get_scores(f\"Basic RegLog with {best_threshold} threshold\", clf_log, threshold=best_threshold, training_time=tt, register=True, show_roccurves=False)"
   ]
  },
  {
   "cell_type": "markdown",
   "id": "5ab177a3-a05c-4fa0-9bae-4cd66c248d91",
   "metadata": {},
   "source": [
    "## 3. Decision Tree <a class=\"anchor\" id=\"models_decision_tree\"></a> [⇪](#menu)"
   ]
  },
  {
   "cell_type": "code",
   "execution_count": 43,
   "id": "8f6649ce-990b-40a7-9d3d-fa7d83d2e4c1",
   "metadata": {},
   "outputs": [],
   "source": [
    "from sklearn.tree import DecisionTreeClassifier"
   ]
  },
  {
   "cell_type": "code",
   "execution_count": 44,
   "id": "a448cd6a-8903-44b6-86bf-97ce7fb539a7",
   "metadata": {},
   "outputs": [],
   "source": [
    "clf_dt = DecisionTreeClassifier(random_state=0)"
   ]
  },
  {
   "cell_type": "code",
   "execution_count": 45,
   "id": "2267d62f-5e34-47c2-9894-3bf101bc4e34",
   "metadata": {},
   "outputs": [],
   "source": [
    "t0 = time.perf_counter()\n",
    "\n",
    "clf_dt.fit(X_train, y_train)\n",
    "\n",
    "tt = time.perf_counter() - t0"
   ]
  },
  {
   "cell_type": "code",
   "execution_count": 46,
   "id": "575aa6b4-21bf-427f-b1d9-449919ff084c",
   "metadata": {},
   "outputs": [
    {
     "name": "stdout",
     "output_type": "stream",
     "text": [
      "--- Basic Decision Tree ---\n",
      "\n",
      "ROC AUC:0.5379417356281191\n",
      "F1-score:0.15111532985287138\n",
      "Recall:0.16032225579053375\n",
      "\n",
      "--- Classification Report ---\n",
      "\n",
      "                 precision    recall  f1-score   support\n",
      "\n",
      "Prediction = 0       0.93      0.92      0.92     56538\n",
      "Prediction = 1       0.14      0.16      0.15      4965\n",
      "\n",
      "      accuracy                           0.85     61503\n",
      "     macro avg       0.53      0.54      0.54     61503\n",
      "  weighted avg       0.86      0.85      0.86     61503\n",
      "\n",
      "--- Confusion Matrix ---\n",
      "\n"
     ]
    },
    {
     "data": {
      "image/png": "[encoded data removed]",
      "text/plain": [
       "<Figure size 432x432 with 2 Axes>"
      ]
     },
     "metadata": {
      "needs_background": "light"
     },
     "output_type": "display_data"
    },
    {
     "name": "stdout",
     "output_type": "stream",
     "text": [
      "--- ROC AUC ---\n",
      "\n"
     ]
    },
    {
     "data": {
      "image/png": "[encoded data removed]",
      "text/plain": [
       "<Figure size 360x360 with 1 Axes>"
      ]
     },
     "metadata": {
      "needs_background": "light"
     },
     "output_type": "display_data"
    }
   ],
   "source": [
    "get_scores(\"Basic Decision Tree\", clf_dt, training_time=tt, register=True)"
   ]
  },
  {
   "cell_type": "markdown",
   "id": "c08b30a1-9ee2-4966-b42d-793de9d1d297",
   "metadata": {},
   "source": [
    "#### Let's find the best threshold"
   ]
  },
  {
   "cell_type": "code",
   "execution_count": 47,
   "id": "9be7457b-01b8-4bfb-9ae3-dc8d0a6fc6d0",
   "metadata": {},
   "outputs": [
    {
     "name": "stdout",
     "output_type": "stream",
     "text": [
      "The best F1 score (0.15152378239817718) for this model is reached with a threshold of 0.152\n"
     ]
    }
   ],
   "source": [
    "f1_value, best_threshold = find_best_threshold(clf_dt, X_valid, y_valid, f1_score)\n",
    "print(f\"The best F1 score ({f1_value}) for this model is reached with a threshold of {best_threshold}\")"
   ]
  },
  {
   "cell_type": "code",
   "execution_count": 48,
   "id": "0dbdf180-0b66-4c93-97b6-4db2ba9af2bb",
   "metadata": {},
   "outputs": [
    {
     "name": "stdout",
     "output_type": "stream",
     "text": [
      "--- Basic Decision Tree with 0.152 threshold ---\n",
      "\n",
      "ROC AUC:0.5379417356281191\n",
      "F1-score:0.15111532985287138\n",
      "Recall:0.16032225579053375\n",
      "\n",
      "--- Classification Report ---\n",
      "\n",
      "                 precision    recall  f1-score   support\n",
      "\n",
      "Prediction = 0       0.93      0.92      0.92     56538\n",
      "Prediction = 1       0.14      0.16      0.15      4965\n",
      "\n",
      "      accuracy                           0.85     61503\n",
      "     macro avg       0.53      0.54      0.54     61503\n",
      "  weighted avg       0.86      0.85      0.86     61503\n",
      "\n",
      "--- Confusion Matrix ---\n",
      "\n"
     ]
    },
    {
     "data": {
      "image/png": "[encoded data removed]",
      "text/plain": [
       "<Figure size 432x432 with 2 Axes>"
      ]
     },
     "metadata": {
      "needs_background": "light"
     },
     "output_type": "display_data"
    }
   ],
   "source": [
    "get_scores(f\"Basic Decision Tree with {best_threshold} threshold\", clf_dt, threshold=best_threshold, training_time=tt, register=True, show_roccurves=False)"
   ]
  },
  {
   "cell_type": "markdown",
   "id": "969df4b3-5805-40a7-b303-1bace9bbd89e",
   "metadata": {},
   "source": [
    "## 4. Random Forest <a class=\"anchor\" id=\"models_random_forest\"></a> [⇪](#menu)"
   ]
  },
  {
   "cell_type": "code",
   "execution_count": 49,
   "id": "888746d8-6628-44f6-b586-d8ba83ad8628",
   "metadata": {},
   "outputs": [],
   "source": [
    "from sklearn.ensemble import RandomForestClassifier"
   ]
  },
  {
   "cell_type": "code",
   "execution_count": 50,
   "id": "8660d3ea-3a65-4094-9ee8-f3e3904d872d",
   "metadata": {},
   "outputs": [],
   "source": [
    "clf_rf = RandomForestClassifier(random_state=0, n_jobs=-1, min_samples_split=100)"
   ]
  },
  {
   "cell_type": "code",
   "execution_count": 51,
   "id": "aa6fd7a2-8249-4bf8-8ea7-13665d853a2e",
   "metadata": {},
   "outputs": [],
   "source": [
    "t0 = time.perf_counter()\n",
    "\n",
    "clf_rf.fit(X_train, y_train)\n",
    "\n",
    "tt = time.perf_counter() - t0"
   ]
  },
  {
   "cell_type": "code",
   "execution_count": 52,
   "id": "acb16bdf-bda9-44df-89ad-e25895ecf6cc",
   "metadata": {},
   "outputs": [
    {
     "name": "stdout",
     "output_type": "stream",
     "text": [
      "--- Basic Random Forest ---\n",
      "\n",
      "ROC AUC:0.7385009581200492\n",
      "F1-score:0.00040273862263391055\n",
      "Recall:0.0002014098690835851\n",
      "\n",
      "--- Classification Report ---\n",
      "\n",
      "                 precision    recall  f1-score   support\n",
      "\n",
      "Prediction = 0       0.92      1.00      0.96     56538\n",
      "Prediction = 1       1.00      0.00      0.00      4965\n",
      "\n",
      "      accuracy                           0.92     61503\n",
      "     macro avg       0.96      0.50      0.48     61503\n",
      "  weighted avg       0.93      0.92      0.88     61503\n",
      "\n",
      "--- Confusion Matrix ---\n",
      "\n"
     ]
    },
    {
     "data": {
      "image/png": "[encoded data removed]",
      "text/plain": [
       "<Figure size 432x432 with 2 Axes>"
      ]
     },
     "metadata": {
      "needs_background": "light"
     },
     "output_type": "display_data"
    },
    {
     "name": "stdout",
     "output_type": "stream",
     "text": [
      "--- ROC AUC ---\n",
      "\n"
     ]
    },
    {
     "data": {
      "image/png": "[encoded data removed]",
      "text/plain": [
       "<Figure size 360x360 with 1 Axes>"
      ]
     },
     "metadata": {
      "needs_background": "light"
     },
     "output_type": "display_data"
    }
   ],
   "source": [
    "get_scores(\"Basic Random Forest\", clf_rf, training_time=tt, register=True)"
   ]
  },
  {
   "cell_type": "markdown",
   "id": "2d5663ed-805f-4683-b510-c248ec923dbe",
   "metadata": {},
   "source": [
    "#### Let's find the best threshold"
   ]
  },
  {
   "cell_type": "code",
   "execution_count": 53,
   "id": "53751514-435c-46fc-bd2c-5a889a5b1c6e",
   "metadata": {},
   "outputs": [
    {
     "ename": "KeyboardInterrupt",
     "evalue": "",
     "output_type": "error",
     "traceback": [
      "\u001b[0;31m---------------------------------------------------------------------------\u001b[0m",
      "\u001b[0;31mKeyboardInterrupt\u001b[0m                         Traceback (most recent call last)",
      "Input \u001b[0;32mIn [53]\u001b[0m, in \u001b[0;36m<cell line: 1>\u001b[0;34m()\u001b[0m\n\u001b[0;32m----> 1\u001b[0m f1_value, best_threshold \u001b[38;5;241m=\u001b[39m \u001b[43mfind_best_threshold\u001b[49m\u001b[43m(\u001b[49m\u001b[43mclf_rf\u001b[49m\u001b[43m,\u001b[49m\u001b[43m \u001b[49m\u001b[43mX_valid\u001b[49m\u001b[43m,\u001b[49m\u001b[43m \u001b[49m\u001b[43my_valid\u001b[49m\u001b[43m,\u001b[49m\u001b[43m \u001b[49m\u001b[43mf1_score\u001b[49m\u001b[43m)\u001b[49m\n\u001b[1;32m      2\u001b[0m \u001b[38;5;28mprint\u001b[39m(\u001b[38;5;124mf\u001b[39m\u001b[38;5;124m\"\u001b[39m\u001b[38;5;124mThe best F1 score (\u001b[39m\u001b[38;5;132;01m{\u001b[39;00mf1_value\u001b[38;5;132;01m}\u001b[39;00m\u001b[38;5;124m) for this model is reached with a threshold of \u001b[39m\u001b[38;5;132;01m{\u001b[39;00mbest_threshold\u001b[38;5;132;01m}\u001b[39;00m\u001b[38;5;124m\"\u001b[39m)\n",
      "Input \u001b[0;32mIn [31]\u001b[0m, in \u001b[0;36mfind_best_threshold\u001b[0;34m(model, X_valid, y_valid, eval_function)\u001b[0m\n\u001b[1;32m     10\u001b[0m \u001b[38;5;28;01mfor\u001b[39;00m threshold \u001b[38;5;129;01min\u001b[39;00m np\u001b[38;5;241m.\u001b[39marange(\u001b[38;5;241m0\u001b[39m, \u001b[38;5;241m1\u001b[39m, \u001b[38;5;241m0.001\u001b[39m):\n\u001b[1;32m     12\u001b[0m     y_pred_threshold \u001b[38;5;241m=\u001b[39m get_labels_from_threshold(y_pred_proba, threshold)\n\u001b[0;32m---> 14\u001b[0m     score \u001b[38;5;241m=\u001b[39m \u001b[43meval_function\u001b[49m\u001b[43m(\u001b[49m\u001b[43my_valid\u001b[49m\u001b[43m,\u001b[49m\u001b[43m \u001b[49m\u001b[43my_pred_threshold\u001b[49m\u001b[43m)\u001b[49m\n\u001b[1;32m     15\u001b[0m     \u001b[38;5;28;01mif\u001b[39;00m score \u001b[38;5;241m>\u001b[39m\u001b[38;5;241m=\u001b[39m best_threshold:\n\u001b[1;32m     16\u001b[0m         best_threshold \u001b[38;5;241m=\u001b[39m threshold\n",
      "File \u001b[0;32m~/Dev/OpenClassrooms/Projets_AI/P4/venvP4/lib/python3.8/site-packages/sklearn/metrics/_classification.py:1123\u001b[0m, in \u001b[0;36mf1_score\u001b[0;34m(y_true, y_pred, labels, pos_label, average, sample_weight, zero_division)\u001b[0m\n\u001b[1;32m    992\u001b[0m \u001b[38;5;28;01mdef\u001b[39;00m \u001b[38;5;21mf1_score\u001b[39m(\n\u001b[1;32m    993\u001b[0m     y_true,\n\u001b[1;32m    994\u001b[0m     y_pred,\n\u001b[0;32m   (...)\u001b[0m\n\u001b[1;32m   1000\u001b[0m     zero_division\u001b[38;5;241m=\u001b[39m\u001b[38;5;124m\"\u001b[39m\u001b[38;5;124mwarn\u001b[39m\u001b[38;5;124m\"\u001b[39m,\n\u001b[1;32m   1001\u001b[0m ):\n\u001b[1;32m   1002\u001b[0m     \u001b[38;5;124;03m\"\"\"Compute the F1 score, also known as balanced F-score or F-measure.\u001b[39;00m\n\u001b[1;32m   1003\u001b[0m \n\u001b[1;32m   1004\u001b[0m \u001b[38;5;124;03m    The F1 score can be interpreted as a harmonic mean of the precision and\u001b[39;00m\n\u001b[0;32m   (...)\u001b[0m\n\u001b[1;32m   1121\u001b[0m \u001b[38;5;124;03m    modified with ``zero_division``.\u001b[39;00m\n\u001b[1;32m   1122\u001b[0m \u001b[38;5;124;03m    \"\"\"\u001b[39;00m\n\u001b[0;32m-> 1123\u001b[0m     \u001b[38;5;28;01mreturn\u001b[39;00m \u001b[43mfbeta_score\u001b[49m\u001b[43m(\u001b[49m\n\u001b[1;32m   1124\u001b[0m \u001b[43m        \u001b[49m\u001b[43my_true\u001b[49m\u001b[43m,\u001b[49m\n\u001b[1;32m   1125\u001b[0m \u001b[43m        \u001b[49m\u001b[43my_pred\u001b[49m\u001b[43m,\u001b[49m\n\u001b[1;32m   1126\u001b[0m \u001b[43m        \u001b[49m\u001b[43mbeta\u001b[49m\u001b[38;5;241;43m=\u001b[39;49m\u001b[38;5;241;43m1\u001b[39;49m\u001b[43m,\u001b[49m\n\u001b[1;32m   1127\u001b[0m \u001b[43m        \u001b[49m\u001b[43mlabels\u001b[49m\u001b[38;5;241;43m=\u001b[39;49m\u001b[43mlabels\u001b[49m\u001b[43m,\u001b[49m\n\u001b[1;32m   1128\u001b[0m \u001b[43m        \u001b[49m\u001b[43mpos_label\u001b[49m\u001b[38;5;241;43m=\u001b[39;49m\u001b[43mpos_label\u001b[49m\u001b[43m,\u001b[49m\n\u001b[1;32m   1129\u001b[0m \u001b[43m        \u001b[49m\u001b[43maverage\u001b[49m\u001b[38;5;241;43m=\u001b[39;49m\u001b[43maverage\u001b[49m\u001b[43m,\u001b[49m\n\u001b[1;32m   1130\u001b[0m \u001b[43m        \u001b[49m\u001b[43msample_weight\u001b[49m\u001b[38;5;241;43m=\u001b[39;49m\u001b[43msample_weight\u001b[49m\u001b[43m,\u001b[49m\n\u001b[1;32m   1131\u001b[0m \u001b[43m        \u001b[49m\u001b[43mzero_division\u001b[49m\u001b[38;5;241;43m=\u001b[39;49m\u001b[43mzero_division\u001b[49m\u001b[43m,\u001b[49m\n\u001b[1;32m   1132\u001b[0m \u001b[43m    \u001b[49m\u001b[43m)\u001b[49m\n",
      "File \u001b[0;32m~/Dev/OpenClassrooms/Projets_AI/P4/venvP4/lib/python3.8/site-packages/sklearn/metrics/_classification.py:1261\u001b[0m, in \u001b[0;36mfbeta_score\u001b[0;34m(y_true, y_pred, beta, labels, pos_label, average, sample_weight, zero_division)\u001b[0m\n\u001b[1;32m   1135\u001b[0m \u001b[38;5;28;01mdef\u001b[39;00m \u001b[38;5;21mfbeta_score\u001b[39m(\n\u001b[1;32m   1136\u001b[0m     y_true,\n\u001b[1;32m   1137\u001b[0m     y_pred,\n\u001b[0;32m   (...)\u001b[0m\n\u001b[1;32m   1144\u001b[0m     zero_division\u001b[38;5;241m=\u001b[39m\u001b[38;5;124m\"\u001b[39m\u001b[38;5;124mwarn\u001b[39m\u001b[38;5;124m\"\u001b[39m,\n\u001b[1;32m   1145\u001b[0m ):\n\u001b[1;32m   1146\u001b[0m     \u001b[38;5;124;03m\"\"\"Compute the F-beta score.\u001b[39;00m\n\u001b[1;32m   1147\u001b[0m \n\u001b[1;32m   1148\u001b[0m \u001b[38;5;124;03m    The F-beta score is the weighted harmonic mean of precision and recall,\u001b[39;00m\n\u001b[0;32m   (...)\u001b[0m\n\u001b[1;32m   1258\u001b[0m \u001b[38;5;124;03m    array([0.71..., 0.        , 0.        ])\u001b[39;00m\n\u001b[1;32m   1259\u001b[0m \u001b[38;5;124;03m    \"\"\"\u001b[39;00m\n\u001b[0;32m-> 1261\u001b[0m     _, _, f, _ \u001b[38;5;241m=\u001b[39m \u001b[43mprecision_recall_fscore_support\u001b[49m\u001b[43m(\u001b[49m\n\u001b[1;32m   1262\u001b[0m \u001b[43m        \u001b[49m\u001b[43my_true\u001b[49m\u001b[43m,\u001b[49m\n\u001b[1;32m   1263\u001b[0m \u001b[43m        \u001b[49m\u001b[43my_pred\u001b[49m\u001b[43m,\u001b[49m\n\u001b[1;32m   1264\u001b[0m \u001b[43m        \u001b[49m\u001b[43mbeta\u001b[49m\u001b[38;5;241;43m=\u001b[39;49m\u001b[43mbeta\u001b[49m\u001b[43m,\u001b[49m\n\u001b[1;32m   1265\u001b[0m \u001b[43m        \u001b[49m\u001b[43mlabels\u001b[49m\u001b[38;5;241;43m=\u001b[39;49m\u001b[43mlabels\u001b[49m\u001b[43m,\u001b[49m\n\u001b[1;32m   1266\u001b[0m \u001b[43m        \u001b[49m\u001b[43mpos_label\u001b[49m\u001b[38;5;241;43m=\u001b[39;49m\u001b[43mpos_label\u001b[49m\u001b[43m,\u001b[49m\n\u001b[1;32m   1267\u001b[0m \u001b[43m        \u001b[49m\u001b[43maverage\u001b[49m\u001b[38;5;241;43m=\u001b[39;49m\u001b[43maverage\u001b[49m\u001b[43m,\u001b[49m\n\u001b[1;32m   1268\u001b[0m \u001b[43m        \u001b[49m\u001b[43mwarn_for\u001b[49m\u001b[38;5;241;43m=\u001b[39;49m\u001b[43m(\u001b[49m\u001b[38;5;124;43m\"\u001b[39;49m\u001b[38;5;124;43mf-score\u001b[39;49m\u001b[38;5;124;43m\"\u001b[39;49m\u001b[43m,\u001b[49m\u001b[43m)\u001b[49m\u001b[43m,\u001b[49m\n\u001b[1;32m   1269\u001b[0m \u001b[43m        \u001b[49m\u001b[43msample_weight\u001b[49m\u001b[38;5;241;43m=\u001b[39;49m\u001b[43msample_weight\u001b[49m\u001b[43m,\u001b[49m\n\u001b[1;32m   1270\u001b[0m \u001b[43m        \u001b[49m\u001b[43mzero_division\u001b[49m\u001b[38;5;241;43m=\u001b[39;49m\u001b[43mzero_division\u001b[49m\u001b[43m,\u001b[49m\n\u001b[1;32m   1271\u001b[0m \u001b[43m    \u001b[49m\u001b[43m)\u001b[49m\n\u001b[1;32m   1272\u001b[0m     \u001b[38;5;28;01mreturn\u001b[39;00m f\n",
      "File \u001b[0;32m~/Dev/OpenClassrooms/Projets_AI/P4/venvP4/lib/python3.8/site-packages/sklearn/metrics/_classification.py:1548\u001b[0m, in \u001b[0;36mprecision_recall_fscore_support\u001b[0;34m(y_true, y_pred, beta, labels, pos_label, average, warn_for, sample_weight, zero_division)\u001b[0m\n\u001b[1;32m   1546\u001b[0m \u001b[38;5;66;03m# Calculate tp_sum, pred_sum, true_sum ###\u001b[39;00m\n\u001b[1;32m   1547\u001b[0m samplewise \u001b[38;5;241m=\u001b[39m average \u001b[38;5;241m==\u001b[39m \u001b[38;5;124m\"\u001b[39m\u001b[38;5;124msamples\u001b[39m\u001b[38;5;124m\"\u001b[39m\n\u001b[0;32m-> 1548\u001b[0m MCM \u001b[38;5;241m=\u001b[39m \u001b[43mmultilabel_confusion_matrix\u001b[49m\u001b[43m(\u001b[49m\n\u001b[1;32m   1549\u001b[0m \u001b[43m    \u001b[49m\u001b[43my_true\u001b[49m\u001b[43m,\u001b[49m\n\u001b[1;32m   1550\u001b[0m \u001b[43m    \u001b[49m\u001b[43my_pred\u001b[49m\u001b[43m,\u001b[49m\n\u001b[1;32m   1551\u001b[0m \u001b[43m    \u001b[49m\u001b[43msample_weight\u001b[49m\u001b[38;5;241;43m=\u001b[39;49m\u001b[43msample_weight\u001b[49m\u001b[43m,\u001b[49m\n\u001b[1;32m   1552\u001b[0m \u001b[43m    \u001b[49m\u001b[43mlabels\u001b[49m\u001b[38;5;241;43m=\u001b[39;49m\u001b[43mlabels\u001b[49m\u001b[43m,\u001b[49m\n\u001b[1;32m   1553\u001b[0m \u001b[43m    \u001b[49m\u001b[43msamplewise\u001b[49m\u001b[38;5;241;43m=\u001b[39;49m\u001b[43msamplewise\u001b[49m\u001b[43m,\u001b[49m\n\u001b[1;32m   1554\u001b[0m \u001b[43m\u001b[49m\u001b[43m)\u001b[49m\n\u001b[1;32m   1555\u001b[0m tp_sum \u001b[38;5;241m=\u001b[39m MCM[:, \u001b[38;5;241m1\u001b[39m, \u001b[38;5;241m1\u001b[39m]\n\u001b[1;32m   1556\u001b[0m pred_sum \u001b[38;5;241m=\u001b[39m tp_sum \u001b[38;5;241m+\u001b[39m MCM[:, \u001b[38;5;241m0\u001b[39m, \u001b[38;5;241m1\u001b[39m]\n",
      "File \u001b[0;32m~/Dev/OpenClassrooms/Projets_AI/P4/venvP4/lib/python3.8/site-packages/sklearn/metrics/_classification.py:487\u001b[0m, in \u001b[0;36mmultilabel_confusion_matrix\u001b[0;34m(y_true, y_pred, sample_weight, labels, samplewise)\u001b[0m\n\u001b[1;32m    484\u001b[0m \u001b[38;5;28;01mif\u001b[39;00m y_type \u001b[38;5;129;01mnot\u001b[39;00m \u001b[38;5;129;01min\u001b[39;00m (\u001b[38;5;124m\"\u001b[39m\u001b[38;5;124mbinary\u001b[39m\u001b[38;5;124m\"\u001b[39m, \u001b[38;5;124m\"\u001b[39m\u001b[38;5;124mmulticlass\u001b[39m\u001b[38;5;124m\"\u001b[39m, \u001b[38;5;124m\"\u001b[39m\u001b[38;5;124mmultilabel-indicator\u001b[39m\u001b[38;5;124m\"\u001b[39m):\n\u001b[1;32m    485\u001b[0m     \u001b[38;5;28;01mraise\u001b[39;00m \u001b[38;5;167;01mValueError\u001b[39;00m(\u001b[38;5;124m\"\u001b[39m\u001b[38;5;132;01m%s\u001b[39;00m\u001b[38;5;124m is not supported\u001b[39m\u001b[38;5;124m\"\u001b[39m \u001b[38;5;241m%\u001b[39m y_type)\n\u001b[0;32m--> 487\u001b[0m present_labels \u001b[38;5;241m=\u001b[39m \u001b[43munique_labels\u001b[49m\u001b[43m(\u001b[49m\u001b[43my_true\u001b[49m\u001b[43m,\u001b[49m\u001b[43m \u001b[49m\u001b[43my_pred\u001b[49m\u001b[43m)\u001b[49m\n\u001b[1;32m    488\u001b[0m \u001b[38;5;28;01mif\u001b[39;00m labels \u001b[38;5;129;01mis\u001b[39;00m \u001b[38;5;28;01mNone\u001b[39;00m:\n\u001b[1;32m    489\u001b[0m     labels \u001b[38;5;241m=\u001b[39m present_labels\n",
      "File \u001b[0;32m~/Dev/OpenClassrooms/Projets_AI/P4/venvP4/lib/python3.8/site-packages/sklearn/utils/multiclass.py:75\u001b[0m, in \u001b[0;36munique_labels\u001b[0;34m(*ys)\u001b[0m\n\u001b[1;32m     72\u001b[0m     \u001b[38;5;28;01mraise\u001b[39;00m \u001b[38;5;167;01mValueError\u001b[39;00m(\u001b[38;5;124m\"\u001b[39m\u001b[38;5;124mNo argument has been passed.\u001b[39m\u001b[38;5;124m\"\u001b[39m)\n\u001b[1;32m     73\u001b[0m \u001b[38;5;66;03m# Check that we don't mix label format\u001b[39;00m\n\u001b[0;32m---> 75\u001b[0m ys_types \u001b[38;5;241m=\u001b[39m \u001b[38;5;28;43mset\u001b[39;49m\u001b[43m(\u001b[49m\u001b[43mtype_of_target\u001b[49m\u001b[43m(\u001b[49m\u001b[43mx\u001b[49m\u001b[43m)\u001b[49m\u001b[43m \u001b[49m\u001b[38;5;28;43;01mfor\u001b[39;49;00m\u001b[43m \u001b[49m\u001b[43mx\u001b[49m\u001b[43m \u001b[49m\u001b[38;5;129;43;01min\u001b[39;49;00m\u001b[43m \u001b[49m\u001b[43mys\u001b[49m\u001b[43m)\u001b[49m\n\u001b[1;32m     76\u001b[0m \u001b[38;5;28;01mif\u001b[39;00m ys_types \u001b[38;5;241m==\u001b[39m {\u001b[38;5;124m\"\u001b[39m\u001b[38;5;124mbinary\u001b[39m\u001b[38;5;124m\"\u001b[39m, \u001b[38;5;124m\"\u001b[39m\u001b[38;5;124mmulticlass\u001b[39m\u001b[38;5;124m\"\u001b[39m}:\n\u001b[1;32m     77\u001b[0m     ys_types \u001b[38;5;241m=\u001b[39m {\u001b[38;5;124m\"\u001b[39m\u001b[38;5;124mmulticlass\u001b[39m\u001b[38;5;124m\"\u001b[39m}\n",
      "File \u001b[0;32m~/Dev/OpenClassrooms/Projets_AI/P4/venvP4/lib/python3.8/site-packages/sklearn/utils/multiclass.py:75\u001b[0m, in \u001b[0;36m<genexpr>\u001b[0;34m(.0)\u001b[0m\n\u001b[1;32m     72\u001b[0m     \u001b[38;5;28;01mraise\u001b[39;00m \u001b[38;5;167;01mValueError\u001b[39;00m(\u001b[38;5;124m\"\u001b[39m\u001b[38;5;124mNo argument has been passed.\u001b[39m\u001b[38;5;124m\"\u001b[39m)\n\u001b[1;32m     73\u001b[0m \u001b[38;5;66;03m# Check that we don't mix label format\u001b[39;00m\n\u001b[0;32m---> 75\u001b[0m ys_types \u001b[38;5;241m=\u001b[39m \u001b[38;5;28mset\u001b[39m(\u001b[43mtype_of_target\u001b[49m\u001b[43m(\u001b[49m\u001b[43mx\u001b[49m\u001b[43m)\u001b[49m \u001b[38;5;28;01mfor\u001b[39;00m x \u001b[38;5;129;01min\u001b[39;00m ys)\n\u001b[1;32m     76\u001b[0m \u001b[38;5;28;01mif\u001b[39;00m ys_types \u001b[38;5;241m==\u001b[39m {\u001b[38;5;124m\"\u001b[39m\u001b[38;5;124mbinary\u001b[39m\u001b[38;5;124m\"\u001b[39m, \u001b[38;5;124m\"\u001b[39m\u001b[38;5;124mmulticlass\u001b[39m\u001b[38;5;124m\"\u001b[39m}:\n\u001b[1;32m     77\u001b[0m     ys_types \u001b[38;5;241m=\u001b[39m {\u001b[38;5;124m\"\u001b[39m\u001b[38;5;124mmulticlass\u001b[39m\u001b[38;5;124m\"\u001b[39m}\n",
      "File \u001b[0;32m~/Dev/OpenClassrooms/Projets_AI/P4/venvP4/lib/python3.8/site-packages/sklearn/utils/multiclass.py:327\u001b[0m, in \u001b[0;36mtype_of_target\u001b[0;34m(y)\u001b[0m\n\u001b[1;32m    324\u001b[0m     _assert_all_finite(y)\n\u001b[1;32m    325\u001b[0m     \u001b[38;5;28;01mreturn\u001b[39;00m \u001b[38;5;124m\"\u001b[39m\u001b[38;5;124mcontinuous\u001b[39m\u001b[38;5;124m\"\u001b[39m \u001b[38;5;241m+\u001b[39m suffix\n\u001b[0;32m--> 327\u001b[0m \u001b[38;5;28;01mif\u001b[39;00m (\u001b[38;5;28mlen\u001b[39m(\u001b[43mnp\u001b[49m\u001b[38;5;241;43m.\u001b[39;49m\u001b[43munique\u001b[49m\u001b[43m(\u001b[49m\u001b[43my\u001b[49m\u001b[43m)\u001b[49m) \u001b[38;5;241m>\u001b[39m \u001b[38;5;241m2\u001b[39m) \u001b[38;5;129;01mor\u001b[39;00m (y\u001b[38;5;241m.\u001b[39mndim \u001b[38;5;241m>\u001b[39m\u001b[38;5;241m=\u001b[39m \u001b[38;5;241m2\u001b[39m \u001b[38;5;129;01mand\u001b[39;00m \u001b[38;5;28mlen\u001b[39m(y[\u001b[38;5;241m0\u001b[39m]) \u001b[38;5;241m>\u001b[39m \u001b[38;5;241m1\u001b[39m):\n\u001b[1;32m    328\u001b[0m     \u001b[38;5;28;01mreturn\u001b[39;00m \u001b[38;5;124m\"\u001b[39m\u001b[38;5;124mmulticlass\u001b[39m\u001b[38;5;124m\"\u001b[39m \u001b[38;5;241m+\u001b[39m suffix  \u001b[38;5;66;03m# [1, 2, 3] or [[1., 2., 3]] or [[1, 2]]\u001b[39;00m\n\u001b[1;32m    329\u001b[0m \u001b[38;5;28;01melse\u001b[39;00m:\n",
      "File \u001b[0;32m<__array_function__ internals>:180\u001b[0m, in \u001b[0;36munique\u001b[0;34m(*args, **kwargs)\u001b[0m\n",
      "File \u001b[0;32m~/Dev/OpenClassrooms/Projets_AI/P4/venvP4/lib/python3.8/site-packages/numpy/lib/arraysetops.py:272\u001b[0m, in \u001b[0;36munique\u001b[0;34m(ar, return_index, return_inverse, return_counts, axis)\u001b[0m\n\u001b[1;32m    270\u001b[0m ar \u001b[38;5;241m=\u001b[39m np\u001b[38;5;241m.\u001b[39masanyarray(ar)\n\u001b[1;32m    271\u001b[0m \u001b[38;5;28;01mif\u001b[39;00m axis \u001b[38;5;129;01mis\u001b[39;00m \u001b[38;5;28;01mNone\u001b[39;00m:\n\u001b[0;32m--> 272\u001b[0m     ret \u001b[38;5;241m=\u001b[39m \u001b[43m_unique1d\u001b[49m\u001b[43m(\u001b[49m\u001b[43mar\u001b[49m\u001b[43m,\u001b[49m\u001b[43m \u001b[49m\u001b[43mreturn_index\u001b[49m\u001b[43m,\u001b[49m\u001b[43m \u001b[49m\u001b[43mreturn_inverse\u001b[49m\u001b[43m,\u001b[49m\u001b[43m \u001b[49m\u001b[43mreturn_counts\u001b[49m\u001b[43m)\u001b[49m\n\u001b[1;32m    273\u001b[0m     \u001b[38;5;28;01mreturn\u001b[39;00m _unpack_tuple(ret)\n\u001b[1;32m    275\u001b[0m \u001b[38;5;66;03m# axis was specified and not None\u001b[39;00m\n",
      "File \u001b[0;32m~/Dev/OpenClassrooms/Projets_AI/P4/venvP4/lib/python3.8/site-packages/numpy/lib/arraysetops.py:333\u001b[0m, in \u001b[0;36m_unique1d\u001b[0;34m(ar, return_index, return_inverse, return_counts)\u001b[0m\n\u001b[1;32m    331\u001b[0m     aux \u001b[38;5;241m=\u001b[39m ar[perm]\n\u001b[1;32m    332\u001b[0m \u001b[38;5;28;01melse\u001b[39;00m:\n\u001b[0;32m--> 333\u001b[0m     \u001b[43mar\u001b[49m\u001b[38;5;241;43m.\u001b[39;49m\u001b[43msort\u001b[49m\u001b[43m(\u001b[49m\u001b[43m)\u001b[49m\n\u001b[1;32m    334\u001b[0m     aux \u001b[38;5;241m=\u001b[39m ar\n\u001b[1;32m    335\u001b[0m mask \u001b[38;5;241m=\u001b[39m np\u001b[38;5;241m.\u001b[39mempty(aux\u001b[38;5;241m.\u001b[39mshape, dtype\u001b[38;5;241m=\u001b[39mnp\u001b[38;5;241m.\u001b[39mbool_)\n",
      "\u001b[0;31mKeyboardInterrupt\u001b[0m: "
     ]
    }
   ],
   "source": [
    "f1_value, best_threshold = find_best_threshold(clf_rf, X_valid, y_valid, f1_score)\n",
    "print(f\"The best F1 score ({f1_value}) for this model is reached with a threshold of {best_threshold}\")"
   ]
  },
  {
   "cell_type": "code",
   "execution_count": null,
   "id": "51780771-8150-47ac-ae77-b5ab746abf9d",
   "metadata": {},
   "outputs": [],
   "source": [
    "get_scores(f\"Basic Random Forest with {best_threshold} threshold\", clf_rf, threshold=best_threshold, training_time=tt, register=True, show_roccurves=False)"
   ]
  },
  {
   "cell_type": "markdown",
   "id": "5fa3dfac-d287-45a5-9c71-188d1260f311",
   "metadata": {},
   "source": [
    "## 5. XGBoost Classifier <a class=\"anchor\" id=\"models_xgboost\"></a> [⇪](#menu)"
   ]
  },
  {
   "cell_type": "code",
   "execution_count": null,
   "id": "6db81bdb-73cc-427e-a3d5-840292f469c7",
   "metadata": {},
   "outputs": [],
   "source": [
    "from xgboost import XGBClassifier"
   ]
  },
  {
   "cell_type": "code",
   "execution_count": null,
   "id": "3de0241d-01ac-402d-a71c-44636bf4262c",
   "metadata": {},
   "outputs": [],
   "source": [
    "clf_xgb = XGBClassifier(\n",
    "    # max_depth=6,\n",
    "    # min_child_weight=1,\n",
    "    objective='binary:logistic', # classification\n",
    "    eval_metric='auc', # classification\n",
    "    nthread=-1,\n",
    "    seed=0,\n",
    "    verbosity=1\n",
    ")"
   ]
  },
  {
   "cell_type": "code",
   "execution_count": null,
   "id": "ea938905-3fdd-4e32-bdb9-4d80ac23bb93",
   "metadata": {},
   "outputs": [],
   "source": [
    "t0 = time.perf_counter()\n",
    "\n",
    "clf_xgb.fit(X_train, y_train)\n",
    "\n",
    "tt = time.perf_counter() - t0"
   ]
  },
  {
   "cell_type": "code",
   "execution_count": null,
   "id": "cb90db56-170f-4f59-a200-337b55e882bd",
   "metadata": {},
   "outputs": [],
   "source": [
    "get_scores(\"Basic XGBoost\", clf_xgb, training_time=tt, register=True)"
   ]
  },
  {
   "cell_type": "markdown",
   "id": "bf136a24-2cfd-4354-b4bc-6c8444ac09fa",
   "metadata": {},
   "source": [
    "#### Let's find the best threshold"
   ]
  },
  {
   "cell_type": "code",
   "execution_count": null,
   "id": "b429fabd-2387-4563-bd2f-cde26fc000ac",
   "metadata": {},
   "outputs": [],
   "source": [
    "f1_value, best_threshold = find_best_threshold(clf_xgb, X_valid, y_valid, f1_score)\n",
    "print(f\"The best F1 score ({f1_value}) for this model is reached with a threshold of {best_threshold}\")"
   ]
  },
  {
   "cell_type": "code",
   "execution_count": null,
   "id": "d96190ad-59ec-4403-bd95-03912df3e664",
   "metadata": {},
   "outputs": [],
   "source": [
    "get_scores(f\"Basic XGBoost with {best_threshold} threshold\", clf_xgb, threshold=best_threshold, training_time=tt, register=True, show_roccurves=False)"
   ]
  },
  {
   "cell_type": "markdown",
   "id": "4a9f1e80-aea0-4650-9c02-ce6408257bc6",
   "metadata": {},
   "source": [
    "## 6. Review scores <a class=\"anchor\" id=\"models_scores\"></a> [⇪](#menu)"
   ]
  },
  {
   "cell_type": "code",
   "execution_count": null,
   "id": "36fa998d-2620-4159-9117-ba1e024e0af0",
   "metadata": {},
   "outputs": [],
   "source": [
    "scores"
   ]
  },
  {
   "cell_type": "code",
   "execution_count": null,
   "id": "6d71e3ab-6d84-486d-afcf-5dbf27dbb5f0",
   "metadata": {},
   "outputs": [],
   "source": [
    "scores[['Method', 'ROC AUC', 'F1 score', 'Recall']]"
   ]
  },
  {
   "cell_type": "markdown",
   "id": "73f16dc8-c042-49fb-ab07-03919b8ef291",
   "metadata": {},
   "source": [
    "# Improving the models with GridSearchCV <a class=\"anchor\" id=\"models_grid\"></a> [⇪](#menu)"
   ]
  },
  {
   "cell_type": "code",
   "execution_count": null,
   "id": "80bb1c92-bdab-4628-8702-f189f0d0e795",
   "metadata": {},
   "outputs": [],
   "source": [
    "from sklearn.model_selection import GridSearchCV, RandomizedSearchCV, RepeatedStratifiedKFold"
   ]
  },
  {
   "cell_type": "code",
   "execution_count": null,
   "id": "cd175039-e24b-4245-96a4-5370d1ba9d0d",
   "metadata": {},
   "outputs": [],
   "source": [
    "num_samples = 10000\n",
    "X_train_full = X_train_full[:num_samples]\n",
    "y_train_full = y_train_full[:num_samples]"
   ]
  },
  {
   "cell_type": "code",
   "execution_count": null,
   "id": "7433e886-ed0f-478e-9d7a-731d1d374c72",
   "metadata": {},
   "outputs": [],
   "source": [
    "cv = RepeatedStratifiedKFold(n_splits=5, n_repeats=1, random_state=1)"
   ]
  },
  {
   "cell_type": "markdown",
   "id": "3e6b8d40-74a3-4d07-b1b5-fd5c7cdafa9f",
   "metadata": {},
   "source": [
    "## 1. Logistic Regression Grid<a class=\"anchor\" id=\"models_linear_grid\"></a> [⇪](#menu)"
   ]
  },
  {
   "cell_type": "code",
   "execution_count": null,
   "id": "0b0a1c14-bb60-442e-97fc-1c6368704498",
   "metadata": {},
   "outputs": [],
   "source": [
    "param_grid = [\n",
    "    {\n",
    "        'solver' : ['lbfgs'],\n",
    "        'penalty' : ['l2'], # none\n",
    "        'C' : [1e-5, 1e-4, 1e-3, 1e-2, 1e-1, 1, 10, 100],\n",
    "    },\n",
    "    {\n",
    "        'solver' : ['liblinear'],\n",
    "        'penalty' : ['l1', 'l2'], # none\n",
    "        'C' : [1e-5, 1e-4, 1e-3, 1e-2, 1e-1, 1, 10, 100],\n",
    "    },\n",
    "    {\n",
    "        'solver' : ['saga'],\n",
    "        'penalty' : ['l1', 'l2', 'elasticnet'], # none\n",
    "        'C' : [1e-5, 1e-4, 1e-3, 1e-2, 1e-1, 1, 10, 100],\n",
    "    },\n",
    "]\n"
   ]
  },
  {
   "cell_type": "code",
   "execution_count": null,
   "id": "3f89a414-28da-4de1-8c35-bb36b620b4c9",
   "metadata": {},
   "outputs": [],
   "source": [
    "clf_log_model = LogisticRegression(max_iter=1000, random_state=0)\n",
    "clf_log_grid = GridSearchCV(clf_log_model, param_grid, scoring='roc_auc', n_jobs=-1, verbose=1, cv=cv) #cv=10,"
   ]
  },
  {
   "cell_type": "code",
   "execution_count": null,
   "id": "11fd6164-464d-45fd-b8b6-76c3f2a714ac",
   "metadata": {},
   "outputs": [],
   "source": [
    "t0 = time.perf_counter()\n",
    "\n",
    "#clf_log_grid.fit(X_train_full, y_train_full)\n",
    "clf_log_grid.fit(X_train, y_train)\n",
    "\n",
    "tt = time.perf_counter() - t0"
   ]
  },
  {
   "cell_type": "code",
   "execution_count": null,
   "id": "10a23885-0f8c-4bf5-b371-5c78376a4ec0",
   "metadata": {},
   "outputs": [],
   "source": [
    "clf_log_grid.best_params_"
   ]
  },
  {
   "cell_type": "code",
   "execution_count": null,
   "id": "8b050e8c-3a08-40e1-b97c-6d369153debd",
   "metadata": {},
   "outputs": [],
   "source": [
    "get_scores(\"Grid LogReg\", clf_log_grid, training_time=tt, register=False, simple=True)"
   ]
  },
  {
   "cell_type": "markdown",
   "id": "8309e0e6-6d78-43e6-ba47-b7fc8822a660",
   "metadata": {},
   "source": [
    "#### Let's find the best threshold"
   ]
  },
  {
   "cell_type": "code",
   "execution_count": null,
   "id": "43822ba0-5d09-4c51-947b-abb561527abd",
   "metadata": {},
   "outputs": [],
   "source": [
    "f1_value, best_threshold = find_best_threshold(clf_log_grid, X_valid, y_valid, f1_score)\n",
    "print(f\"The best F1 score ({f1_value}) for this model is reached with a threshold of {best_threshold}\")"
   ]
  },
  {
   "cell_type": "markdown",
   "id": "929dd19a-94b9-4da2-9abd-abb5516fc02a",
   "metadata": {},
   "source": [
    "#### We train a new model using the best parameters"
   ]
  },
  {
   "cell_type": "code",
   "execution_count": null,
   "id": "8bad800f-0e6a-432d-a8d6-43674f04f801",
   "metadata": {},
   "outputs": [],
   "source": [
    "clf_log2 = LogisticRegression( **clf_log_grid.best_params_, random_state=0, max_iter=1000 )"
   ]
  },
  {
   "cell_type": "code",
   "execution_count": null,
   "id": "04fbc709-807e-4474-b2b3-6e3a04940e0e",
   "metadata": {},
   "outputs": [],
   "source": [
    "t0 = time.perf_counter()\n",
    "\n",
    "#clf_log2.fit(X_train_full, y_train_full)\n",
    "clf_log2.fit(X_train, y_train)\n",
    "\n",
    "tt = time.perf_counter() - t0"
   ]
  },
  {
   "cell_type": "code",
   "execution_count": null,
   "id": "ec47637c-7603-4725-8e36-b4b30c1e4fd5",
   "metadata": {},
   "outputs": [],
   "source": [
    "get_scores(\"Grid LogReg\", clf_log2, training_time=tt, register=True)"
   ]
  },
  {
   "cell_type": "markdown",
   "id": "f4ae2a14-d2d0-4853-a770-350a42d81c11",
   "metadata": {},
   "source": [
    "#### Let's use the best threshold"
   ]
  },
  {
   "cell_type": "code",
   "execution_count": null,
   "id": "245625de-9f58-468f-815d-1400f55aca09",
   "metadata": {},
   "outputs": [],
   "source": [
    "get_scores(f\"Grid LogReg with {best_threshold} threshold\", clf_log2, threshold=best_threshold, training_time=tt, register=True, show_roccurves=False)"
   ]
  },
  {
   "cell_type": "markdown",
   "id": "b1217392-563d-480b-820a-4240641dfd36",
   "metadata": {},
   "source": [
    "## 2. Decision Tree Grid <a class=\"anchor\" id=\"models_decision_tree_grid\"></a> [⇪](#menu)"
   ]
  },
  {
   "cell_type": "code",
   "execution_count": null,
   "id": "95546b35-55dc-41a8-b68b-a455751d9d20",
   "metadata": {},
   "outputs": [],
   "source": [
    "param_grid = {\n",
    "    'max_features': [None, 'auto', 'sqrt', 'log2'],\n",
    "    'ccp_alpha': [0.0, 0.1, .01, .001],\n",
    "    'max_depth' : [None, 1, 2, 3, 4, 5, 6, 7, 8, 9],\n",
    "    #'max_depth':[1,2,3,4,5,6,7,8,9,10,11,12,15,20,30,40,50,70,90,120,150]\n",
    "    'criterion' :['gini', 'entropy']\n",
    "}"
   ]
  },
  {
   "cell_type": "code",
   "execution_count": null,
   "id": "f0d47949-1e7d-48eb-8f05-321f7cdc3363",
   "metadata": {},
   "outputs": [],
   "source": [
    "clf_dt_model = DecisionTreeClassifier(random_state=0)\n",
    "clf_dt_grid = GridSearchCV(clf_dt_model, param_grid, scoring='roc_auc', n_jobs=-1, verbose=1, cv=cv) #cv=10,"
   ]
  },
  {
   "cell_type": "code",
   "execution_count": null,
   "id": "9e17d199-98f1-446e-b96d-72225006100a",
   "metadata": {},
   "outputs": [],
   "source": [
    "t0 = time.perf_counter()\n",
    "\n",
    "#clf_dt_grid.fit(X_train_full, y_train_full)\n",
    "clf_dt_grid.fit(X_train, y_train)\n",
    "\n",
    "tt = time.perf_counter() - t0"
   ]
  },
  {
   "cell_type": "code",
   "execution_count": null,
   "id": "96941a3e-4188-4445-8bae-24819a77d7ab",
   "metadata": {},
   "outputs": [],
   "source": [
    "clf_dt_grid.best_params_"
   ]
  },
  {
   "cell_type": "code",
   "execution_count": null,
   "id": "bf1b7fb9-aa89-4baf-8409-f0548eda133b",
   "metadata": {},
   "outputs": [],
   "source": [
    "get_scores(\"Grid Decision Tree\", clf_dt_grid, training_time=tt, register=False, simple=True)"
   ]
  },
  {
   "cell_type": "markdown",
   "id": "733ee737-c414-4f8f-b9d4-a1c54287e7da",
   "metadata": {},
   "source": [
    "#### Let's find the best threshold"
   ]
  },
  {
   "cell_type": "code",
   "execution_count": null,
   "id": "a9853e59-b12e-47bd-85b4-73d9c9f28862",
   "metadata": {},
   "outputs": [],
   "source": [
    "f1_value, best_threshold = find_best_threshold(clf_dt_grid, X_valid, y_valid, f1_score)\n",
    "print(f\"The best F1 score ({f1_value}) for this model is reached with a threshold of {best_threshold}\")"
   ]
  },
  {
   "cell_type": "markdown",
   "id": "e851bd1f-814d-4383-a28e-8d858cbd9a61",
   "metadata": {},
   "source": [
    "#### We train a new model using the best parameters"
   ]
  },
  {
   "cell_type": "code",
   "execution_count": null,
   "id": "3c0c7e36-9d5b-4770-b256-2632448d954c",
   "metadata": {},
   "outputs": [],
   "source": [
    "clf_dt2 = DecisionTreeClassifier( **clf_dt_grid.best_params_, random_state=0 )"
   ]
  },
  {
   "cell_type": "code",
   "execution_count": null,
   "id": "32971dae-ca27-488d-8cf7-4529cd611078",
   "metadata": {},
   "outputs": [],
   "source": [
    "t0 = time.perf_counter()\n",
    "\n",
    "#clf_dt2.fit(X_train_full, y_train_full)\n",
    "clf_dt2.fit(X_train, y_train)\n",
    "\n",
    "tt = time.perf_counter() - t0"
   ]
  },
  {
   "cell_type": "code",
   "execution_count": null,
   "id": "32584f9c-88c5-44da-bf48-d587cc5af20d",
   "metadata": {},
   "outputs": [],
   "source": [
    "get_scores(\"Grid Decision Tree\", clf_dt2, training_time=tt, register=True)"
   ]
  },
  {
   "cell_type": "markdown",
   "id": "973c8ca9-088e-411a-81d1-33778db56e5f",
   "metadata": {},
   "source": [
    "#### Let's use the best threshold"
   ]
  },
  {
   "cell_type": "code",
   "execution_count": null,
   "id": "c8d815f9-1d2d-4752-8980-12e16a22c92d",
   "metadata": {},
   "outputs": [],
   "source": [
    "get_scores(f\"Grid Decision Tree with {best_threshold} threshold\", clf_dt2, threshold=best_threshold, training_time=tt, register=True, show_roccurves=False)"
   ]
  },
  {
   "cell_type": "markdown",
   "id": "e623b202-07f6-44ff-9768-d3f7a5e197cc",
   "metadata": {},
   "source": [
    "## 3. Random Forest Grid <a class=\"anchor\" id=\"models_random_forest_grid\"></a> [⇪](#menu)"
   ]
  },
  {
   "cell_type": "code",
   "execution_count": null,
   "id": "9d091e95-220d-4f16-ac89-80076b3a8842",
   "metadata": {},
   "outputs": [],
   "source": [
    "param_grid = {\n",
    "    'max_features': ['auto', 'sqrt', 'log2'],\n",
    "    #'ccp_alpha': [0.1, .01, .001],\n",
    "    'max_depth' : [None, 1, 2, 3, 4, 5, 6, 7, 8, 9],\n",
    "    'criterion' :['gini', 'entropy'],\n",
    "    'n_estimators' :[64, 100, 128, 256, 528]\n",
    "}"
   ]
  },
  {
   "cell_type": "code",
   "execution_count": null,
   "id": "96c839e0-c687-44d1-bdf4-f24b0a9bb075",
   "metadata": {},
   "outputs": [],
   "source": [
    "clf_rf_model = RandomForestClassifier(random_state=0)\n",
    "clf_rf_grid = GridSearchCV(clf_rf_model, param_grid, scoring='roc_auc', n_jobs=-1, verbose=1, cv=cv) #cv=10,"
   ]
  },
  {
   "cell_type": "code",
   "execution_count": null,
   "id": "d2002cae-df1b-4ed4-a48b-e0f8ab9868fe",
   "metadata": {},
   "outputs": [],
   "source": [
    "t0 = time.perf_counter()\n",
    "\n",
    "#clf_rf_grid.fit(X_train_full, y_train_full)\n",
    "clf_rf_grid.fit(X_train, y_train)\n",
    "\n",
    "tt = time.perf_counter() - t0"
   ]
  },
  {
   "cell_type": "code",
   "execution_count": null,
   "id": "28313fde-c64d-406c-bc39-3eb784a1e50a",
   "metadata": {},
   "outputs": [],
   "source": [
    "clf_rf_grid.best_params_"
   ]
  },
  {
   "cell_type": "code",
   "execution_count": null,
   "id": "85b0a749-1369-4752-8075-ff5a9c93ab6b",
   "metadata": {},
   "outputs": [],
   "source": [
    "get_scores(\"Grid Random Forest\", clf_rf_grid, training_time=tt, register=False, simple=True)"
   ]
  },
  {
   "cell_type": "markdown",
   "id": "5dc23f2a-ef28-44c7-be5d-5091fc3894ea",
   "metadata": {},
   "source": [
    "#### Let's find the best threshold"
   ]
  },
  {
   "cell_type": "code",
   "execution_count": null,
   "id": "bbe40e35-5cc8-44aa-9533-bf903c3783d6",
   "metadata": {},
   "outputs": [],
   "source": [
    "f1_value, best_threshold = find_best_threshold(clf_rf_grid, X_valid, y_valid, f1_score)\n",
    "print(f\"The best F1 score ({f1_value}) for this model is reached with a threshold of {best_threshold}\")"
   ]
  },
  {
   "cell_type": "markdown",
   "id": "c45cd9fa-45e3-4b11-83e9-d8a0ada60ca2",
   "metadata": {},
   "source": [
    "#### We train a new model using the best parameters"
   ]
  },
  {
   "cell_type": "code",
   "execution_count": null,
   "id": "ab66a608-55bc-4c11-86df-1b8481e333c6",
   "metadata": {},
   "outputs": [],
   "source": [
    "clf_rf2 = RandomForestClassifier( **clf_rf_grid.best_params_, random_state=0 )"
   ]
  },
  {
   "cell_type": "code",
   "execution_count": null,
   "id": "aa5a8c01-2229-4834-ad21-60920cbb7d8e",
   "metadata": {},
   "outputs": [],
   "source": [
    "t0 = time.perf_counter()\n",
    "\n",
    "#clf_rf2.fit(X_train_full, y_train_full)\n",
    "clf_rf2.fit(X_train, y_train)\n",
    "\n",
    "tt = time.perf_counter() - t0"
   ]
  },
  {
   "cell_type": "code",
   "execution_count": null,
   "id": "d71159a7-0eb3-4242-9e3d-dc368b871baf",
   "metadata": {},
   "outputs": [],
   "source": [
    "get_scores(\"Grid Random Forest\", clf_rf2, training_time=tt, register=True)"
   ]
  },
  {
   "cell_type": "markdown",
   "id": "260f9f21-c386-4691-a31a-03493ed0efd7",
   "metadata": {},
   "source": [
    "#### Let's use the best threshold"
   ]
  },
  {
   "cell_type": "code",
   "execution_count": null,
   "id": "4f50e586-2f92-43a4-88c6-732d4a22731d",
   "metadata": {},
   "outputs": [],
   "source": [
    "get_scores(f\"Grid Random Forest with {best_threshold} threshold\", clf_rf2, threshold=best_threshold, training_time=tt, register=True, show_roccurves=False)"
   ]
  },
  {
   "cell_type": "markdown",
   "id": "6ba57296-e2ef-4489-9316-3b493c48b12d",
   "metadata": {},
   "source": [
    "## 4. XGBoost Classifier Grid<a class=\"anchor\" id=\"models_xgboost_grid\"></a> [⇪](#menu)"
   ]
  },
  {
   "cell_type": "code",
   "execution_count": null,
   "id": "56595f78-844e-426a-98d0-44afd9b12493",
   "metadata": {},
   "outputs": [],
   "source": [
    "from xgboost import XGBClassifier\n",
    "from sklearn.model_selection import RandomizedSearchCV"
   ]
  },
  {
   "cell_type": "code",
   "execution_count": null,
   "id": "f3f4b705-0650-4150-97e1-fc9d83bf8a2a",
   "metadata": {},
   "outputs": [],
   "source": [
    "param_grid = {\n",
    "    'max_depth': range (2, 10, 1),\n",
    "    'n_estimators': range(60, 220, 40),\n",
    "    'learning_rate': [0.1, 0.01, 0.05]\n",
    "}"
   ]
  },
  {
   "cell_type": "code",
   "execution_count": null,
   "id": "27ce4700-0c0b-40cf-8bbc-0fc4a95ffa72",
   "metadata": {},
   "outputs": [],
   "source": [
    "clf_xgb_model = XGBClassifier(\n",
    "    # max_depth=6,\n",
    "    # min_child_weight=1,\n",
    "    objective='binary:logistic', # classification\n",
    "    eval_metric='auc', # classification\n",
    "    nthread=-1,\n",
    "    seed=0,\n",
    "    verbosity=1\n",
    ")\n",
    "clf_xgb_grid = RandomizedSearchCV(clf_xgb_model, param_grid, scoring='roc_auc', n_jobs=-1, verbose=1, cv=cv) #cv=10,"
   ]
  },
  {
   "cell_type": "code",
   "execution_count": null,
   "id": "45116a30-e86d-4593-b0a9-09ff37ddb124",
   "metadata": {},
   "outputs": [],
   "source": [
    "t0 = time.perf_counter()\n",
    "\n",
    "#clf_xgb_grid.fit(X_train_full, y_train_full)\n",
    "clf_xgb_grid.fit(X_train, y_train)\n",
    "\n",
    "tt = time.perf_counter() - t0"
   ]
  },
  {
   "cell_type": "code",
   "execution_count": null,
   "id": "4c1aa067-f085-421c-a574-da0b7946e2d4",
   "metadata": {},
   "outputs": [],
   "source": [
    "clf_xgb_grid.best_params_"
   ]
  },
  {
   "cell_type": "code",
   "execution_count": null,
   "id": "3ba165d2-b039-484e-8116-5b5799184ae7",
   "metadata": {},
   "outputs": [],
   "source": [
    "get_scores(\"Grid GXBoost\", clf_xgb_grid, training_time=tt, register=False, simple=True)"
   ]
  },
  {
   "cell_type": "markdown",
   "id": "548438d0-51d1-4064-b9f8-a49c0e071692",
   "metadata": {},
   "source": [
    "#### Let's find the best threshold"
   ]
  },
  {
   "cell_type": "code",
   "execution_count": null,
   "id": "dacd8e72-5fd3-4c01-9cc8-dad75abbf132",
   "metadata": {},
   "outputs": [],
   "source": [
    "f1_value, best_threshold = find_best_threshold(clf_xgb_grid, X_valid, y_valid, f1_score)\n",
    "print(f\"The best F1 score ({f1_value}) for this model is reached with a threshold of {best_threshold}\")"
   ]
  },
  {
   "cell_type": "markdown",
   "id": "8617bfb5-f858-4e94-810c-6a870d6268e5",
   "metadata": {},
   "source": [
    "#### We train a new model using the best parameters"
   ]
  },
  {
   "cell_type": "code",
   "execution_count": null,
   "id": "c0378706-a3a3-4b17-9818-32b3ae66f268",
   "metadata": {},
   "outputs": [],
   "source": [
    "clf_xgb2 = XGBClassifier(\n",
    "    # max_depth=6,\n",
    "    # min_child_weight=1,\n",
    "    objective='binary:logistic', # classification\n",
    "    eval_metric='auc', # classification\n",
    "    nthread=-1,\n",
    "    seed=0,\n",
    "    verbosity=1,\n",
    "    **clf_xgb_grid.best_params_, \n",
    ")"
   ]
  },
  {
   "cell_type": "code",
   "execution_count": null,
   "id": "eaa05cea-16b6-4e1f-8db1-0a637902968e",
   "metadata": {},
   "outputs": [],
   "source": [
    "t0 = time.perf_counter()\n",
    "\n",
    "#clf_xgb2.fit(X_train_full, y_train_full)\n",
    "clf_xgb2.fit(X_train, y_train)\n",
    "\n",
    "tt = time.perf_counter() - t0"
   ]
  },
  {
   "cell_type": "code",
   "execution_count": null,
   "id": "c9f20ef1-46b4-4b78-93ec-26fee255becc",
   "metadata": {},
   "outputs": [],
   "source": [
    "get_scores(\"Grid XGBoost\", clf_xgb2, training_time=tt, register=True)"
   ]
  },
  {
   "cell_type": "markdown",
   "id": "b7d8e2ae-31a6-4eff-9006-cc3b953fa695",
   "metadata": {},
   "source": [
    "#### Let's use the best threshold"
   ]
  },
  {
   "cell_type": "code",
   "execution_count": null,
   "id": "b919be96-63ca-4de4-9af8-e95eb913fb21",
   "metadata": {},
   "outputs": [],
   "source": [
    "get_scores(f\"Grid XGBoost with {best_threshold} threshold\", clf_xgb2, threshold=best_threshold, training_time=tt, register=True, show_roccurves=False)"
   ]
  },
  {
   "cell_type": "markdown",
   "id": "5946edca-e971-4a69-8649-916178f19038",
   "metadata": {},
   "source": [
    "## 5. Review scores <a class=\"anchor\" id=\"models_grid_scores\"></a> [⇪](#menu)"
   ]
  },
  {
   "cell_type": "code",
   "execution_count": null,
   "id": "ff7b8566-3186-45da-942a-575817d7b1a9",
   "metadata": {},
   "outputs": [],
   "source": [
    "scores"
   ]
  },
  {
   "cell_type": "code",
   "execution_count": null,
   "id": "581e2cea-7d1c-4261-a126-1dcb591e32fe",
   "metadata": {},
   "outputs": [],
   "source": [
    "scores[['Method', 'ROC AUC', 'F1 score', 'Recall']].sort_values('Recall', ascending=False)"
   ]
  },
  {
   "cell_type": "markdown",
   "id": "88f4c378-24f3-49b4-9a52-9f44cb5a9e9d",
   "metadata": {},
   "source": [
    "# Impoving the models with solutions for Imbalanced datasets <a class=\"anchor\" id=\"models_balanced\"></a> [⇪](#menu)"
   ]
  },
  {
   "cell_type": "markdown",
   "id": "7aadbc42-a874-456a-8ff8-377f1bb57ede",
   "metadata": {},
   "source": [
    "## 1. Balanced Logistic Regression Grid<a class=\"anchor\" id=\"models_linear_balanced\"></a> [⇪](#menu)"
   ]
  },
  {
   "cell_type": "code",
   "execution_count": null,
   "id": "62166466-182f-4b80-bce8-fd0f30126306",
   "metadata": {},
   "outputs": [],
   "source": [
    "param_grid = [\n",
    "    {\n",
    "        'solver' : ['lbfgs'],\n",
    "        'penalty' : ['l2'], # none\n",
    "        'C' : [1e-5, 1e-4, 1e-3, 1e-2, 1e-1, 1, 10, 100],\n",
    "    },\n",
    "    {\n",
    "        'solver' : ['liblinear'],\n",
    "        'penalty' : ['l1', 'l2'], # none\n",
    "        'C' : [1e-5, 1e-4, 1e-3, 1e-2, 1e-1, 1, 10, 100],\n",
    "    },\n",
    "    {\n",
    "        'solver' : ['saga'],\n",
    "        'penalty' : ['l1', 'l2', 'elasticnet'], # none\n",
    "        'C' : [1e-5, 1e-4, 1e-3, 1e-2, 1e-1, 1, 10, 100],\n",
    "    },\n",
    "]"
   ]
  },
  {
   "cell_type": "code",
   "execution_count": null,
   "id": "de618160-0a1d-4b02-b1c6-8f079ba93b04",
   "metadata": {},
   "outputs": [],
   "source": [
    "clf_log_model_imb = LogisticRegression(max_iter=1000, random_state=0, class_weight='balanced')\n",
    "clf_log_imb = GridSearchCV(clf_log_model_imb, param_grid, scoring='roc_auc', n_jobs=-1, verbose=1, cv=cv) #cv=10,"
   ]
  },
  {
   "cell_type": "code",
   "execution_count": null,
   "id": "9b932e00-6188-4d49-94cb-d086a70a1bf0",
   "metadata": {},
   "outputs": [],
   "source": [
    "t0 = time.perf_counter()\n",
    "\n",
    "#clf_log_imb.fit(X_train_full, y_train_full)\n",
    "clf_log_imb.fit(X_train, y_train)\n",
    "\n",
    "tt = time.perf_counter() - t0"
   ]
  },
  {
   "cell_type": "code",
   "execution_count": null,
   "id": "5d47e48d-60db-44f9-bb37-6a31af75c7fc",
   "metadata": {},
   "outputs": [],
   "source": [
    "clf_log_imb.best_params_"
   ]
  },
  {
   "cell_type": "code",
   "execution_count": null,
   "id": "a7b6bb3a-f9f1-43e5-8bc7-a3888da56e89",
   "metadata": {},
   "outputs": [],
   "source": [
    "get_scores(\"Balanced LogReg\", clf_log_imb, training_time=tt, register=False, simple=True)"
   ]
  },
  {
   "cell_type": "markdown",
   "id": "95756e0c-220b-4d4f-8d89-60cd41511b27",
   "metadata": {},
   "source": [
    "#### Let's find the best threshold"
   ]
  },
  {
   "cell_type": "code",
   "execution_count": null,
   "id": "55ea473e-4413-49de-addf-66b9e63ea5e4",
   "metadata": {},
   "outputs": [],
   "source": [
    "f1_value, best_threshold = find_best_threshold(clf_log_imb, X_valid, y_valid, f1_score)\n",
    "print(f\"The best F1 score ({f1_value}) for this model is reached with a threshold of {best_threshold}\")"
   ]
  },
  {
   "cell_type": "markdown",
   "id": "462135de-261f-4973-9923-316b1a6e6fe5",
   "metadata": {},
   "source": [
    "#### We train a new model using the best parameters"
   ]
  },
  {
   "cell_type": "code",
   "execution_count": null,
   "id": "3f695265-7a08-47ba-a4f1-0ca114a4ff07",
   "metadata": {},
   "outputs": [],
   "source": [
    "clf_log_imb2 = LogisticRegression( **clf_log_imb.best_params_, max_iter=1000, random_state=0, class_weight='balanced')"
   ]
  },
  {
   "cell_type": "code",
   "execution_count": null,
   "id": "6edaee32-a6d7-4073-b180-847b742fbe05",
   "metadata": {},
   "outputs": [],
   "source": [
    "t0 = time.perf_counter()\n",
    "\n",
    "#clf_log_imb2.fit(X_train_full, y_train_full)\n",
    "clf_log_imb2.fit(X_train, y_train)\n",
    "\n",
    "tt = time.perf_counter() - t0"
   ]
  },
  {
   "cell_type": "code",
   "execution_count": null,
   "id": "ab141917-a916-4bb7-b348-b07ce466db26",
   "metadata": {},
   "outputs": [],
   "source": [
    "get_scores(\"Balanced LogReg\", clf_log_imb2, training_time=tt, register=True)"
   ]
  },
  {
   "cell_type": "markdown",
   "id": "7a1bdcda-0cf0-4438-803d-824977c6e39c",
   "metadata": {},
   "source": [
    "#### Let's use the best threshold"
   ]
  },
  {
   "cell_type": "code",
   "execution_count": null,
   "id": "68c3a5ef-fe72-41d0-b40d-88aa1463fe53",
   "metadata": {},
   "outputs": [],
   "source": [
    "get_scores(f\"Balanced LogReg with {best_threshold} threshold\", clf_log_imb2, threshold=best_threshold, training_time=tt, register=True, show_roccurves=False)"
   ]
  },
  {
   "cell_type": "markdown",
   "id": "b9e77e5a-d101-4ed5-baa3-d9df52871aaa",
   "metadata": {},
   "source": [
    "## 2. Balanced Decision Tree Grid <a class=\"anchor\" id=\"models_decision_tree_balanced\"></a> [⇪](#menu)"
   ]
  },
  {
   "cell_type": "code",
   "execution_count": null,
   "id": "a4297857-ef2e-4a9a-8310-7bfae5cc1070",
   "metadata": {},
   "outputs": [],
   "source": [
    "param_grid = {\n",
    "    'max_features': [None, 'auto', 'sqrt', 'log2'],\n",
    "    'ccp_alpha': [0.0, 0.1, .01, .001],\n",
    "    'max_depth' : [None, 1, 2, 3, 4, 5, 6, 7, 8, 9],\n",
    "    #'max_depth':[1,2,3,4,5,6,7,8,9,10,11,12,15,20,30,40,50,70,90,120,150]\n",
    "    'criterion' :['gini', 'entropy']\n",
    "}"
   ]
  },
  {
   "cell_type": "code",
   "execution_count": null,
   "id": "db48cd30-c2b8-4542-962b-5a367226c8f0",
   "metadata": {},
   "outputs": [],
   "source": [
    "clf_dt_model_imb = DecisionTreeClassifier(random_state=0, class_weight='balanced')\n",
    "clf_dt_imb = GridSearchCV(clf_dt_model_imb, param_grid, scoring='roc_auc', n_jobs=-1, verbose=1, cv=cv) #cv=10,"
   ]
  },
  {
   "cell_type": "code",
   "execution_count": null,
   "id": "e71f9c73-f156-4b9d-8cb1-ef4c1598eb23",
   "metadata": {},
   "outputs": [],
   "source": [
    "t0 = time.perf_counter()\n",
    "\n",
    "#clf_dt_imb.fit(X_train_full, y_train_full)\n",
    "clf_dt_imb.fit(X_train, y_train)\n",
    "\n",
    "tt = time.perf_counter() - t0"
   ]
  },
  {
   "cell_type": "code",
   "execution_count": null,
   "id": "e5889010-5ea3-4150-a126-95483d6181d0",
   "metadata": {},
   "outputs": [],
   "source": [
    "clf_dt_imb.best_params_"
   ]
  },
  {
   "cell_type": "code",
   "execution_count": null,
   "id": "70013f34-2f55-4fa9-a1b3-6fbcee42b30b",
   "metadata": {},
   "outputs": [],
   "source": [
    "get_scores(\"Balanced Decision Tree\", clf_dt_imb, training_time=tt, register=False, simple=True)"
   ]
  },
  {
   "cell_type": "markdown",
   "id": "751dd9ae-54f7-402b-8759-454f6a5d0fb3",
   "metadata": {},
   "source": [
    "#### Let's find the best threshold"
   ]
  },
  {
   "cell_type": "code",
   "execution_count": null,
   "id": "335664a6-626f-4cd1-aa08-6a83429a96d1",
   "metadata": {},
   "outputs": [],
   "source": [
    "f1_value, best_threshold = find_best_threshold(clf_dt_imb, X_valid, y_valid, f1_score)\n",
    "print(f\"The best F1 score ({f1_value}) for this model is reached with a threshold of {best_threshold}\")"
   ]
  },
  {
   "cell_type": "markdown",
   "id": "6137562a-d2f0-4b50-b3d9-9a0d20220668",
   "metadata": {},
   "source": [
    "#### We train a new model using the best parameters"
   ]
  },
  {
   "cell_type": "code",
   "execution_count": null,
   "id": "d3061325-33d1-48fc-936c-a7c74eb35327",
   "metadata": {},
   "outputs": [],
   "source": [
    "clf_dt_imb2 = DecisionTreeClassifier( **clf_dt_imb.best_params_, random_state=0, class_weight='balanced' )"
   ]
  },
  {
   "cell_type": "code",
   "execution_count": null,
   "id": "6b02f86a-4128-4977-9666-b7914af5de31",
   "metadata": {},
   "outputs": [],
   "source": [
    "t0 = time.perf_counter()\n",
    "\n",
    "#clf_dt_imb2.fit(X_train_full, y_train_full)\n",
    "clf_dt_imb2.fit(X_train, y_train)\n",
    "\n",
    "tt = time.perf_counter() - t0"
   ]
  },
  {
   "cell_type": "code",
   "execution_count": null,
   "id": "c389845f-1a11-45b9-96b0-6e63ab967bc2",
   "metadata": {},
   "outputs": [],
   "source": [
    "get_scores(\"Balanced Decision Tree\", clf_dt_imb2, training_time=tt, register=True)"
   ]
  },
  {
   "cell_type": "markdown",
   "id": "2cf1afc1-8329-4ad9-b621-fc45937dfe95",
   "metadata": {},
   "source": [
    "#### Let's use the best threshold"
   ]
  },
  {
   "cell_type": "code",
   "execution_count": null,
   "id": "e8c1092d-59e4-476b-840e-f586ba0b4157",
   "metadata": {},
   "outputs": [],
   "source": [
    "get_scores(f\"Balanced Decision Tree with {best_threshold} threshold\", clf_dt_imb2, threshold=best_threshold, training_time=tt, register=True, show_roccurves=False)"
   ]
  },
  {
   "cell_type": "markdown",
   "id": "3edbff25-07ba-4d7b-861a-992b2ad0a581",
   "metadata": {},
   "source": [
    "## 3. Balanced Random Forest Grid <a class=\"anchor\" id=\"models_random_forest_balanced\"></a> [⇪](#menu)"
   ]
  },
  {
   "cell_type": "code",
   "execution_count": null,
   "id": "90a62eef-bb43-4aac-8c27-6e6207bf2320",
   "metadata": {},
   "outputs": [],
   "source": [
    "param_grid = {\n",
    "    'max_features': ['auto', 'sqrt', 'log2'],\n",
    "    #'ccp_alpha': [0.1, .01, .001],\n",
    "    'max_depth' : [None, 1, 2, 3, 4, 5, 6, 7, 8, 9],\n",
    "    'criterion' :['gini', 'entropy'],\n",
    "    'n_estimators' :[64, 100, 128, 256, 528]\n",
    "}"
   ]
  },
  {
   "cell_type": "code",
   "execution_count": null,
   "id": "4bf55974-e0fc-4926-944a-a31b63e9910c",
   "metadata": {},
   "outputs": [],
   "source": [
    "clf_rf_model_imb = RandomForestClassifier(random_state=0, class_weight='balanced')\n",
    "clf_rf_imb = GridSearchCV(clf_rf_model_imb, param_grid, scoring='roc_auc', n_jobs=-1, verbose=1, cv=cv) #cv=10,"
   ]
  },
  {
   "cell_type": "code",
   "execution_count": null,
   "id": "2d2f6a70-3fff-4a03-8e15-cb6f0edf5566",
   "metadata": {},
   "outputs": [],
   "source": [
    "t0 = time.perf_counter()\n",
    "\n",
    "#clf_rf_imb.fit(X_train_full, y_train_full)\n",
    "clf_rf_imb.fit(X_train, y_train)\n",
    "\n",
    "tt = time.perf_counter() - t0"
   ]
  },
  {
   "cell_type": "code",
   "execution_count": null,
   "id": "e9b54f00-43ef-4f80-9847-c615e962e0ab",
   "metadata": {},
   "outputs": [],
   "source": [
    "clf_rf_imb.best_params_"
   ]
  },
  {
   "cell_type": "code",
   "execution_count": null,
   "id": "9169cd28-731a-498f-bcdf-8a59e161f7c8",
   "metadata": {},
   "outputs": [],
   "source": [
    "get_scores(\"Balanced Random Forest\", clf_rf_imb, training_time=tt, register=False, simple=True)"
   ]
  },
  {
   "cell_type": "markdown",
   "id": "ea568b4c-00af-4ba2-8bd7-85b6670f1e23",
   "metadata": {},
   "source": [
    "#### Let's find the best threshold"
   ]
  },
  {
   "cell_type": "code",
   "execution_count": null,
   "id": "823ac352-6a00-492b-a696-738ce7870d7c",
   "metadata": {},
   "outputs": [],
   "source": [
    "f1_value, best_threshold = find_best_threshold(clf_rf_imb, X_valid, y_valid, f1_score)\n",
    "print(f\"The best F1 score ({f1_value}) for this model is reached with a threshold of {best_threshold}\")"
   ]
  },
  {
   "cell_type": "markdown",
   "id": "875fab32-1811-45d9-9f13-8d1d69189b81",
   "metadata": {},
   "source": [
    "#### We train a new model using the best parameters"
   ]
  },
  {
   "cell_type": "code",
   "execution_count": null,
   "id": "797a390a-7c52-485c-b4fc-70093d53c876",
   "metadata": {},
   "outputs": [],
   "source": [
    "clf_rf_imb2 = RandomForestClassifier( **clf_rf_imb.best_params_, random_state=0, class_weight='balanced')"
   ]
  },
  {
   "cell_type": "code",
   "execution_count": null,
   "id": "9cc6f528-4b13-4a8f-a3bd-4161c144870b",
   "metadata": {},
   "outputs": [],
   "source": [
    "t0 = time.perf_counter()\n",
    "\n",
    "#clf_rf_imb2.fit(X_train_full, y_train_full)\n",
    "clf_rf_imb2.fit(X_train, y_train)\n",
    "\n",
    "tt = time.perf_counter() - t0"
   ]
  },
  {
   "cell_type": "code",
   "execution_count": null,
   "id": "8702edd0-c8a4-409d-9bdd-d7541cf667e0",
   "metadata": {},
   "outputs": [],
   "source": [
    "get_scores(\"Balanced Random Forest\", clf_rf_imb2, training_time=tt, register=True)"
   ]
  },
  {
   "cell_type": "markdown",
   "id": "efcba9f5-fb1d-4294-92fb-e3b113ffe959",
   "metadata": {},
   "source": [
    "#### Let's use the best threshold"
   ]
  },
  {
   "cell_type": "code",
   "execution_count": null,
   "id": "85c49365-ba67-47e9-bb07-5551ece10e48",
   "metadata": {},
   "outputs": [],
   "source": [
    "get_scores(f\"Balanced Random Forest with {best_threshold} threshold\", clf_rf_imb2, threshold=best_threshold, training_time=tt, register=True, show_roccurves=False)"
   ]
  },
  {
   "cell_type": "markdown",
   "id": "5dcfa0c8-b5a8-4e0b-9307-b077555dee20",
   "metadata": {},
   "source": [
    "## 4. Balanced XGBoost Classifier Grid<a class=\"anchor\" id=\"models_xgboost_balanced\"></a> [⇪](#menu)"
   ]
  },
  {
   "cell_type": "code",
   "execution_count": null,
   "id": "2bb119a2-af28-4dc3-896d-7fb681303609",
   "metadata": {},
   "outputs": [],
   "source": [
    "from xgboost import XGBClassifier\n",
    "from sklearn.model_selection import RandomizedSearchCV"
   ]
  },
  {
   "cell_type": "code",
   "execution_count": null,
   "id": "fa8497ce-2381-4de5-8dbc-2cefff51bb2e",
   "metadata": {},
   "outputs": [],
   "source": [
    "param_grid = {\n",
    "    'max_depth': range (2, 10, 1),\n",
    "    'n_estimators': range(60, 220, 40),\n",
    "    'learning_rate': [0.1, 0.01, 0.05]\n",
    "}"
   ]
  },
  {
   "cell_type": "code",
   "execution_count": null,
   "id": "11be0522-58f6-49b1-8f02-5eb8ef9c5fe4",
   "metadata": {},
   "outputs": [],
   "source": [
    "from collections import Counter"
   ]
  },
  {
   "cell_type": "code",
   "execution_count": null,
   "id": "bb8af1e3-58c6-4cc1-b1d4-09ea0408cbfd",
   "metadata": {},
   "outputs": [],
   "source": [
    "counter = Counter(y_train)\n",
    "scale_weigth = counter[0] / counter[1]\n",
    "scale_weigth"
   ]
  },
  {
   "cell_type": "code",
   "execution_count": null,
   "id": "70701f78-ed49-47f1-92c0-e0ac18eaea42",
   "metadata": {},
   "outputs": [],
   "source": [
    "clf_xgb_model_imb = XGBClassifier(\n",
    "    objective='binary:logistic',\n",
    "    eval_metric='auc',\n",
    "    nthread=8,\n",
    "    seed=0,\n",
    "    verbosity=1,\n",
    "    scale_pos_weight=scale_weigth\n",
    ")\n",
    "clf_xgb_imb = RandomizedSearchCV(clf_xgb_model_imb, param_grid, scoring='roc_auc', n_jobs=-1, verbose=1, cv=cv) #cv=10,"
   ]
  },
  {
   "cell_type": "code",
   "execution_count": null,
   "id": "9894c153-be4a-437b-bb43-43994194c5a7",
   "metadata": {},
   "outputs": [],
   "source": [
    "t0 = time.perf_counter()\n",
    "\n",
    "#clf_xgb_imb.fit(X_train_full, y_train_full)\n",
    "clf_xgb_imb.fit(X_train, y_train)\n",
    "\n",
    "tt = time.perf_counter() - t0"
   ]
  },
  {
   "cell_type": "code",
   "execution_count": null,
   "id": "789449c8-a0f6-4f6b-a1c0-dcc531e22111",
   "metadata": {},
   "outputs": [],
   "source": [
    "clf_xgb_imb.best_params_"
   ]
  },
  {
   "cell_type": "code",
   "execution_count": null,
   "id": "59ba6c09-4af8-46c7-bae4-f354bfddd3da",
   "metadata": {},
   "outputs": [],
   "source": [
    "get_scores(\"Balanced XGBoost\", clf_xgb_imb, training_time=tt, register=False, simple=True)"
   ]
  },
  {
   "cell_type": "markdown",
   "id": "4a02b40b-bed5-4fdc-9f97-ed5beb0fb3ce",
   "metadata": {},
   "source": [
    "#### Let's find the best threshold"
   ]
  },
  {
   "cell_type": "code",
   "execution_count": null,
   "id": "d0068314-2ad2-4032-8f0f-28da8334ea7d",
   "metadata": {},
   "outputs": [],
   "source": [
    "f1_value, best_threshold = find_best_threshold(clf_xgb_imb, X_valid, y_valid, f1_score)\n",
    "print(f\"The best F1 score ({f1_value}) for this model is reached with a threshold of {best_threshold}\")"
   ]
  },
  {
   "cell_type": "markdown",
   "id": "58f4ff47-cd4b-458b-ae76-e13089dcdefc",
   "metadata": {},
   "source": [
    "#### We train a new model using the best parameters"
   ]
  },
  {
   "cell_type": "code",
   "execution_count": null,
   "id": "d2f1837b-8097-40f4-abc5-d05ba4c7586b",
   "metadata": {},
   "outputs": [],
   "source": [
    "clf_xgb_imb2 = XGBClassifier(\n",
    "    objective='binary:logistic',\n",
    "    eval_metric='auc',\n",
    "    nthread=-1,\n",
    "    seed=0,\n",
    "    verbosity=1,\n",
    "    **clf_xgb_imb.best_params_, \n",
    "    random_state=0,\n",
    "    scale_pos_weight=scale_weigth\n",
    ")"
   ]
  },
  {
   "cell_type": "code",
   "execution_count": null,
   "id": "455f31b1-1d7d-4548-9a28-397ef03be618",
   "metadata": {},
   "outputs": [],
   "source": [
    "t0 = time.perf_counter()\n",
    "\n",
    "#clf_xgb_imb2.fit(X_train_full, y_train_full)\n",
    "clf_xgb_imb2.fit(X_train, y_train)\n",
    "\n",
    "tt = time.perf_counter() - t0"
   ]
  },
  {
   "cell_type": "code",
   "execution_count": null,
   "id": "89a6ec27-1fa4-496a-aa43-2682997f184e",
   "metadata": {},
   "outputs": [],
   "source": [
    "get_scores(\"Balanced XGBoost\", clf_xgb_imb2, training_time=tt, register=True)"
   ]
  },
  {
   "cell_type": "markdown",
   "id": "afa334fc-65c7-48b1-b2bd-1ad4033957d2",
   "metadata": {},
   "source": [
    "#### Let's use the best threshold"
   ]
  },
  {
   "cell_type": "code",
   "execution_count": null,
   "id": "dbe31694-41b1-4cdc-9740-86731f9268fd",
   "metadata": {},
   "outputs": [],
   "source": [
    "get_scores(f\"Balanced XGBoost with {best_threshold} threshold\", clf_xgb_imb2, threshold=best_threshold, training_time=tt, register=True, show_roccurves=False)"
   ]
  },
  {
   "cell_type": "markdown",
   "id": "e7098e99-b5ab-46df-a018-2d2b836413bf",
   "metadata": {},
   "source": [
    "## 5. Review scores <a class=\"anchor\" id=\"models_balanced_scores\"></a> [⇪](#menu)"
   ]
  },
  {
   "cell_type": "code",
   "execution_count": null,
   "id": "15a52887-6866-43a1-a1f6-70c9d14b645f",
   "metadata": {},
   "outputs": [],
   "source": [
    "scores"
   ]
  },
  {
   "cell_type": "code",
   "execution_count": null,
   "id": "0ef862ea-ea07-4817-9211-08d85acbcc2f",
   "metadata": {},
   "outputs": [],
   "source": [
    "scores[['Method', 'ROC AUC', 'F1 score', 'Recall']].sort_values('ROC AUC', ascending=False)"
   ]
  },
  {
   "cell_type": "markdown",
   "id": "3cb5b7a4-4bdd-4db3-b327-58cdc0eb3257",
   "metadata": {},
   "source": [
    "# Custom metric <a class=\"anchor\" id=\"custom_metric\"></a> [⇪](#menu)"
   ]
  },
  {
   "cell_type": "markdown",
   "id": "a5cbde89-584d-425b-b613-bae18088a8b2",
   "metadata": {},
   "source": [
    "## 1. The problem <a class=\"anchor\" id=\"custom_metric_problem\"></a> [⇪](#menu)\n",
    "\n",
    ">#### Let's interpret the four correlation matrix values in regards to this project:\n",
    "> - `(TP) True Positive` : the client is predicted as NOT OK and it really is NOT OK. *(we **save** money)*\n",
    "> - `(TN) True Negative` : the client is predicted as OK and it really is OK. *(we **earn** money)*\n",
    "> - `(FP) False Positive` : the client is predicted as OK but it is in fact NOT OK. *(we **miss** money)*\n",
    "> - `(FN) False Negative` : the client is predicted as NOT OK but it is in fact OK. *(we **lose** money)*\n",
    ">\n",
    ">#### So the goals in order of importance are:\n",
    "> 1. minimize the `(FN) False Negative` to **avoid losing money**.\n",
    "> 2. maximize the `(TN) True Negative` to **earn money**.\n",
    "> 3. maximize the `(TP) True Positive` to save money.\n",
    "> 4. minimize the `(FP) False Positive` to avoid missing money.\n",
    "\n",
    ">#### Currently we are using the F1-measure and the ROC-AUC score.\n",
    ">\n",
    "> - The `F1-Measure` **balance the weight** on PRECISION and RECALL.\n",
    "> - The `ROC AUC score`  summarize the **trade-off** between the true positive rate (RECALL) and false positive rate (ANTI-SPECIFICITY).\n",
    ">\n",
    "\n",
    "> RECALL = $\\frac{TP}{TP + FN}$\n",
    "> - High RECALL favors TP over FN\n",
    "> - Low RECALL favors FN over TP\n",
    "\n",
    "> PRECISION = $\\frac{TP}{TP + FP}$\n",
    "> - High PRECISION favors TP over FP\n",
    "> - Low PRECISION favors FP over TP\n",
    "\n",
    "> ANTI-SPECIFICITY = 1 - SPECIFICITY = 1 - $\\frac{TN}{TN + FS}$ = $\\frac{FP}{FP + TN}$\n",
    "> - High ANTI-SPECIFICITY favors FP over TN\n",
    "> - Low ANTI-SPECIFICITY favors TN over FP"
   ]
  },
  {
   "cell_type": "markdown",
   "id": "6b46cb15-5045-4767-9acd-6f7d1562923e",
   "metadata": {},
   "source": [
    "## 2. F-measure <a class=\"anchor\" id=\"custom_metric_solution\"></a> [⇪](#menu)\n",
    "\n",
    "> * `F0.5-Measure`: **More weight on precision**, less weight on recall.\n",
    "> * `F1-Measure`  : **Balance the weight** on precision and recall.\n",
    "> * `F2-Measure`  : **More weight on recall**, less weight on precision.\n",
    "\n",
    ">#### And luckily, there exists a [Fbeta-score](https://scikit-learn.org/stable/modules/generated/sklearn.metrics.fbeta_score.html) function in sklearn, which can be used to reproduce those F-measure and any in between measure... So we can in fact decide how much weight we want to give to RECALL.\n",
    "\n",
    ">#### We want to maximize this `Fbeta-score` with beta > 1.0 !"
   ]
  },
  {
   "cell_type": "code",
   "execution_count": null,
   "id": "13c399d9-0db8-46e6-8197-8fd58df7beae",
   "metadata": {},
   "outputs": [],
   "source": [
    "from sklearn.metrics import fbeta_score\n",
    "fb_score = fbeta_score(y_test, y_pred_log, beta=2.0)\n",
    "fb_score"
   ]
  },
  {
   "cell_type": "markdown",
   "id": "9340001e-3a36-4d94-9519-fb1207bfdc9a",
   "metadata": {},
   "source": [
    "# Feature Engineering"
   ]
  },
  {
   "cell_type": "code",
   "execution_count": null,
   "id": "dfb4df17-0fdb-4084-997a-6ddea5415a34",
   "metadata": {},
   "outputs": [],
   "source": [
    "data_application_full = pd.read_csv(\n",
    "    zip_file.open('application_train.csv'),\n",
    "    na_values=[\"XNA\", \"Unknown\"], \n",
    "    true_values=[\"Y\", \"Yes\", \"1\"], \n",
    "    false_values=[\"N\", \"No\", \"0\"]\n",
    ")\n",
    "\n",
    "data_application_full.shape"
   ]
  },
  {
   "cell_type": "markdown",
   "id": "77a5e4ad-9ba2-4530-903e-412414e737b2",
   "metadata": {},
   "source": [
    "### What fraction of the price of the goods for which the loan is given, represent the credit amount?"
   ]
  },
  {
   "cell_type": "code",
   "execution_count": null,
   "id": "c5d2f0b3-6564-4c9b-8c80-86580edd859a",
   "metadata": {},
   "outputs": [],
   "source": [
    "data_application_full['FRAC_GOODS_PRICE'] = data_application_full.AMT_CREDIT / data_application_full.AMT_GOODS_PRICE"
   ]
  },
  {
   "cell_type": "code",
   "execution_count": null,
   "id": "51ef00e0-de5e-4ac5-ba4d-da3ff6f52d65",
   "metadata": {},
   "outputs": [],
   "source": [
    "data_application_full[['AMT_CREDIT','AMT_GOODS_PRICE','FRAC_GOODS_PRICE']].head()"
   ]
  },
  {
   "cell_type": "markdown",
   "id": "a1e3fa2b-8f51-4b6b-83fd-7a526005afe5",
   "metadata": {},
   "source": [
    "### How old was the client when it started his current employement position?"
   ]
  },
  {
   "cell_type": "code",
   "execution_count": null,
   "id": "3438a61d-5d19-4e61-b4d2-d40144fd26e8",
   "metadata": {},
   "outputs": [],
   "source": [
    "data_application_full['AGE_EMPLOYEMENT'] = (data_application_full.DAYS_BIRTH - data_application_full.DAYS_EMPLOYED) / -365"
   ]
  },
  {
   "cell_type": "code",
   "execution_count": null,
   "id": "7282a26f-429d-4f4b-8194-0912f3781dcf",
   "metadata": {},
   "outputs": [],
   "source": [
    "data_application_full[['DAYS_BIRTH','DAYS_EMPLOYED','AGE_EMPLOYEMENT']].head()"
   ]
  },
  {
   "cell_type": "markdown",
   "id": "0246c626-f4c7-4b76-bb81-fd90ed865449",
   "metadata": {},
   "source": [
    "### What fraction of the total incomes per member of the family?"
   ]
  },
  {
   "cell_type": "code",
   "execution_count": null,
   "id": "a1909351-39d9-4400-bb5f-5a5bf9f9f7a6",
   "metadata": {},
   "outputs": [],
   "source": [
    "data_application_full['INCOME_PER_FAM_MEMBER'] = data_application_full.AMT_INCOME_TOTAL / data_application_full.CNT_FAM_MEMBERS"
   ]
  },
  {
   "cell_type": "code",
   "execution_count": null,
   "id": "a9b49a35-5928-490f-9158-0617d29c33a9",
   "metadata": {},
   "outputs": [],
   "source": [
    "data_application_full[['AMT_INCOME_TOTAL','CNT_FAM_MEMBERS','INCOME_PER_FAM_MEMBER']].head()"
   ]
  },
  {
   "cell_type": "markdown",
   "id": "97dcbc07-a418-4b63-9768-f1603e7dbfc9",
   "metadata": {},
   "source": [
    "### How many requests overall have been made to the credit bureau?"
   ]
  },
  {
   "cell_type": "code",
   "execution_count": null,
   "id": "79a09bcd-c27e-428f-ac99-7da93c99b99e",
   "metadata": {},
   "outputs": [],
   "source": [
    "data_application_full['AMT_REQ_CREDIT_BUREAU_TOTAL'] =  data_application_full.AMT_REQ_CREDIT_BUREAU_HOUR +\\\n",
    "                                                        data_application_full.AMT_REQ_CREDIT_BUREAU_DAY +\\\n",
    "                                                        data_application_full.AMT_REQ_CREDIT_BUREAU_WEEK +\\\n",
    "                                                        data_application_full.AMT_REQ_CREDIT_BUREAU_MON +\\\n",
    "                                                        data_application_full.AMT_REQ_CREDIT_BUREAU_QRT +\\\n",
    "                                                        data_application_full.AMT_REQ_CREDIT_BUREAU_YEAR"
   ]
  },
  {
   "cell_type": "code",
   "execution_count": null,
   "id": "04a76641-5112-4ae7-a003-e39fcf12ae2b",
   "metadata": {},
   "outputs": [],
   "source": [
    "data_application_full[['AMT_REQ_CREDIT_BUREAU_HOUR','AMT_REQ_CREDIT_BUREAU_DAY','AMT_REQ_CREDIT_BUREAU_WEEK','AMT_REQ_CREDIT_BUREAU_MON','AMT_REQ_CREDIT_BUREAU_QRT','AMT_REQ_CREDIT_BUREAU_YEAR','AMT_REQ_CREDIT_BUREAU_TOTAL']].head()"
   ]
  },
  {
   "cell_type": "code",
   "execution_count": null,
   "id": "ff7c4148-72fc-4ed2-b790-4a2642b45a80",
   "metadata": {},
   "outputs": [],
   "source": []
  },
  {
   "cell_type": "code",
   "execution_count": null,
   "id": "75c18430-e1dc-4b34-aff7-b249aca4f3c8",
   "metadata": {},
   "outputs": [],
   "source": [
    "data_application_train2 = data_application_train.copy()"
   ]
  },
  {
   "cell_type": "code",
   "execution_count": null,
   "id": "b54c99aa-2669-4c87-8408-6d3cd07da1f6",
   "metadata": {},
   "outputs": [],
   "source": [
    "data_application_train2['FRAC_GOODS_PRICE'] = data_application_full['FRAC_GOODS_PRICE']\n",
    "data_application_train2['AGE_EMPLOYEMENT'] = data_application_full['AGE_EMPLOYEMENT']\n",
    "data_application_train2['INCOME_PER_FAM_MEMBER'] = data_application_full['INCOME_PER_FAM_MEMBER']\n",
    "data_application_train2['AMT_REQ_CREDIT_BUREAU_TOTAL'] = data_application_full['AMT_REQ_CREDIT_BUREAU_TOTAL']"
   ]
  },
  {
   "cell_type": "code",
   "execution_count": null,
   "id": "9e24086a-86a8-4b47-a1b7-daf745bae2ad",
   "metadata": {},
   "outputs": [],
   "source": []
  },
  {
   "cell_type": "code",
   "execution_count": null,
   "id": "26ae34c6-403c-413d-85dc-87316d319ac0",
   "metadata": {},
   "outputs": [],
   "source": []
  },
  {
   "cell_type": "code",
   "execution_count": null,
   "id": "25f4ae40-7aae-421e-a23f-c97226bdf1f5",
   "metadata": {},
   "outputs": [],
   "source": [
    "correlations = data_application_train2.corr(method='pearson')"
   ]
  },
  {
   "cell_type": "markdown",
   "id": "ab8ca51c-85a0-47d6-8728-823b8a66b6b4",
   "metadata": {},
   "source": [
    "#### ---- Let's check for the top correlations with the `TARGET` variable ----"
   ]
  },
  {
   "cell_type": "code",
   "execution_count": null,
   "id": "30bd09b0-863c-4c40-9126-4324552ab00b",
   "metadata": {},
   "outputs": [],
   "source": [
    "view_size = 100\n",
    "threshold = 0.0\n",
    "corr_target = correlations.TARGET.sort_values(ascending=False)\n",
    "print(f\"{f'TOP POSITIVES > {threshold}'.rjust(40)}          {f'TOP NEGATIVES < -{threshold}'.rjust(40)}\\n{'-'*100}\")\n",
    "for i, row in enumerate(zip(\n",
    "    corr_target.head(view_size).index, corr_target.head(view_size), \n",
    "    reversed(corr_target.tail(view_size).index), reversed(corr_target.tail(view_size)))):\n",
    "    \n",
    "    print(f\"{row[0].rjust(40)} : {row[1]:6.4f} {row[2].rjust(40)} : {row[3]:6.4f}\")\n",
    "    if((row[1] < threshold and row[3] > -threshold) or (i>=len(corr_target)//2)):\n",
    "        break"
   ]
  },
  {
   "cell_type": "code",
   "execution_count": null,
   "id": "c84ff841-ea11-4f3d-8b1b-8c860db1ac93",
   "metadata": {},
   "outputs": [],
   "source": []
  },
  {
   "cell_type": "code",
   "execution_count": null,
   "id": "0da9d5c2-f189-4b05-bace-df408540c1c1",
   "metadata": {},
   "outputs": [],
   "source": []
  },
  {
   "cell_type": "code",
   "execution_count": null,
   "id": "a3233856-efdc-46e8-acac-0328ec11a158",
   "metadata": {},
   "outputs": [],
   "source": [
    "correlations = data_application_train.corr(method='pearson')"
   ]
  },
  {
   "cell_type": "markdown",
   "id": "430c0d94-1c3a-41f4-8bdb-bafe343b8fcb",
   "metadata": {},
   "source": [
    "#### ---- Let's check for the top correlations with the `TARGET` variable ----"
   ]
  },
  {
   "cell_type": "code",
   "execution_count": null,
   "id": "bef1bfe6-c87e-4ab3-b128-a5e8c79a9a1c",
   "metadata": {},
   "outputs": [],
   "source": [
    "view_size = 100\n",
    "threshold = 0.0\n",
    "corr_target = correlations.TARGET.sort_values(ascending=False)\n",
    "print(f\"{f'TOP POSITIVES > {threshold}'.rjust(40)}          {f'TOP NEGATIVES < -{threshold}'.rjust(40)}\\n{'-'*100}\")\n",
    "for i, row in enumerate(zip(\n",
    "    corr_target.head(view_size).index, corr_target.head(view_size), \n",
    "    reversed(corr_target.tail(view_size).index), reversed(corr_target.tail(view_size)))):\n",
    "    \n",
    "    print(f\"{row[0].rjust(40)} : {row[1]:6.4f} {row[2].rjust(40)} : {row[3]:6.4f}\")\n",
    "    if((row[1] < threshold and row[3] > -threshold) or (i>=len(corr_target)//2)):\n",
    "        break"
   ]
  },
  {
   "cell_type": "code",
   "execution_count": null,
   "id": "08d45cc5-eb1e-40cd-8ad1-79b20e7451d3",
   "metadata": {},
   "outputs": [],
   "source": []
  },
  {
   "cell_type": "code",
   "execution_count": null,
   "id": "2fad2b70-ea6c-4240-a629-eb57e4165498",
   "metadata": {},
   "outputs": [],
   "source": []
  },
  {
   "cell_type": "code",
   "execution_count": null,
   "id": "d87518e6-2ba1-468e-90a7-d0cd1e0b7f16",
   "metadata": {},
   "outputs": [],
   "source": [
    "import FreeMobileSMS as sms\n",
    "sms.send()"
   ]
  },
  {
   "cell_type": "code",
   "execution_count": null,
   "id": "c478144d-8859-4933-884b-4c7d777dd1f6",
   "metadata": {},
   "outputs": [],
   "source": []
  }
 ],
 "metadata": {
  "kernelspec": {
   "display_name": "venvP4",
   "language": "python",
   "name": "venvp4"
  },
  "language_info": {
   "codemirror_mode": {
    "name": "ipython",
    "version": 3
   },
   "file_extension": ".py",
   "mimetype": "text/x-python",
   "name": "python",
   "nbconvert_exporter": "python",
   "pygments_lexer": "ipython3",
   "version": "3.8.10"
  }
 },
 "nbformat": 4,
 "nbformat_minor": 5
}
